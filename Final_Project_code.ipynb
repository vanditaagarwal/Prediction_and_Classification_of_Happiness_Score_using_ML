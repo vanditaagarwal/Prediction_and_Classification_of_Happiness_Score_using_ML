{
  "nbformat": 4,
  "nbformat_minor": 0,
  "metadata": {
    "colab": {
      "provenance": [],
      "include_colab_link": true
    },
    "kernelspec": {
      "name": "python3",
      "display_name": "Python 3"
    },
    "language_info": {
      "name": "python"
    }
  },
  "cells": [
    {
      "cell_type": "markdown",
      "metadata": {
        "id": "view-in-github",
        "colab_type": "text"
      },
      "source": [
        "<a href=\"https://colab.research.google.com/github/vanditaagarwal/Prediction_and_Classification_of_Happiness_Score_using_ML/blob/main/Final_Project_code.ipynb\" target=\"_parent\"><img src=\"https://colab.research.google.com/assets/colab-badge.svg\" alt=\"Open In Colab\"/></a>"
      ]
    },
    {
      "cell_type": "code",
      "execution_count": null,
      "metadata": {
        "id": "WJxNh1HPNQ7o"
      },
      "outputs": [],
      "source": [
        "import pandas as pd\n",
        "import numpy as np\n",
        "from sklearn import datasets, linear_model\n",
        "import seaborn as sns\n",
        "import matplotlib.pyplot as plt\n",
        "%matplotlib inline"
      ]
    },
    {
      "cell_type": "code",
      "source": [
        " data=pd.read_csv('/content/Copy_Happiness_score - Form Responses 1.csv')\n",
        "data.head()"
      ],
      "metadata": {
        "colab": {
          "base_uri": "https://localhost:8080/",
          "height": 664
        },
        "id": "R54EUvzMNk1_",
        "outputId": "087e4733-4e09-4e6b-f6ea-eb0e3f07c0fc"
      },
      "execution_count": null,
      "outputs": [
        {
          "output_type": "execute_result",
          "data": {
            "text/plain": [
              "            Timestamp               NAME  \\\n",
              "0  10/1/2022 10:48:37                NaN   \n",
              "1  10/1/2022 10:50:37    Mrityunjoy Saha   \n",
              "2  10/1/2022 10:52:36                NaN   \n",
              "3  10/1/2022 10:53:14                NaN   \n",
              "4  10/1/2022 11:00:09  Anurupa Karmakar    \n",
              "\n",
              "  I am voluntarily giving this information with my consent .  \\\n",
              "0                                                Yes           \n",
              "1                                                Yes           \n",
              "2                                                Yes           \n",
              "3                                                Yes           \n",
              "4                                                Yes           \n",
              "\n",
              "   Please give ratings to yourself in following fields : [ Anxiety and Depression Level]  \\\n",
              "0                                                  0                                       \n",
              "1                                                  1                                       \n",
              "2                                                  3                                       \n",
              "3                                                  4                                       \n",
              "4                                                  4                                       \n",
              "\n",
              "   Please give ratings to yourself in following fields : [Sleeping Hours (treat this entity as hour)]  \\\n",
              "0                                                 10                                                    \n",
              "1                                                  6                                                    \n",
              "2                                                  6                                                    \n",
              "3                                                  7                                                    \n",
              "4                                                  6                                                    \n",
              "\n",
              "   Please give ratings to yourself in following fields : [Health ]  \\\n",
              "0                                                 10                 \n",
              "1                                                  7                 \n",
              "2                                                  6                 \n",
              "3                                                  8                 \n",
              "4                                                  5                 \n",
              "\n",
              "   Please give ratings to yourself in following fields : [Involvement in Sports Activity]  \\\n",
              "0                                                  7                                        \n",
              "1                                                  1                                        \n",
              "2                                                  3                                        \n",
              "3                                                  7                                        \n",
              "4                                                  2                                        \n",
              "\n",
              "   Please give ratings to yourself in following fields : [Engagement in Extra curricular activities]  \\\n",
              "0                                                  0                                                   \n",
              "1                                                  2                                                   \n",
              "2                                                  4                                                   \n",
              "3                                                  3                                                   \n",
              "4                                                  2                                                   \n",
              "\n",
              "   Please give ratings to yourself in following fields : [Practicing Exercises/ Yoga]  \\\n",
              "0                                                  7                                    \n",
              "1                                                  1                                    \n",
              "2                                                  4                                    \n",
              "3                                                  8                                    \n",
              "4                                                  2                                    \n",
              "\n",
              "   Please give ratings to yourself in following fields : [Effect of quizzes and assignments]  \\\n",
              "0                                                  0                                           \n",
              "1                                                  2                                           \n",
              "2                                                  9                                           \n",
              "3                                                  4                                           \n",
              "4                                                  2                                           \n",
              "\n",
              "   ...  \\\n",
              "0  ...   \n",
              "1  ...   \n",
              "2  ...   \n",
              "3  ...   \n",
              "4  ...   \n",
              "\n",
              "   Please give ratings to yourself in following fields : [Helping, Caring and Sharing]  \\\n",
              "0                                                  5                                     \n",
              "1                                                  8                                     \n",
              "2                                                  5                                     \n",
              "3                                                  8                                     \n",
              "4                                                  9                                     \n",
              "\n",
              "   Please give ratings to yourself in following fields : [Food Satisfaction]  \\\n",
              "0                                                  1                           \n",
              "1                                                  1                           \n",
              "2                                                  5                           \n",
              "3                                                  3                           \n",
              "4                                                  0                           \n",
              "\n",
              "   Please give ratings to yourself in following fields : [Short temperedness]  \\\n",
              "0                                                  0                            \n",
              "1                                                  0                            \n",
              "2                                                  5                            \n",
              "3                                                  3                            \n",
              "4                                                  5                            \n",
              "\n",
              "   Course name   Year ??                                  Department  Gender  \\\n",
              "0          Phd  2nd Year                                 Mathematics    MALE   \n",
              "1          Phd  1st Year                                 Mathematics    MALE   \n",
              "2       B.Tech  3rd Year  Metallurgical & Materials Engineering, and  FEMALE   \n",
              "3          Phd  1st Year                                 Mathematics    MALE   \n",
              "4       M.Tech  2nd Year               Bioscience and Bioengineering  FEMALE   \n",
              "\n",
              "   In a Relationship ??  \\\n",
              "0                   YES   \n",
              "1           COMPLICATED   \n",
              "2           COMPLICATED   \n",
              "3           COMPLICATED   \n",
              "4                   YES   \n",
              "\n",
              "   Are you getting Stipend/fellowship/scholarship or any financial support by government  \\\n",
              "0                                                YES                                       \n",
              "1                                                YES                                       \n",
              "2                                                 NO                                       \n",
              "3                                                YES                                       \n",
              "4                                                YES                                       \n",
              "\n",
              "  What is your happiness score according to you?(give answer in a range of (0-10))  \n",
              "0                                                9.0                                \n",
              "1                                                9.0                                \n",
              "2                                                4.0                                \n",
              "3                                                5.0                                \n",
              "4                                                6.0                                \n",
              "\n",
              "[5 rows x 26 columns]"
            ],
            "text/html": [
              "\n",
              "  <div id=\"df-fb0f35ab-ff13-458f-b4a0-dfb3ea261240\">\n",
              "    <div class=\"colab-df-container\">\n",
              "      <div>\n",
              "<style scoped>\n",
              "    .dataframe tbody tr th:only-of-type {\n",
              "        vertical-align: middle;\n",
              "    }\n",
              "\n",
              "    .dataframe tbody tr th {\n",
              "        vertical-align: top;\n",
              "    }\n",
              "\n",
              "    .dataframe thead th {\n",
              "        text-align: right;\n",
              "    }\n",
              "</style>\n",
              "<table border=\"1\" class=\"dataframe\">\n",
              "  <thead>\n",
              "    <tr style=\"text-align: right;\">\n",
              "      <th></th>\n",
              "      <th>Timestamp</th>\n",
              "      <th>NAME</th>\n",
              "      <th>I am voluntarily giving this information with my consent .</th>\n",
              "      <th>Please give ratings to yourself in following fields : [ Anxiety and Depression Level]</th>\n",
              "      <th>Please give ratings to yourself in following fields : [Sleeping Hours (treat this entity as hour)]</th>\n",
              "      <th>Please give ratings to yourself in following fields : [Health ]</th>\n",
              "      <th>Please give ratings to yourself in following fields : [Involvement in Sports Activity]</th>\n",
              "      <th>Please give ratings to yourself in following fields : [Engagement in Extra curricular activities]</th>\n",
              "      <th>Please give ratings to yourself in following fields : [Practicing Exercises/ Yoga]</th>\n",
              "      <th>Please give ratings to yourself in following fields : [Effect of quizzes and assignments]</th>\n",
              "      <th>...</th>\n",
              "      <th>Please give ratings to yourself in following fields : [Helping, Caring and Sharing]</th>\n",
              "      <th>Please give ratings to yourself in following fields : [Food Satisfaction]</th>\n",
              "      <th>Please give ratings to yourself in following fields : [Short temperedness]</th>\n",
              "      <th>Course name</th>\n",
              "      <th>Year ??</th>\n",
              "      <th>Department</th>\n",
              "      <th>Gender</th>\n",
              "      <th>In a Relationship ??</th>\n",
              "      <th>Are you getting Stipend/fellowship/scholarship or any financial support by government</th>\n",
              "      <th>What is your happiness score according to you?(give answer in a range of (0-10))</th>\n",
              "    </tr>\n",
              "  </thead>\n",
              "  <tbody>\n",
              "    <tr>\n",
              "      <th>0</th>\n",
              "      <td>10/1/2022 10:48:37</td>\n",
              "      <td>NaN</td>\n",
              "      <td>Yes</td>\n",
              "      <td>0</td>\n",
              "      <td>10</td>\n",
              "      <td>10</td>\n",
              "      <td>7</td>\n",
              "      <td>0</td>\n",
              "      <td>7</td>\n",
              "      <td>0</td>\n",
              "      <td>...</td>\n",
              "      <td>5</td>\n",
              "      <td>1</td>\n",
              "      <td>0</td>\n",
              "      <td>Phd</td>\n",
              "      <td>2nd Year</td>\n",
              "      <td>Mathematics</td>\n",
              "      <td>MALE</td>\n",
              "      <td>YES</td>\n",
              "      <td>YES</td>\n",
              "      <td>9.0</td>\n",
              "    </tr>\n",
              "    <tr>\n",
              "      <th>1</th>\n",
              "      <td>10/1/2022 10:50:37</td>\n",
              "      <td>Mrityunjoy Saha</td>\n",
              "      <td>Yes</td>\n",
              "      <td>1</td>\n",
              "      <td>6</td>\n",
              "      <td>7</td>\n",
              "      <td>1</td>\n",
              "      <td>2</td>\n",
              "      <td>1</td>\n",
              "      <td>2</td>\n",
              "      <td>...</td>\n",
              "      <td>8</td>\n",
              "      <td>1</td>\n",
              "      <td>0</td>\n",
              "      <td>Phd</td>\n",
              "      <td>1st Year</td>\n",
              "      <td>Mathematics</td>\n",
              "      <td>MALE</td>\n",
              "      <td>COMPLICATED</td>\n",
              "      <td>YES</td>\n",
              "      <td>9.0</td>\n",
              "    </tr>\n",
              "    <tr>\n",
              "      <th>2</th>\n",
              "      <td>10/1/2022 10:52:36</td>\n",
              "      <td>NaN</td>\n",
              "      <td>Yes</td>\n",
              "      <td>3</td>\n",
              "      <td>6</td>\n",
              "      <td>6</td>\n",
              "      <td>3</td>\n",
              "      <td>4</td>\n",
              "      <td>4</td>\n",
              "      <td>9</td>\n",
              "      <td>...</td>\n",
              "      <td>5</td>\n",
              "      <td>5</td>\n",
              "      <td>5</td>\n",
              "      <td>B.Tech</td>\n",
              "      <td>3rd Year</td>\n",
              "      <td>Metallurgical &amp; Materials Engineering, and</td>\n",
              "      <td>FEMALE</td>\n",
              "      <td>COMPLICATED</td>\n",
              "      <td>NO</td>\n",
              "      <td>4.0</td>\n",
              "    </tr>\n",
              "    <tr>\n",
              "      <th>3</th>\n",
              "      <td>10/1/2022 10:53:14</td>\n",
              "      <td>NaN</td>\n",
              "      <td>Yes</td>\n",
              "      <td>4</td>\n",
              "      <td>7</td>\n",
              "      <td>8</td>\n",
              "      <td>7</td>\n",
              "      <td>3</td>\n",
              "      <td>8</td>\n",
              "      <td>4</td>\n",
              "      <td>...</td>\n",
              "      <td>8</td>\n",
              "      <td>3</td>\n",
              "      <td>3</td>\n",
              "      <td>Phd</td>\n",
              "      <td>1st Year</td>\n",
              "      <td>Mathematics</td>\n",
              "      <td>MALE</td>\n",
              "      <td>COMPLICATED</td>\n",
              "      <td>YES</td>\n",
              "      <td>5.0</td>\n",
              "    </tr>\n",
              "    <tr>\n",
              "      <th>4</th>\n",
              "      <td>10/1/2022 11:00:09</td>\n",
              "      <td>Anurupa Karmakar</td>\n",
              "      <td>Yes</td>\n",
              "      <td>4</td>\n",
              "      <td>6</td>\n",
              "      <td>5</td>\n",
              "      <td>2</td>\n",
              "      <td>2</td>\n",
              "      <td>2</td>\n",
              "      <td>2</td>\n",
              "      <td>...</td>\n",
              "      <td>9</td>\n",
              "      <td>0</td>\n",
              "      <td>5</td>\n",
              "      <td>M.Tech</td>\n",
              "      <td>2nd Year</td>\n",
              "      <td>Bioscience and Bioengineering</td>\n",
              "      <td>FEMALE</td>\n",
              "      <td>YES</td>\n",
              "      <td>YES</td>\n",
              "      <td>6.0</td>\n",
              "    </tr>\n",
              "  </tbody>\n",
              "</table>\n",
              "<p>5 rows × 26 columns</p>\n",
              "</div>\n",
              "      <button class=\"colab-df-convert\" onclick=\"convertToInteractive('df-fb0f35ab-ff13-458f-b4a0-dfb3ea261240')\"\n",
              "              title=\"Convert this dataframe to an interactive table.\"\n",
              "              style=\"display:none;\">\n",
              "        \n",
              "  <svg xmlns=\"http://www.w3.org/2000/svg\" height=\"24px\"viewBox=\"0 0 24 24\"\n",
              "       width=\"24px\">\n",
              "    <path d=\"M0 0h24v24H0V0z\" fill=\"none\"/>\n",
              "    <path d=\"M18.56 5.44l.94 2.06.94-2.06 2.06-.94-2.06-.94-.94-2.06-.94 2.06-2.06.94zm-11 1L8.5 8.5l.94-2.06 2.06-.94-2.06-.94L8.5 2.5l-.94 2.06-2.06.94zm10 10l.94 2.06.94-2.06 2.06-.94-2.06-.94-.94-2.06-.94 2.06-2.06.94z\"/><path d=\"M17.41 7.96l-1.37-1.37c-.4-.4-.92-.59-1.43-.59-.52 0-1.04.2-1.43.59L10.3 9.45l-7.72 7.72c-.78.78-.78 2.05 0 2.83L4 21.41c.39.39.9.59 1.41.59.51 0 1.02-.2 1.41-.59l7.78-7.78 2.81-2.81c.8-.78.8-2.07 0-2.86zM5.41 20L4 18.59l7.72-7.72 1.47 1.35L5.41 20z\"/>\n",
              "  </svg>\n",
              "      </button>\n",
              "      \n",
              "  <style>\n",
              "    .colab-df-container {\n",
              "      display:flex;\n",
              "      flex-wrap:wrap;\n",
              "      gap: 12px;\n",
              "    }\n",
              "\n",
              "    .colab-df-convert {\n",
              "      background-color: #E8F0FE;\n",
              "      border: none;\n",
              "      border-radius: 50%;\n",
              "      cursor: pointer;\n",
              "      display: none;\n",
              "      fill: #1967D2;\n",
              "      height: 32px;\n",
              "      padding: 0 0 0 0;\n",
              "      width: 32px;\n",
              "    }\n",
              "\n",
              "    .colab-df-convert:hover {\n",
              "      background-color: #E2EBFA;\n",
              "      box-shadow: 0px 1px 2px rgba(60, 64, 67, 0.3), 0px 1px 3px 1px rgba(60, 64, 67, 0.15);\n",
              "      fill: #174EA6;\n",
              "    }\n",
              "\n",
              "    [theme=dark] .colab-df-convert {\n",
              "      background-color: #3B4455;\n",
              "      fill: #D2E3FC;\n",
              "    }\n",
              "\n",
              "    [theme=dark] .colab-df-convert:hover {\n",
              "      background-color: #434B5C;\n",
              "      box-shadow: 0px 1px 3px 1px rgba(0, 0, 0, 0.15);\n",
              "      filter: drop-shadow(0px 1px 2px rgba(0, 0, 0, 0.3));\n",
              "      fill: #FFFFFF;\n",
              "    }\n",
              "  </style>\n",
              "\n",
              "      <script>\n",
              "        const buttonEl =\n",
              "          document.querySelector('#df-fb0f35ab-ff13-458f-b4a0-dfb3ea261240 button.colab-df-convert');\n",
              "        buttonEl.style.display =\n",
              "          google.colab.kernel.accessAllowed ? 'block' : 'none';\n",
              "\n",
              "        async function convertToInteractive(key) {\n",
              "          const element = document.querySelector('#df-fb0f35ab-ff13-458f-b4a0-dfb3ea261240');\n",
              "          const dataTable =\n",
              "            await google.colab.kernel.invokeFunction('convertToInteractive',\n",
              "                                                     [key], {});\n",
              "          if (!dataTable) return;\n",
              "\n",
              "          const docLinkHtml = 'Like what you see? Visit the ' +\n",
              "            '<a target=\"_blank\" href=https://colab.research.google.com/notebooks/data_table.ipynb>data table notebook</a>'\n",
              "            + ' to learn more about interactive tables.';\n",
              "          element.innerHTML = '';\n",
              "          dataTable['output_type'] = 'display_data';\n",
              "          await google.colab.output.renderOutput(dataTable, element);\n",
              "          const docLink = document.createElement('div');\n",
              "          docLink.innerHTML = docLinkHtml;\n",
              "          element.appendChild(docLink);\n",
              "        }\n",
              "      </script>\n",
              "    </div>\n",
              "  </div>\n",
              "  "
            ]
          },
          "metadata": {},
          "execution_count": 148
        }
      ]
    },
    {
      "cell_type": "code",
      "source": [
        "df= data.drop(['Timestamp','NAME','I am voluntarily giving this information with my consent .'], axis=1)\n",
        "df.head()"
      ],
      "metadata": {
        "colab": {
          "base_uri": "https://localhost:8080/",
          "height": 681
        },
        "id": "yTMyDwr1oYf4",
        "outputId": "db087195-358f-4d73-f03a-bf8f0f622dc4"
      },
      "execution_count": null,
      "outputs": [
        {
          "output_type": "execute_result",
          "data": {
            "text/plain": [
              "   Please give ratings to yourself in following fields : [ Anxiety and Depression Level]  \\\n",
              "0                                                  0                                       \n",
              "1                                                  1                                       \n",
              "2                                                  3                                       \n",
              "3                                                  4                                       \n",
              "4                                                  4                                       \n",
              "\n",
              "   Please give ratings to yourself in following fields : [Sleeping Hours (treat this entity as hour)]  \\\n",
              "0                                                 10                                                    \n",
              "1                                                  6                                                    \n",
              "2                                                  6                                                    \n",
              "3                                                  7                                                    \n",
              "4                                                  6                                                    \n",
              "\n",
              "   Please give ratings to yourself in following fields : [Health ]  \\\n",
              "0                                                 10                 \n",
              "1                                                  7                 \n",
              "2                                                  6                 \n",
              "3                                                  8                 \n",
              "4                                                  5                 \n",
              "\n",
              "   Please give ratings to yourself in following fields : [Involvement in Sports Activity]  \\\n",
              "0                                                  7                                        \n",
              "1                                                  1                                        \n",
              "2                                                  3                                        \n",
              "3                                                  7                                        \n",
              "4                                                  2                                        \n",
              "\n",
              "   Please give ratings to yourself in following fields : [Engagement in Extra curricular activities]  \\\n",
              "0                                                  0                                                   \n",
              "1                                                  2                                                   \n",
              "2                                                  4                                                   \n",
              "3                                                  3                                                   \n",
              "4                                                  2                                                   \n",
              "\n",
              "   Please give ratings to yourself in following fields : [Practicing Exercises/ Yoga]  \\\n",
              "0                                                  7                                    \n",
              "1                                                  1                                    \n",
              "2                                                  4                                    \n",
              "3                                                  8                                    \n",
              "4                                                  2                                    \n",
              "\n",
              "   Please give ratings to yourself in following fields : [Effect of quizzes and assignments]  \\\n",
              "0                                                  0                                           \n",
              "1                                                  2                                           \n",
              "2                                                  9                                           \n",
              "3                                                  4                                           \n",
              "4                                                  2                                           \n",
              "\n",
              "   Please give ratings to yourself in following fields : [Screen time in hour (treat this entity as hour)]  \\\n",
              "0                                                 10                                                         \n",
              "1                                                  4                                                         \n",
              "2                                                  5                                                         \n",
              "3                                                  3                                                         \n",
              "4                                                  5                                                         \n",
              "\n",
              "   Please give ratings to yourself in following fields : [Effect of Family issues]  \\\n",
              "0                                                  4                                 \n",
              "1                                                  6                                 \n",
              "2                                                  5                                 \n",
              "3                                                  0                                 \n",
              "4                                                  0                                 \n",
              "\n",
              "   Please give ratings to yourself in following fields : [Duration of time spent with friends]  \\\n",
              "0                                                  6                                             \n",
              "1                                                  5                                             \n",
              "2                                                  5                                             \n",
              "3                                                  3                                             \n",
              "4                                                  5                                             \n",
              "\n",
              "   ...  \\\n",
              "0  ...   \n",
              "1  ...   \n",
              "2  ...   \n",
              "3  ...   \n",
              "4  ...   \n",
              "\n",
              "   Please give ratings to yourself in following fields : [Helping, Caring and Sharing]  \\\n",
              "0                                                  5                                     \n",
              "1                                                  8                                     \n",
              "2                                                  5                                     \n",
              "3                                                  8                                     \n",
              "4                                                  9                                     \n",
              "\n",
              "   Please give ratings to yourself in following fields : [Food Satisfaction]  \\\n",
              "0                                                  1                           \n",
              "1                                                  1                           \n",
              "2                                                  5                           \n",
              "3                                                  3                           \n",
              "4                                                  0                           \n",
              "\n",
              "   Please give ratings to yourself in following fields : [Short temperedness]  \\\n",
              "0                                                  0                            \n",
              "1                                                  0                            \n",
              "2                                                  5                            \n",
              "3                                                  3                            \n",
              "4                                                  5                            \n",
              "\n",
              "   Course name   Year ??                                  Department  Gender  \\\n",
              "0          Phd  2nd Year                                 Mathematics    MALE   \n",
              "1          Phd  1st Year                                 Mathematics    MALE   \n",
              "2       B.Tech  3rd Year  Metallurgical & Materials Engineering, and  FEMALE   \n",
              "3          Phd  1st Year                                 Mathematics    MALE   \n",
              "4       M.Tech  2nd Year               Bioscience and Bioengineering  FEMALE   \n",
              "\n",
              "  In a Relationship ??  \\\n",
              "0                  YES   \n",
              "1          COMPLICATED   \n",
              "2          COMPLICATED   \n",
              "3          COMPLICATED   \n",
              "4                  YES   \n",
              "\n",
              "  Are you getting Stipend/fellowship/scholarship or any financial support by government  \\\n",
              "0                                                YES                                      \n",
              "1                                                YES                                      \n",
              "2                                                 NO                                      \n",
              "3                                                YES                                      \n",
              "4                                                YES                                      \n",
              "\n",
              "  What is your happiness score according to you?(give answer in a range of (0-10))  \n",
              "0                                                9.0                                \n",
              "1                                                9.0                                \n",
              "2                                                4.0                                \n",
              "3                                                5.0                                \n",
              "4                                                6.0                                \n",
              "\n",
              "[5 rows x 23 columns]"
            ],
            "text/html": [
              "\n",
              "  <div id=\"df-25a3ba31-1899-4535-ba9a-c622a05cc869\">\n",
              "    <div class=\"colab-df-container\">\n",
              "      <div>\n",
              "<style scoped>\n",
              "    .dataframe tbody tr th:only-of-type {\n",
              "        vertical-align: middle;\n",
              "    }\n",
              "\n",
              "    .dataframe tbody tr th {\n",
              "        vertical-align: top;\n",
              "    }\n",
              "\n",
              "    .dataframe thead th {\n",
              "        text-align: right;\n",
              "    }\n",
              "</style>\n",
              "<table border=\"1\" class=\"dataframe\">\n",
              "  <thead>\n",
              "    <tr style=\"text-align: right;\">\n",
              "      <th></th>\n",
              "      <th>Please give ratings to yourself in following fields : [ Anxiety and Depression Level]</th>\n",
              "      <th>Please give ratings to yourself in following fields : [Sleeping Hours (treat this entity as hour)]</th>\n",
              "      <th>Please give ratings to yourself in following fields : [Health ]</th>\n",
              "      <th>Please give ratings to yourself in following fields : [Involvement in Sports Activity]</th>\n",
              "      <th>Please give ratings to yourself in following fields : [Engagement in Extra curricular activities]</th>\n",
              "      <th>Please give ratings to yourself in following fields : [Practicing Exercises/ Yoga]</th>\n",
              "      <th>Please give ratings to yourself in following fields : [Effect of quizzes and assignments]</th>\n",
              "      <th>Please give ratings to yourself in following fields : [Screen time in hour (treat this entity as hour)]</th>\n",
              "      <th>Please give ratings to yourself in following fields : [Effect of Family issues]</th>\n",
              "      <th>Please give ratings to yourself in following fields : [Duration of time spent with friends]</th>\n",
              "      <th>...</th>\n",
              "      <th>Please give ratings to yourself in following fields : [Helping, Caring and Sharing]</th>\n",
              "      <th>Please give ratings to yourself in following fields : [Food Satisfaction]</th>\n",
              "      <th>Please give ratings to yourself in following fields : [Short temperedness]</th>\n",
              "      <th>Course name</th>\n",
              "      <th>Year ??</th>\n",
              "      <th>Department</th>\n",
              "      <th>Gender</th>\n",
              "      <th>In a Relationship ??</th>\n",
              "      <th>Are you getting Stipend/fellowship/scholarship or any financial support by government</th>\n",
              "      <th>What is your happiness score according to you?(give answer in a range of (0-10))</th>\n",
              "    </tr>\n",
              "  </thead>\n",
              "  <tbody>\n",
              "    <tr>\n",
              "      <th>0</th>\n",
              "      <td>0</td>\n",
              "      <td>10</td>\n",
              "      <td>10</td>\n",
              "      <td>7</td>\n",
              "      <td>0</td>\n",
              "      <td>7</td>\n",
              "      <td>0</td>\n",
              "      <td>10</td>\n",
              "      <td>4</td>\n",
              "      <td>6</td>\n",
              "      <td>...</td>\n",
              "      <td>5</td>\n",
              "      <td>1</td>\n",
              "      <td>0</td>\n",
              "      <td>Phd</td>\n",
              "      <td>2nd Year</td>\n",
              "      <td>Mathematics</td>\n",
              "      <td>MALE</td>\n",
              "      <td>YES</td>\n",
              "      <td>YES</td>\n",
              "      <td>9.0</td>\n",
              "    </tr>\n",
              "    <tr>\n",
              "      <th>1</th>\n",
              "      <td>1</td>\n",
              "      <td>6</td>\n",
              "      <td>7</td>\n",
              "      <td>1</td>\n",
              "      <td>2</td>\n",
              "      <td>1</td>\n",
              "      <td>2</td>\n",
              "      <td>4</td>\n",
              "      <td>6</td>\n",
              "      <td>5</td>\n",
              "      <td>...</td>\n",
              "      <td>8</td>\n",
              "      <td>1</td>\n",
              "      <td>0</td>\n",
              "      <td>Phd</td>\n",
              "      <td>1st Year</td>\n",
              "      <td>Mathematics</td>\n",
              "      <td>MALE</td>\n",
              "      <td>COMPLICATED</td>\n",
              "      <td>YES</td>\n",
              "      <td>9.0</td>\n",
              "    </tr>\n",
              "    <tr>\n",
              "      <th>2</th>\n",
              "      <td>3</td>\n",
              "      <td>6</td>\n",
              "      <td>6</td>\n",
              "      <td>3</td>\n",
              "      <td>4</td>\n",
              "      <td>4</td>\n",
              "      <td>9</td>\n",
              "      <td>5</td>\n",
              "      <td>5</td>\n",
              "      <td>5</td>\n",
              "      <td>...</td>\n",
              "      <td>5</td>\n",
              "      <td>5</td>\n",
              "      <td>5</td>\n",
              "      <td>B.Tech</td>\n",
              "      <td>3rd Year</td>\n",
              "      <td>Metallurgical &amp; Materials Engineering, and</td>\n",
              "      <td>FEMALE</td>\n",
              "      <td>COMPLICATED</td>\n",
              "      <td>NO</td>\n",
              "      <td>4.0</td>\n",
              "    </tr>\n",
              "    <tr>\n",
              "      <th>3</th>\n",
              "      <td>4</td>\n",
              "      <td>7</td>\n",
              "      <td>8</td>\n",
              "      <td>7</td>\n",
              "      <td>3</td>\n",
              "      <td>8</td>\n",
              "      <td>4</td>\n",
              "      <td>3</td>\n",
              "      <td>0</td>\n",
              "      <td>3</td>\n",
              "      <td>...</td>\n",
              "      <td>8</td>\n",
              "      <td>3</td>\n",
              "      <td>3</td>\n",
              "      <td>Phd</td>\n",
              "      <td>1st Year</td>\n",
              "      <td>Mathematics</td>\n",
              "      <td>MALE</td>\n",
              "      <td>COMPLICATED</td>\n",
              "      <td>YES</td>\n",
              "      <td>5.0</td>\n",
              "    </tr>\n",
              "    <tr>\n",
              "      <th>4</th>\n",
              "      <td>4</td>\n",
              "      <td>6</td>\n",
              "      <td>5</td>\n",
              "      <td>2</td>\n",
              "      <td>2</td>\n",
              "      <td>2</td>\n",
              "      <td>2</td>\n",
              "      <td>5</td>\n",
              "      <td>0</td>\n",
              "      <td>5</td>\n",
              "      <td>...</td>\n",
              "      <td>9</td>\n",
              "      <td>0</td>\n",
              "      <td>5</td>\n",
              "      <td>M.Tech</td>\n",
              "      <td>2nd Year</td>\n",
              "      <td>Bioscience and Bioengineering</td>\n",
              "      <td>FEMALE</td>\n",
              "      <td>YES</td>\n",
              "      <td>YES</td>\n",
              "      <td>6.0</td>\n",
              "    </tr>\n",
              "  </tbody>\n",
              "</table>\n",
              "<p>5 rows × 23 columns</p>\n",
              "</div>\n",
              "      <button class=\"colab-df-convert\" onclick=\"convertToInteractive('df-25a3ba31-1899-4535-ba9a-c622a05cc869')\"\n",
              "              title=\"Convert this dataframe to an interactive table.\"\n",
              "              style=\"display:none;\">\n",
              "        \n",
              "  <svg xmlns=\"http://www.w3.org/2000/svg\" height=\"24px\"viewBox=\"0 0 24 24\"\n",
              "       width=\"24px\">\n",
              "    <path d=\"M0 0h24v24H0V0z\" fill=\"none\"/>\n",
              "    <path d=\"M18.56 5.44l.94 2.06.94-2.06 2.06-.94-2.06-.94-.94-2.06-.94 2.06-2.06.94zm-11 1L8.5 8.5l.94-2.06 2.06-.94-2.06-.94L8.5 2.5l-.94 2.06-2.06.94zm10 10l.94 2.06.94-2.06 2.06-.94-2.06-.94-.94-2.06-.94 2.06-2.06.94z\"/><path d=\"M17.41 7.96l-1.37-1.37c-.4-.4-.92-.59-1.43-.59-.52 0-1.04.2-1.43.59L10.3 9.45l-7.72 7.72c-.78.78-.78 2.05 0 2.83L4 21.41c.39.39.9.59 1.41.59.51 0 1.02-.2 1.41-.59l7.78-7.78 2.81-2.81c.8-.78.8-2.07 0-2.86zM5.41 20L4 18.59l7.72-7.72 1.47 1.35L5.41 20z\"/>\n",
              "  </svg>\n",
              "      </button>\n",
              "      \n",
              "  <style>\n",
              "    .colab-df-container {\n",
              "      display:flex;\n",
              "      flex-wrap:wrap;\n",
              "      gap: 12px;\n",
              "    }\n",
              "\n",
              "    .colab-df-convert {\n",
              "      background-color: #E8F0FE;\n",
              "      border: none;\n",
              "      border-radius: 50%;\n",
              "      cursor: pointer;\n",
              "      display: none;\n",
              "      fill: #1967D2;\n",
              "      height: 32px;\n",
              "      padding: 0 0 0 0;\n",
              "      width: 32px;\n",
              "    }\n",
              "\n",
              "    .colab-df-convert:hover {\n",
              "      background-color: #E2EBFA;\n",
              "      box-shadow: 0px 1px 2px rgba(60, 64, 67, 0.3), 0px 1px 3px 1px rgba(60, 64, 67, 0.15);\n",
              "      fill: #174EA6;\n",
              "    }\n",
              "\n",
              "    [theme=dark] .colab-df-convert {\n",
              "      background-color: #3B4455;\n",
              "      fill: #D2E3FC;\n",
              "    }\n",
              "\n",
              "    [theme=dark] .colab-df-convert:hover {\n",
              "      background-color: #434B5C;\n",
              "      box-shadow: 0px 1px 3px 1px rgba(0, 0, 0, 0.15);\n",
              "      filter: drop-shadow(0px 1px 2px rgba(0, 0, 0, 0.3));\n",
              "      fill: #FFFFFF;\n",
              "    }\n",
              "  </style>\n",
              "\n",
              "      <script>\n",
              "        const buttonEl =\n",
              "          document.querySelector('#df-25a3ba31-1899-4535-ba9a-c622a05cc869 button.colab-df-convert');\n",
              "        buttonEl.style.display =\n",
              "          google.colab.kernel.accessAllowed ? 'block' : 'none';\n",
              "\n",
              "        async function convertToInteractive(key) {\n",
              "          const element = document.querySelector('#df-25a3ba31-1899-4535-ba9a-c622a05cc869');\n",
              "          const dataTable =\n",
              "            await google.colab.kernel.invokeFunction('convertToInteractive',\n",
              "                                                     [key], {});\n",
              "          if (!dataTable) return;\n",
              "\n",
              "          const docLinkHtml = 'Like what you see? Visit the ' +\n",
              "            '<a target=\"_blank\" href=https://colab.research.google.com/notebooks/data_table.ipynb>data table notebook</a>'\n",
              "            + ' to learn more about interactive tables.';\n",
              "          element.innerHTML = '';\n",
              "          dataTable['output_type'] = 'display_data';\n",
              "          await google.colab.output.renderOutput(dataTable, element);\n",
              "          const docLink = document.createElement('div');\n",
              "          docLink.innerHTML = docLinkHtml;\n",
              "          element.appendChild(docLink);\n",
              "        }\n",
              "      </script>\n",
              "    </div>\n",
              "  </div>\n",
              "  "
            ]
          },
          "metadata": {},
          "execution_count": 149
        }
      ]
    },
    {
      "cell_type": "code",
      "source": [
        "df.columns =[\"anxiety_level\", \"sleeping_hours\", \"health\", \"sports\", \"extra-curricular\", \"Exercises_Yoga\", \"Quizzes/assignments\", \"screen_hours\", \"effect_familyissues\", \"friends_time\", \"study_satisfaction\", \"performing_meditation\", \"following_hobby\", \"caring/sharing\", \"food_satisfaction\", \"short_temperedness\", \"Course_name\", \"Year\", \"Department\", \"Gender\", \"Relationship_status\", \"Getting_Stipend\", \"Happiness_Score\"]\n",
        "df.head()"
      ],
      "metadata": {
        "colab": {
          "base_uri": "https://localhost:8080/",
          "height": 456
        },
        "id": "tgV4mCamNlIg",
        "outputId": "c5d9d5b9-6f82-45fe-e252-1f6b493334ea"
      },
      "execution_count": null,
      "outputs": [
        {
          "output_type": "execute_result",
          "data": {
            "text/plain": [
              "   anxiety_level  sleeping_hours  health  sports  extra-curricular  \\\n",
              "0              0              10      10       7                 0   \n",
              "1              1               6       7       1                 2   \n",
              "2              3               6       6       3                 4   \n",
              "3              4               7       8       7                 3   \n",
              "4              4               6       5       2                 2   \n",
              "\n",
              "   Exercises_Yoga  Quizzes/assignments  screen_hours  effect_familyissues  \\\n",
              "0               7                    0            10                    4   \n",
              "1               1                    2             4                    6   \n",
              "2               4                    9             5                    5   \n",
              "3               8                    4             3                    0   \n",
              "4               2                    2             5                    0   \n",
              "\n",
              "   friends_time  ...  caring/sharing  food_satisfaction  short_temperedness  \\\n",
              "0             6  ...               5                  1                   0   \n",
              "1             5  ...               8                  1                   0   \n",
              "2             5  ...               5                  5                   5   \n",
              "3             3  ...               8                  3                   3   \n",
              "4             5  ...               9                  0                   5   \n",
              "\n",
              "   Course_name      Year                                  Department  Gender  \\\n",
              "0          Phd  2nd Year                                 Mathematics    MALE   \n",
              "1          Phd  1st Year                                 Mathematics    MALE   \n",
              "2       B.Tech  3rd Year  Metallurgical & Materials Engineering, and  FEMALE   \n",
              "3          Phd  1st Year                                 Mathematics    MALE   \n",
              "4       M.Tech  2nd Year               Bioscience and Bioengineering  FEMALE   \n",
              "\n",
              "  Relationship_status Getting_Stipend Happiness_Score  \n",
              "0                 YES             YES             9.0  \n",
              "1         COMPLICATED             YES             9.0  \n",
              "2         COMPLICATED              NO             4.0  \n",
              "3         COMPLICATED             YES             5.0  \n",
              "4                 YES             YES             6.0  \n",
              "\n",
              "[5 rows x 23 columns]"
            ],
            "text/html": [
              "\n",
              "  <div id=\"df-4e5727e4-29f6-443d-9587-5fe771727029\">\n",
              "    <div class=\"colab-df-container\">\n",
              "      <div>\n",
              "<style scoped>\n",
              "    .dataframe tbody tr th:only-of-type {\n",
              "        vertical-align: middle;\n",
              "    }\n",
              "\n",
              "    .dataframe tbody tr th {\n",
              "        vertical-align: top;\n",
              "    }\n",
              "\n",
              "    .dataframe thead th {\n",
              "        text-align: right;\n",
              "    }\n",
              "</style>\n",
              "<table border=\"1\" class=\"dataframe\">\n",
              "  <thead>\n",
              "    <tr style=\"text-align: right;\">\n",
              "      <th></th>\n",
              "      <th>anxiety_level</th>\n",
              "      <th>sleeping_hours</th>\n",
              "      <th>health</th>\n",
              "      <th>sports</th>\n",
              "      <th>extra-curricular</th>\n",
              "      <th>Exercises_Yoga</th>\n",
              "      <th>Quizzes/assignments</th>\n",
              "      <th>screen_hours</th>\n",
              "      <th>effect_familyissues</th>\n",
              "      <th>friends_time</th>\n",
              "      <th>...</th>\n",
              "      <th>caring/sharing</th>\n",
              "      <th>food_satisfaction</th>\n",
              "      <th>short_temperedness</th>\n",
              "      <th>Course_name</th>\n",
              "      <th>Year</th>\n",
              "      <th>Department</th>\n",
              "      <th>Gender</th>\n",
              "      <th>Relationship_status</th>\n",
              "      <th>Getting_Stipend</th>\n",
              "      <th>Happiness_Score</th>\n",
              "    </tr>\n",
              "  </thead>\n",
              "  <tbody>\n",
              "    <tr>\n",
              "      <th>0</th>\n",
              "      <td>0</td>\n",
              "      <td>10</td>\n",
              "      <td>10</td>\n",
              "      <td>7</td>\n",
              "      <td>0</td>\n",
              "      <td>7</td>\n",
              "      <td>0</td>\n",
              "      <td>10</td>\n",
              "      <td>4</td>\n",
              "      <td>6</td>\n",
              "      <td>...</td>\n",
              "      <td>5</td>\n",
              "      <td>1</td>\n",
              "      <td>0</td>\n",
              "      <td>Phd</td>\n",
              "      <td>2nd Year</td>\n",
              "      <td>Mathematics</td>\n",
              "      <td>MALE</td>\n",
              "      <td>YES</td>\n",
              "      <td>YES</td>\n",
              "      <td>9.0</td>\n",
              "    </tr>\n",
              "    <tr>\n",
              "      <th>1</th>\n",
              "      <td>1</td>\n",
              "      <td>6</td>\n",
              "      <td>7</td>\n",
              "      <td>1</td>\n",
              "      <td>2</td>\n",
              "      <td>1</td>\n",
              "      <td>2</td>\n",
              "      <td>4</td>\n",
              "      <td>6</td>\n",
              "      <td>5</td>\n",
              "      <td>...</td>\n",
              "      <td>8</td>\n",
              "      <td>1</td>\n",
              "      <td>0</td>\n",
              "      <td>Phd</td>\n",
              "      <td>1st Year</td>\n",
              "      <td>Mathematics</td>\n",
              "      <td>MALE</td>\n",
              "      <td>COMPLICATED</td>\n",
              "      <td>YES</td>\n",
              "      <td>9.0</td>\n",
              "    </tr>\n",
              "    <tr>\n",
              "      <th>2</th>\n",
              "      <td>3</td>\n",
              "      <td>6</td>\n",
              "      <td>6</td>\n",
              "      <td>3</td>\n",
              "      <td>4</td>\n",
              "      <td>4</td>\n",
              "      <td>9</td>\n",
              "      <td>5</td>\n",
              "      <td>5</td>\n",
              "      <td>5</td>\n",
              "      <td>...</td>\n",
              "      <td>5</td>\n",
              "      <td>5</td>\n",
              "      <td>5</td>\n",
              "      <td>B.Tech</td>\n",
              "      <td>3rd Year</td>\n",
              "      <td>Metallurgical &amp; Materials Engineering, and</td>\n",
              "      <td>FEMALE</td>\n",
              "      <td>COMPLICATED</td>\n",
              "      <td>NO</td>\n",
              "      <td>4.0</td>\n",
              "    </tr>\n",
              "    <tr>\n",
              "      <th>3</th>\n",
              "      <td>4</td>\n",
              "      <td>7</td>\n",
              "      <td>8</td>\n",
              "      <td>7</td>\n",
              "      <td>3</td>\n",
              "      <td>8</td>\n",
              "      <td>4</td>\n",
              "      <td>3</td>\n",
              "      <td>0</td>\n",
              "      <td>3</td>\n",
              "      <td>...</td>\n",
              "      <td>8</td>\n",
              "      <td>3</td>\n",
              "      <td>3</td>\n",
              "      <td>Phd</td>\n",
              "      <td>1st Year</td>\n",
              "      <td>Mathematics</td>\n",
              "      <td>MALE</td>\n",
              "      <td>COMPLICATED</td>\n",
              "      <td>YES</td>\n",
              "      <td>5.0</td>\n",
              "    </tr>\n",
              "    <tr>\n",
              "      <th>4</th>\n",
              "      <td>4</td>\n",
              "      <td>6</td>\n",
              "      <td>5</td>\n",
              "      <td>2</td>\n",
              "      <td>2</td>\n",
              "      <td>2</td>\n",
              "      <td>2</td>\n",
              "      <td>5</td>\n",
              "      <td>0</td>\n",
              "      <td>5</td>\n",
              "      <td>...</td>\n",
              "      <td>9</td>\n",
              "      <td>0</td>\n",
              "      <td>5</td>\n",
              "      <td>M.Tech</td>\n",
              "      <td>2nd Year</td>\n",
              "      <td>Bioscience and Bioengineering</td>\n",
              "      <td>FEMALE</td>\n",
              "      <td>YES</td>\n",
              "      <td>YES</td>\n",
              "      <td>6.0</td>\n",
              "    </tr>\n",
              "  </tbody>\n",
              "</table>\n",
              "<p>5 rows × 23 columns</p>\n",
              "</div>\n",
              "      <button class=\"colab-df-convert\" onclick=\"convertToInteractive('df-4e5727e4-29f6-443d-9587-5fe771727029')\"\n",
              "              title=\"Convert this dataframe to an interactive table.\"\n",
              "              style=\"display:none;\">\n",
              "        \n",
              "  <svg xmlns=\"http://www.w3.org/2000/svg\" height=\"24px\"viewBox=\"0 0 24 24\"\n",
              "       width=\"24px\">\n",
              "    <path d=\"M0 0h24v24H0V0z\" fill=\"none\"/>\n",
              "    <path d=\"M18.56 5.44l.94 2.06.94-2.06 2.06-.94-2.06-.94-.94-2.06-.94 2.06-2.06.94zm-11 1L8.5 8.5l.94-2.06 2.06-.94-2.06-.94L8.5 2.5l-.94 2.06-2.06.94zm10 10l.94 2.06.94-2.06 2.06-.94-2.06-.94-.94-2.06-.94 2.06-2.06.94z\"/><path d=\"M17.41 7.96l-1.37-1.37c-.4-.4-.92-.59-1.43-.59-.52 0-1.04.2-1.43.59L10.3 9.45l-7.72 7.72c-.78.78-.78 2.05 0 2.83L4 21.41c.39.39.9.59 1.41.59.51 0 1.02-.2 1.41-.59l7.78-7.78 2.81-2.81c.8-.78.8-2.07 0-2.86zM5.41 20L4 18.59l7.72-7.72 1.47 1.35L5.41 20z\"/>\n",
              "  </svg>\n",
              "      </button>\n",
              "      \n",
              "  <style>\n",
              "    .colab-df-container {\n",
              "      display:flex;\n",
              "      flex-wrap:wrap;\n",
              "      gap: 12px;\n",
              "    }\n",
              "\n",
              "    .colab-df-convert {\n",
              "      background-color: #E8F0FE;\n",
              "      border: none;\n",
              "      border-radius: 50%;\n",
              "      cursor: pointer;\n",
              "      display: none;\n",
              "      fill: #1967D2;\n",
              "      height: 32px;\n",
              "      padding: 0 0 0 0;\n",
              "      width: 32px;\n",
              "    }\n",
              "\n",
              "    .colab-df-convert:hover {\n",
              "      background-color: #E2EBFA;\n",
              "      box-shadow: 0px 1px 2px rgba(60, 64, 67, 0.3), 0px 1px 3px 1px rgba(60, 64, 67, 0.15);\n",
              "      fill: #174EA6;\n",
              "    }\n",
              "\n",
              "    [theme=dark] .colab-df-convert {\n",
              "      background-color: #3B4455;\n",
              "      fill: #D2E3FC;\n",
              "    }\n",
              "\n",
              "    [theme=dark] .colab-df-convert:hover {\n",
              "      background-color: #434B5C;\n",
              "      box-shadow: 0px 1px 3px 1px rgba(0, 0, 0, 0.15);\n",
              "      filter: drop-shadow(0px 1px 2px rgba(0, 0, 0, 0.3));\n",
              "      fill: #FFFFFF;\n",
              "    }\n",
              "  </style>\n",
              "\n",
              "      <script>\n",
              "        const buttonEl =\n",
              "          document.querySelector('#df-4e5727e4-29f6-443d-9587-5fe771727029 button.colab-df-convert');\n",
              "        buttonEl.style.display =\n",
              "          google.colab.kernel.accessAllowed ? 'block' : 'none';\n",
              "\n",
              "        async function convertToInteractive(key) {\n",
              "          const element = document.querySelector('#df-4e5727e4-29f6-443d-9587-5fe771727029');\n",
              "          const dataTable =\n",
              "            await google.colab.kernel.invokeFunction('convertToInteractive',\n",
              "                                                     [key], {});\n",
              "          if (!dataTable) return;\n",
              "\n",
              "          const docLinkHtml = 'Like what you see? Visit the ' +\n",
              "            '<a target=\"_blank\" href=https://colab.research.google.com/notebooks/data_table.ipynb>data table notebook</a>'\n",
              "            + ' to learn more about interactive tables.';\n",
              "          element.innerHTML = '';\n",
              "          dataTable['output_type'] = 'display_data';\n",
              "          await google.colab.output.renderOutput(dataTable, element);\n",
              "          const docLink = document.createElement('div');\n",
              "          docLink.innerHTML = docLinkHtml;\n",
              "          element.appendChild(docLink);\n",
              "        }\n",
              "      </script>\n",
              "    </div>\n",
              "  </div>\n",
              "  "
            ]
          },
          "metadata": {},
          "execution_count": 150
        }
      ]
    },
    {
      "cell_type": "markdown",
      "source": [
        "Categorical variables conversion to numerical variables"
      ],
      "metadata": {
        "id": "8po0JG3ut9HG"
      }
    },
    {
      "cell_type": "code",
      "source": [
        "from sklearn.preprocessing import LabelEncoder\n",
        "le = LabelEncoder()\n",
        "#'Year','Department','Gender','Relationship_status','Getting_Stipend'\n",
        "label1 = le.fit_transform(df['Course_name'])\n",
        "label1\n",
        "df.drop(\"Course_name\", axis=1, inplace=True)\n",
        "df[\"Course_name\"] = label1"
      ],
      "metadata": {
        "id": "IV-9x4kHplME"
      },
      "execution_count": null,
      "outputs": []
    },
    {
      "cell_type": "code",
      "source": [
        "from sklearn.preprocessing import LabelEncoder\n",
        "\n",
        "le = LabelEncoder()\n",
        "\n",
        "#'Year','Department','Gender','Relationship_status','Getting_Stipend'\n",
        "label2 = le.fit_transform(df['Year'])\n",
        "label2\n",
        "\n",
        "df.drop(\"Year\", axis=1, inplace=True)\n",
        "\n",
        "\n",
        "df[\"Year\"] = label2"
      ],
      "metadata": {
        "id": "ICz-PyB3tvsI"
      },
      "execution_count": null,
      "outputs": []
    },
    {
      "cell_type": "code",
      "source": [
        "from sklearn.preprocessing import LabelEncoder\n",
        "\n",
        "le = LabelEncoder()\n",
        "\n",
        "#'Year','Department','Gender','Relationship_status','Getting_Stipend'\n",
        "label3 = le.fit_transform(df['Department'])\n",
        "label3\n",
        "\n",
        "df.drop(\"Department\", axis=1, inplace=True)\n",
        "df[\"Department\"] = label3"
      ],
      "metadata": {
        "id": "2tctWO43wdTZ"
      },
      "execution_count": null,
      "outputs": []
    },
    {
      "cell_type": "code",
      "source": [
        "from sklearn.preprocessing import LabelEncoder\n",
        "le = LabelEncoder()\n",
        "#'Year','Department','Gender','Relationship_status','Getting_Stipend'\n",
        "label4 = le.fit_transform(df['Gender'])\n",
        "label4\n",
        "\n",
        "df.drop(\"Gender\", axis=1, inplace=True)\n",
        "df[\"Gender\"] = label4"
      ],
      "metadata": {
        "id": "XdBshDeUt7l6"
      },
      "execution_count": null,
      "outputs": []
    },
    {
      "cell_type": "code",
      "source": [
        "from sklearn.preprocessing import LabelEncoder\n",
        "le = LabelEncoder()\n",
        "#'Year','Department','Gender','Relationship_status','Getting_Stipend'\n",
        "label5 = le.fit_transform(df['Relationship_status'])\n",
        "label5\n",
        "\n",
        "df.drop(\"Relationship_status\", axis=1, inplace=True)\n",
        "\n",
        "df[\"Relationship_status\"] = label5"
      ],
      "metadata": {
        "id": "12kxs3vfw4mL"
      },
      "execution_count": null,
      "outputs": []
    },
    {
      "cell_type": "code",
      "source": [
        "from sklearn.preprocessing import LabelEncoder\n",
        "le = LabelEncoder()\n",
        "#'Year','Department','Gender','Relationship_status','Getting_Stipend'\n",
        "label6 = le.fit_transform(df['Getting_Stipend'])\n",
        "label6\n",
        "df.drop(\"Getting_Stipend\", axis=1, inplace=True)\n",
        "df[\"Getting_Stipend\"] = label6"
      ],
      "metadata": {
        "id": "SyVOx9Few44c"
      },
      "execution_count": null,
      "outputs": []
    },
    {
      "cell_type": "code",
      "source": [
        "df.head()"
      ],
      "metadata": {
        "colab": {
          "base_uri": "https://localhost:8080/",
          "height": 317
        },
        "id": "ADA9nB7nx6_g",
        "outputId": "a85d3ded-3b06-4423-dcec-4c57758959b9"
      },
      "execution_count": null,
      "outputs": [
        {
          "output_type": "execute_result",
          "data": {
            "text/plain": [
              "   anxiety_level  sleeping_hours  health  sports  extra-curricular  \\\n",
              "0              0              10      10       7                 0   \n",
              "1              1               6       7       1                 2   \n",
              "2              3               6       6       3                 4   \n",
              "3              4               7       8       7                 3   \n",
              "4              4               6       5       2                 2   \n",
              "\n",
              "   Exercises_Yoga  Quizzes/assignments  screen_hours  effect_familyissues  \\\n",
              "0               7                    0            10                    4   \n",
              "1               1                    2             4                    6   \n",
              "2               4                    9             5                    5   \n",
              "3               8                    4             3                    0   \n",
              "4               2                    2             5                    0   \n",
              "\n",
              "   friends_time  ...  caring/sharing  food_satisfaction  short_temperedness  \\\n",
              "0             6  ...               5                  1                   0   \n",
              "1             5  ...               8                  1                   0   \n",
              "2             5  ...               5                  5                   5   \n",
              "3             3  ...               8                  3                   3   \n",
              "4             5  ...               9                  0                   5   \n",
              "\n",
              "   Happiness_Score  Course_name  Year  Department  Gender  \\\n",
              "0              9.0            6     1           7       1   \n",
              "1              9.0            6     0           7       1   \n",
              "2              4.0            0     2           9       0   \n",
              "3              5.0            6     0           7       1   \n",
              "4              6.0            3     1           0       0   \n",
              "\n",
              "   Relationship_status  Getting_Stipend  \n",
              "0                    3                1  \n",
              "1                    0                1  \n",
              "2                    0                0  \n",
              "3                    0                1  \n",
              "4                    3                1  \n",
              "\n",
              "[5 rows x 23 columns]"
            ],
            "text/html": [
              "\n",
              "  <div id=\"df-a4b656c3-e011-40ca-a2ad-8cf14762d498\">\n",
              "    <div class=\"colab-df-container\">\n",
              "      <div>\n",
              "<style scoped>\n",
              "    .dataframe tbody tr th:only-of-type {\n",
              "        vertical-align: middle;\n",
              "    }\n",
              "\n",
              "    .dataframe tbody tr th {\n",
              "        vertical-align: top;\n",
              "    }\n",
              "\n",
              "    .dataframe thead th {\n",
              "        text-align: right;\n",
              "    }\n",
              "</style>\n",
              "<table border=\"1\" class=\"dataframe\">\n",
              "  <thead>\n",
              "    <tr style=\"text-align: right;\">\n",
              "      <th></th>\n",
              "      <th>anxiety_level</th>\n",
              "      <th>sleeping_hours</th>\n",
              "      <th>health</th>\n",
              "      <th>sports</th>\n",
              "      <th>extra-curricular</th>\n",
              "      <th>Exercises_Yoga</th>\n",
              "      <th>Quizzes/assignments</th>\n",
              "      <th>screen_hours</th>\n",
              "      <th>effect_familyissues</th>\n",
              "      <th>friends_time</th>\n",
              "      <th>...</th>\n",
              "      <th>caring/sharing</th>\n",
              "      <th>food_satisfaction</th>\n",
              "      <th>short_temperedness</th>\n",
              "      <th>Happiness_Score</th>\n",
              "      <th>Course_name</th>\n",
              "      <th>Year</th>\n",
              "      <th>Department</th>\n",
              "      <th>Gender</th>\n",
              "      <th>Relationship_status</th>\n",
              "      <th>Getting_Stipend</th>\n",
              "    </tr>\n",
              "  </thead>\n",
              "  <tbody>\n",
              "    <tr>\n",
              "      <th>0</th>\n",
              "      <td>0</td>\n",
              "      <td>10</td>\n",
              "      <td>10</td>\n",
              "      <td>7</td>\n",
              "      <td>0</td>\n",
              "      <td>7</td>\n",
              "      <td>0</td>\n",
              "      <td>10</td>\n",
              "      <td>4</td>\n",
              "      <td>6</td>\n",
              "      <td>...</td>\n",
              "      <td>5</td>\n",
              "      <td>1</td>\n",
              "      <td>0</td>\n",
              "      <td>9.0</td>\n",
              "      <td>6</td>\n",
              "      <td>1</td>\n",
              "      <td>7</td>\n",
              "      <td>1</td>\n",
              "      <td>3</td>\n",
              "      <td>1</td>\n",
              "    </tr>\n",
              "    <tr>\n",
              "      <th>1</th>\n",
              "      <td>1</td>\n",
              "      <td>6</td>\n",
              "      <td>7</td>\n",
              "      <td>1</td>\n",
              "      <td>2</td>\n",
              "      <td>1</td>\n",
              "      <td>2</td>\n",
              "      <td>4</td>\n",
              "      <td>6</td>\n",
              "      <td>5</td>\n",
              "      <td>...</td>\n",
              "      <td>8</td>\n",
              "      <td>1</td>\n",
              "      <td>0</td>\n",
              "      <td>9.0</td>\n",
              "      <td>6</td>\n",
              "      <td>0</td>\n",
              "      <td>7</td>\n",
              "      <td>1</td>\n",
              "      <td>0</td>\n",
              "      <td>1</td>\n",
              "    </tr>\n",
              "    <tr>\n",
              "      <th>2</th>\n",
              "      <td>3</td>\n",
              "      <td>6</td>\n",
              "      <td>6</td>\n",
              "      <td>3</td>\n",
              "      <td>4</td>\n",
              "      <td>4</td>\n",
              "      <td>9</td>\n",
              "      <td>5</td>\n",
              "      <td>5</td>\n",
              "      <td>5</td>\n",
              "      <td>...</td>\n",
              "      <td>5</td>\n",
              "      <td>5</td>\n",
              "      <td>5</td>\n",
              "      <td>4.0</td>\n",
              "      <td>0</td>\n",
              "      <td>2</td>\n",
              "      <td>9</td>\n",
              "      <td>0</td>\n",
              "      <td>0</td>\n",
              "      <td>0</td>\n",
              "    </tr>\n",
              "    <tr>\n",
              "      <th>3</th>\n",
              "      <td>4</td>\n",
              "      <td>7</td>\n",
              "      <td>8</td>\n",
              "      <td>7</td>\n",
              "      <td>3</td>\n",
              "      <td>8</td>\n",
              "      <td>4</td>\n",
              "      <td>3</td>\n",
              "      <td>0</td>\n",
              "      <td>3</td>\n",
              "      <td>...</td>\n",
              "      <td>8</td>\n",
              "      <td>3</td>\n",
              "      <td>3</td>\n",
              "      <td>5.0</td>\n",
              "      <td>6</td>\n",
              "      <td>0</td>\n",
              "      <td>7</td>\n",
              "      <td>1</td>\n",
              "      <td>0</td>\n",
              "      <td>1</td>\n",
              "    </tr>\n",
              "    <tr>\n",
              "      <th>4</th>\n",
              "      <td>4</td>\n",
              "      <td>6</td>\n",
              "      <td>5</td>\n",
              "      <td>2</td>\n",
              "      <td>2</td>\n",
              "      <td>2</td>\n",
              "      <td>2</td>\n",
              "      <td>5</td>\n",
              "      <td>0</td>\n",
              "      <td>5</td>\n",
              "      <td>...</td>\n",
              "      <td>9</td>\n",
              "      <td>0</td>\n",
              "      <td>5</td>\n",
              "      <td>6.0</td>\n",
              "      <td>3</td>\n",
              "      <td>1</td>\n",
              "      <td>0</td>\n",
              "      <td>0</td>\n",
              "      <td>3</td>\n",
              "      <td>1</td>\n",
              "    </tr>\n",
              "  </tbody>\n",
              "</table>\n",
              "<p>5 rows × 23 columns</p>\n",
              "</div>\n",
              "      <button class=\"colab-df-convert\" onclick=\"convertToInteractive('df-a4b656c3-e011-40ca-a2ad-8cf14762d498')\"\n",
              "              title=\"Convert this dataframe to an interactive table.\"\n",
              "              style=\"display:none;\">\n",
              "        \n",
              "  <svg xmlns=\"http://www.w3.org/2000/svg\" height=\"24px\"viewBox=\"0 0 24 24\"\n",
              "       width=\"24px\">\n",
              "    <path d=\"M0 0h24v24H0V0z\" fill=\"none\"/>\n",
              "    <path d=\"M18.56 5.44l.94 2.06.94-2.06 2.06-.94-2.06-.94-.94-2.06-.94 2.06-2.06.94zm-11 1L8.5 8.5l.94-2.06 2.06-.94-2.06-.94L8.5 2.5l-.94 2.06-2.06.94zm10 10l.94 2.06.94-2.06 2.06-.94-2.06-.94-.94-2.06-.94 2.06-2.06.94z\"/><path d=\"M17.41 7.96l-1.37-1.37c-.4-.4-.92-.59-1.43-.59-.52 0-1.04.2-1.43.59L10.3 9.45l-7.72 7.72c-.78.78-.78 2.05 0 2.83L4 21.41c.39.39.9.59 1.41.59.51 0 1.02-.2 1.41-.59l7.78-7.78 2.81-2.81c.8-.78.8-2.07 0-2.86zM5.41 20L4 18.59l7.72-7.72 1.47 1.35L5.41 20z\"/>\n",
              "  </svg>\n",
              "      </button>\n",
              "      \n",
              "  <style>\n",
              "    .colab-df-container {\n",
              "      display:flex;\n",
              "      flex-wrap:wrap;\n",
              "      gap: 12px;\n",
              "    }\n",
              "\n",
              "    .colab-df-convert {\n",
              "      background-color: #E8F0FE;\n",
              "      border: none;\n",
              "      border-radius: 50%;\n",
              "      cursor: pointer;\n",
              "      display: none;\n",
              "      fill: #1967D2;\n",
              "      height: 32px;\n",
              "      padding: 0 0 0 0;\n",
              "      width: 32px;\n",
              "    }\n",
              "\n",
              "    .colab-df-convert:hover {\n",
              "      background-color: #E2EBFA;\n",
              "      box-shadow: 0px 1px 2px rgba(60, 64, 67, 0.3), 0px 1px 3px 1px rgba(60, 64, 67, 0.15);\n",
              "      fill: #174EA6;\n",
              "    }\n",
              "\n",
              "    [theme=dark] .colab-df-convert {\n",
              "      background-color: #3B4455;\n",
              "      fill: #D2E3FC;\n",
              "    }\n",
              "\n",
              "    [theme=dark] .colab-df-convert:hover {\n",
              "      background-color: #434B5C;\n",
              "      box-shadow: 0px 1px 3px 1px rgba(0, 0, 0, 0.15);\n",
              "      filter: drop-shadow(0px 1px 2px rgba(0, 0, 0, 0.3));\n",
              "      fill: #FFFFFF;\n",
              "    }\n",
              "  </style>\n",
              "\n",
              "      <script>\n",
              "        const buttonEl =\n",
              "          document.querySelector('#df-a4b656c3-e011-40ca-a2ad-8cf14762d498 button.colab-df-convert');\n",
              "        buttonEl.style.display =\n",
              "          google.colab.kernel.accessAllowed ? 'block' : 'none';\n",
              "\n",
              "        async function convertToInteractive(key) {\n",
              "          const element = document.querySelector('#df-a4b656c3-e011-40ca-a2ad-8cf14762d498');\n",
              "          const dataTable =\n",
              "            await google.colab.kernel.invokeFunction('convertToInteractive',\n",
              "                                                     [key], {});\n",
              "          if (!dataTable) return;\n",
              "\n",
              "          const docLinkHtml = 'Like what you see? Visit the ' +\n",
              "            '<a target=\"_blank\" href=https://colab.research.google.com/notebooks/data_table.ipynb>data table notebook</a>'\n",
              "            + ' to learn more about interactive tables.';\n",
              "          element.innerHTML = '';\n",
              "          dataTable['output_type'] = 'display_data';\n",
              "          await google.colab.output.renderOutput(dataTable, element);\n",
              "          const docLink = document.createElement('div');\n",
              "          docLink.innerHTML = docLinkHtml;\n",
              "          element.appendChild(docLink);\n",
              "        }\n",
              "      </script>\n",
              "    </div>\n",
              "  </div>\n",
              "  "
            ]
          },
          "metadata": {},
          "execution_count": 157
        }
      ]
    },
    {
      "cell_type": "code",
      "source": [],
      "metadata": {
        "id": "eoe3VZwtwlA9"
      },
      "execution_count": null,
      "outputs": []
    },
    {
      "cell_type": "code",
      "source": [
        "X_new= df.drop(['Happiness_Score'],axis=1)"
      ],
      "metadata": {
        "id": "oPDhRSz8j0RX"
      },
      "execution_count": null,
      "outputs": []
    },
    {
      "cell_type": "code",
      "source": [
        "print(df['Happiness_Score'].values)"
      ],
      "metadata": {
        "id": "73uNpd4GNlTj",
        "colab": {
          "base_uri": "https://localhost:8080/"
        },
        "outputId": "cba71379-45b2-410b-b0c4-d9e34858aa01"
      },
      "execution_count": null,
      "outputs": [
        {
          "output_type": "stream",
          "name": "stdout",
          "text": [
            "[ 9.    9.    4.    5.    6.    6.    7.    9.    1.    9.    8.    9.\n",
            "  8.5   5.    8.    7.    7.    5.    8.    0.    6.    4.    6.    5.\n",
            "  9.    8.    7.    5.    9.    6.5   4.    6.    3.    3.    7.    5.\n",
            "  7.    0.    0.    8.    2.    2.    3.    0.    7.    7.    9.    7.\n",
            "  6.    5.    4.    4.    7.    5.    0.    9.    8.    8.    8.    0.\n",
            "  5.    8.    7.    7.    6.    3.    6.    6.    9.    6.    4.    7.\n",
            "  6.    3.    5.    7.5   5.    4.    2.    2.    6.    5.5   0.    5.\n",
            "  6.    5.    6.    5.    6.    0.    8.    7.    9.    8.    0.    4.\n",
            "  7.    6.    3.    5.    8.    4.    3.    9.    4.   10.    5.    5.\n",
            "  4.    7.    4.    7.    6.    4.    6.75  8.   10.    6.5   6.    7.\n",
            "  8.8   7.    3.    7.5   9.    7.    7.    7.    6.    7.    6.    8.\n",
            "  6.    7.    2.    7.    7.    8.    5.    6.    5.    8.5   9.    7.\n",
            " 10.    5.    5.    4.    7.    9.    1.    2.    7.   10.    6.    3.  ]\n"
          ]
        }
      ]
    },
    {
      "cell_type": "code",
      "source": [
        "df.info()"
      ],
      "metadata": {
        "id": "QXdh1sZGofZP",
        "colab": {
          "base_uri": "https://localhost:8080/"
        },
        "outputId": "77a27151-94b6-4cb9-cb4e-339da9744f7c"
      },
      "execution_count": null,
      "outputs": [
        {
          "output_type": "stream",
          "name": "stdout",
          "text": [
            "<class 'pandas.core.frame.DataFrame'>\n",
            "RangeIndex: 156 entries, 0 to 155\n",
            "Data columns (total 23 columns):\n",
            " #   Column                 Non-Null Count  Dtype  \n",
            "---  ------                 --------------  -----  \n",
            " 0   anxiety_level          156 non-null    int64  \n",
            " 1   sleeping_hours         156 non-null    int64  \n",
            " 2   health                 156 non-null    int64  \n",
            " 3   sports                 156 non-null    int64  \n",
            " 4   extra-curricular       156 non-null    int64  \n",
            " 5   Exercises_Yoga         156 non-null    int64  \n",
            " 6   Quizzes/assignments    156 non-null    int64  \n",
            " 7   screen_hours           156 non-null    int64  \n",
            " 8   effect_familyissues    156 non-null    int64  \n",
            " 9   friends_time           156 non-null    int64  \n",
            " 10  study_satisfaction     156 non-null    int64  \n",
            " 11  performing_meditation  156 non-null    int64  \n",
            " 12  following_hobby        156 non-null    int64  \n",
            " 13  caring/sharing         156 non-null    int64  \n",
            " 14  food_satisfaction      156 non-null    int64  \n",
            " 15  short_temperedness     156 non-null    int64  \n",
            " 16  Happiness_Score        156 non-null    float64\n",
            " 17  Course_name            156 non-null    int64  \n",
            " 18  Year                   156 non-null    int64  \n",
            " 19  Department             156 non-null    int64  \n",
            " 20  Gender                 156 non-null    int64  \n",
            " 21  Relationship_status    156 non-null    int64  \n",
            " 22  Getting_Stipend        156 non-null    int64  \n",
            "dtypes: float64(1), int64(22)\n",
            "memory usage: 28.2 KB\n"
          ]
        }
      ]
    },
    {
      "cell_type": "code",
      "source": [
        "df.describe()"
      ],
      "metadata": {
        "colab": {
          "base_uri": "https://localhost:8080/",
          "height": 411
        },
        "id": "QDAuJFunbpsU",
        "outputId": "23b1ea4c-1b44-4f2a-da04-bd3c89aaf6b4"
      },
      "execution_count": null,
      "outputs": [
        {
          "output_type": "execute_result",
          "data": {
            "text/plain": [
              "       anxiety_level  sleeping_hours      health      sports  \\\n",
              "count     156.000000      156.000000  156.000000  156.000000   \n",
              "mean        3.641026        6.250000    5.935897    3.371795   \n",
              "std         3.168288        2.477316    2.779370    3.211307   \n",
              "min         0.000000        0.000000    0.000000    0.000000   \n",
              "25%         1.000000        5.750000    4.000000    0.000000   \n",
              "50%         3.000000        7.000000    7.000000    2.000000   \n",
              "75%         6.000000        8.000000    8.000000    6.000000   \n",
              "max        10.000000       10.000000   10.000000   10.000000   \n",
              "\n",
              "       extra-curricular  Exercises_Yoga  Quizzes/assignments  screen_hours  \\\n",
              "count        156.000000      156.000000           156.000000    156.000000   \n",
              "mean           3.416667        3.301282             5.032051      5.788462   \n",
              "std            2.981574        3.385776             3.285196      2.803246   \n",
              "min            0.000000        0.000000             0.000000      0.000000   \n",
              "25%            1.000000        0.000000             2.000000      3.750000   \n",
              "50%            3.000000        2.000000             5.000000      6.000000   \n",
              "75%            5.250000        6.000000             8.000000      8.000000   \n",
              "max           10.000000       10.000000            10.000000     10.000000   \n",
              "\n",
              "       effect_familyissues  friends_time  ...  caring/sharing  \\\n",
              "count           156.000000    156.000000  ...      156.000000   \n",
              "mean              3.173077      4.012821  ...        6.128205   \n",
              "std               3.102888      2.637171  ...        3.157618   \n",
              "min               0.000000      0.000000  ...        0.000000   \n",
              "25%               0.000000      2.000000  ...        4.000000   \n",
              "50%               2.000000      3.000000  ...        7.000000   \n",
              "75%               5.000000      6.000000  ...        9.000000   \n",
              "max              10.000000     10.000000  ...       10.000000   \n",
              "\n",
              "       food_satisfaction  short_temperedness  Happiness_Score  Course_name  \\\n",
              "count         156.000000          156.000000       156.000000   156.000000   \n",
              "mean            3.673077            3.564103         5.795192     2.153846   \n",
              "std             2.889723            3.182978         2.456865     2.393954   \n",
              "min             0.000000            0.000000         0.000000     0.000000   \n",
              "25%             1.000000            1.000000         4.000000     0.000000   \n",
              "50%             4.000000            3.000000         6.000000     1.000000   \n",
              "75%             6.000000            6.000000         7.125000     4.000000   \n",
              "max            10.000000           10.000000        10.000000     7.000000   \n",
              "\n",
              "             Year  Department      Gender  Relationship_status  \\\n",
              "count  156.000000  156.000000  156.000000           156.000000   \n",
              "mean     1.237179    4.948718    0.679487             1.391026   \n",
              "std      0.937479    2.542021    0.494971             0.912803   \n",
              "min      0.000000    0.000000    0.000000             0.000000   \n",
              "25%      1.000000    3.000000    0.000000             1.000000   \n",
              "50%      1.000000    5.000000    1.000000             1.000000   \n",
              "75%      2.000000    7.000000    1.000000             2.000000   \n",
              "max      3.000000   10.000000    2.000000             3.000000   \n",
              "\n",
              "       Getting_Stipend  \n",
              "count       156.000000  \n",
              "mean          0.378205  \n",
              "std           0.486501  \n",
              "min           0.000000  \n",
              "25%           0.000000  \n",
              "50%           0.000000  \n",
              "75%           1.000000  \n",
              "max           1.000000  \n",
              "\n",
              "[8 rows x 23 columns]"
            ],
            "text/html": [
              "\n",
              "  <div id=\"df-7a7d6e42-2d99-4db5-9900-71a6c2a17d26\">\n",
              "    <div class=\"colab-df-container\">\n",
              "      <div>\n",
              "<style scoped>\n",
              "    .dataframe tbody tr th:only-of-type {\n",
              "        vertical-align: middle;\n",
              "    }\n",
              "\n",
              "    .dataframe tbody tr th {\n",
              "        vertical-align: top;\n",
              "    }\n",
              "\n",
              "    .dataframe thead th {\n",
              "        text-align: right;\n",
              "    }\n",
              "</style>\n",
              "<table border=\"1\" class=\"dataframe\">\n",
              "  <thead>\n",
              "    <tr style=\"text-align: right;\">\n",
              "      <th></th>\n",
              "      <th>anxiety_level</th>\n",
              "      <th>sleeping_hours</th>\n",
              "      <th>health</th>\n",
              "      <th>sports</th>\n",
              "      <th>extra-curricular</th>\n",
              "      <th>Exercises_Yoga</th>\n",
              "      <th>Quizzes/assignments</th>\n",
              "      <th>screen_hours</th>\n",
              "      <th>effect_familyissues</th>\n",
              "      <th>friends_time</th>\n",
              "      <th>...</th>\n",
              "      <th>caring/sharing</th>\n",
              "      <th>food_satisfaction</th>\n",
              "      <th>short_temperedness</th>\n",
              "      <th>Happiness_Score</th>\n",
              "      <th>Course_name</th>\n",
              "      <th>Year</th>\n",
              "      <th>Department</th>\n",
              "      <th>Gender</th>\n",
              "      <th>Relationship_status</th>\n",
              "      <th>Getting_Stipend</th>\n",
              "    </tr>\n",
              "  </thead>\n",
              "  <tbody>\n",
              "    <tr>\n",
              "      <th>count</th>\n",
              "      <td>156.000000</td>\n",
              "      <td>156.000000</td>\n",
              "      <td>156.000000</td>\n",
              "      <td>156.000000</td>\n",
              "      <td>156.000000</td>\n",
              "      <td>156.000000</td>\n",
              "      <td>156.000000</td>\n",
              "      <td>156.000000</td>\n",
              "      <td>156.000000</td>\n",
              "      <td>156.000000</td>\n",
              "      <td>...</td>\n",
              "      <td>156.000000</td>\n",
              "      <td>156.000000</td>\n",
              "      <td>156.000000</td>\n",
              "      <td>156.000000</td>\n",
              "      <td>156.000000</td>\n",
              "      <td>156.000000</td>\n",
              "      <td>156.000000</td>\n",
              "      <td>156.000000</td>\n",
              "      <td>156.000000</td>\n",
              "      <td>156.000000</td>\n",
              "    </tr>\n",
              "    <tr>\n",
              "      <th>mean</th>\n",
              "      <td>3.641026</td>\n",
              "      <td>6.250000</td>\n",
              "      <td>5.935897</td>\n",
              "      <td>3.371795</td>\n",
              "      <td>3.416667</td>\n",
              "      <td>3.301282</td>\n",
              "      <td>5.032051</td>\n",
              "      <td>5.788462</td>\n",
              "      <td>3.173077</td>\n",
              "      <td>4.012821</td>\n",
              "      <td>...</td>\n",
              "      <td>6.128205</td>\n",
              "      <td>3.673077</td>\n",
              "      <td>3.564103</td>\n",
              "      <td>5.795192</td>\n",
              "      <td>2.153846</td>\n",
              "      <td>1.237179</td>\n",
              "      <td>4.948718</td>\n",
              "      <td>0.679487</td>\n",
              "      <td>1.391026</td>\n",
              "      <td>0.378205</td>\n",
              "    </tr>\n",
              "    <tr>\n",
              "      <th>std</th>\n",
              "      <td>3.168288</td>\n",
              "      <td>2.477316</td>\n",
              "      <td>2.779370</td>\n",
              "      <td>3.211307</td>\n",
              "      <td>2.981574</td>\n",
              "      <td>3.385776</td>\n",
              "      <td>3.285196</td>\n",
              "      <td>2.803246</td>\n",
              "      <td>3.102888</td>\n",
              "      <td>2.637171</td>\n",
              "      <td>...</td>\n",
              "      <td>3.157618</td>\n",
              "      <td>2.889723</td>\n",
              "      <td>3.182978</td>\n",
              "      <td>2.456865</td>\n",
              "      <td>2.393954</td>\n",
              "      <td>0.937479</td>\n",
              "      <td>2.542021</td>\n",
              "      <td>0.494971</td>\n",
              "      <td>0.912803</td>\n",
              "      <td>0.486501</td>\n",
              "    </tr>\n",
              "    <tr>\n",
              "      <th>min</th>\n",
              "      <td>0.000000</td>\n",
              "      <td>0.000000</td>\n",
              "      <td>0.000000</td>\n",
              "      <td>0.000000</td>\n",
              "      <td>0.000000</td>\n",
              "      <td>0.000000</td>\n",
              "      <td>0.000000</td>\n",
              "      <td>0.000000</td>\n",
              "      <td>0.000000</td>\n",
              "      <td>0.000000</td>\n",
              "      <td>...</td>\n",
              "      <td>0.000000</td>\n",
              "      <td>0.000000</td>\n",
              "      <td>0.000000</td>\n",
              "      <td>0.000000</td>\n",
              "      <td>0.000000</td>\n",
              "      <td>0.000000</td>\n",
              "      <td>0.000000</td>\n",
              "      <td>0.000000</td>\n",
              "      <td>0.000000</td>\n",
              "      <td>0.000000</td>\n",
              "    </tr>\n",
              "    <tr>\n",
              "      <th>25%</th>\n",
              "      <td>1.000000</td>\n",
              "      <td>5.750000</td>\n",
              "      <td>4.000000</td>\n",
              "      <td>0.000000</td>\n",
              "      <td>1.000000</td>\n",
              "      <td>0.000000</td>\n",
              "      <td>2.000000</td>\n",
              "      <td>3.750000</td>\n",
              "      <td>0.000000</td>\n",
              "      <td>2.000000</td>\n",
              "      <td>...</td>\n",
              "      <td>4.000000</td>\n",
              "      <td>1.000000</td>\n",
              "      <td>1.000000</td>\n",
              "      <td>4.000000</td>\n",
              "      <td>0.000000</td>\n",
              "      <td>1.000000</td>\n",
              "      <td>3.000000</td>\n",
              "      <td>0.000000</td>\n",
              "      <td>1.000000</td>\n",
              "      <td>0.000000</td>\n",
              "    </tr>\n",
              "    <tr>\n",
              "      <th>50%</th>\n",
              "      <td>3.000000</td>\n",
              "      <td>7.000000</td>\n",
              "      <td>7.000000</td>\n",
              "      <td>2.000000</td>\n",
              "      <td>3.000000</td>\n",
              "      <td>2.000000</td>\n",
              "      <td>5.000000</td>\n",
              "      <td>6.000000</td>\n",
              "      <td>2.000000</td>\n",
              "      <td>3.000000</td>\n",
              "      <td>...</td>\n",
              "      <td>7.000000</td>\n",
              "      <td>4.000000</td>\n",
              "      <td>3.000000</td>\n",
              "      <td>6.000000</td>\n",
              "      <td>1.000000</td>\n",
              "      <td>1.000000</td>\n",
              "      <td>5.000000</td>\n",
              "      <td>1.000000</td>\n",
              "      <td>1.000000</td>\n",
              "      <td>0.000000</td>\n",
              "    </tr>\n",
              "    <tr>\n",
              "      <th>75%</th>\n",
              "      <td>6.000000</td>\n",
              "      <td>8.000000</td>\n",
              "      <td>8.000000</td>\n",
              "      <td>6.000000</td>\n",
              "      <td>5.250000</td>\n",
              "      <td>6.000000</td>\n",
              "      <td>8.000000</td>\n",
              "      <td>8.000000</td>\n",
              "      <td>5.000000</td>\n",
              "      <td>6.000000</td>\n",
              "      <td>...</td>\n",
              "      <td>9.000000</td>\n",
              "      <td>6.000000</td>\n",
              "      <td>6.000000</td>\n",
              "      <td>7.125000</td>\n",
              "      <td>4.000000</td>\n",
              "      <td>2.000000</td>\n",
              "      <td>7.000000</td>\n",
              "      <td>1.000000</td>\n",
              "      <td>2.000000</td>\n",
              "      <td>1.000000</td>\n",
              "    </tr>\n",
              "    <tr>\n",
              "      <th>max</th>\n",
              "      <td>10.000000</td>\n",
              "      <td>10.000000</td>\n",
              "      <td>10.000000</td>\n",
              "      <td>10.000000</td>\n",
              "      <td>10.000000</td>\n",
              "      <td>10.000000</td>\n",
              "      <td>10.000000</td>\n",
              "      <td>10.000000</td>\n",
              "      <td>10.000000</td>\n",
              "      <td>10.000000</td>\n",
              "      <td>...</td>\n",
              "      <td>10.000000</td>\n",
              "      <td>10.000000</td>\n",
              "      <td>10.000000</td>\n",
              "      <td>10.000000</td>\n",
              "      <td>7.000000</td>\n",
              "      <td>3.000000</td>\n",
              "      <td>10.000000</td>\n",
              "      <td>2.000000</td>\n",
              "      <td>3.000000</td>\n",
              "      <td>1.000000</td>\n",
              "    </tr>\n",
              "  </tbody>\n",
              "</table>\n",
              "<p>8 rows × 23 columns</p>\n",
              "</div>\n",
              "      <button class=\"colab-df-convert\" onclick=\"convertToInteractive('df-7a7d6e42-2d99-4db5-9900-71a6c2a17d26')\"\n",
              "              title=\"Convert this dataframe to an interactive table.\"\n",
              "              style=\"display:none;\">\n",
              "        \n",
              "  <svg xmlns=\"http://www.w3.org/2000/svg\" height=\"24px\"viewBox=\"0 0 24 24\"\n",
              "       width=\"24px\">\n",
              "    <path d=\"M0 0h24v24H0V0z\" fill=\"none\"/>\n",
              "    <path d=\"M18.56 5.44l.94 2.06.94-2.06 2.06-.94-2.06-.94-.94-2.06-.94 2.06-2.06.94zm-11 1L8.5 8.5l.94-2.06 2.06-.94-2.06-.94L8.5 2.5l-.94 2.06-2.06.94zm10 10l.94 2.06.94-2.06 2.06-.94-2.06-.94-.94-2.06-.94 2.06-2.06.94z\"/><path d=\"M17.41 7.96l-1.37-1.37c-.4-.4-.92-.59-1.43-.59-.52 0-1.04.2-1.43.59L10.3 9.45l-7.72 7.72c-.78.78-.78 2.05 0 2.83L4 21.41c.39.39.9.59 1.41.59.51 0 1.02-.2 1.41-.59l7.78-7.78 2.81-2.81c.8-.78.8-2.07 0-2.86zM5.41 20L4 18.59l7.72-7.72 1.47 1.35L5.41 20z\"/>\n",
              "  </svg>\n",
              "      </button>\n",
              "      \n",
              "  <style>\n",
              "    .colab-df-container {\n",
              "      display:flex;\n",
              "      flex-wrap:wrap;\n",
              "      gap: 12px;\n",
              "    }\n",
              "\n",
              "    .colab-df-convert {\n",
              "      background-color: #E8F0FE;\n",
              "      border: none;\n",
              "      border-radius: 50%;\n",
              "      cursor: pointer;\n",
              "      display: none;\n",
              "      fill: #1967D2;\n",
              "      height: 32px;\n",
              "      padding: 0 0 0 0;\n",
              "      width: 32px;\n",
              "    }\n",
              "\n",
              "    .colab-df-convert:hover {\n",
              "      background-color: #E2EBFA;\n",
              "      box-shadow: 0px 1px 2px rgba(60, 64, 67, 0.3), 0px 1px 3px 1px rgba(60, 64, 67, 0.15);\n",
              "      fill: #174EA6;\n",
              "    }\n",
              "\n",
              "    [theme=dark] .colab-df-convert {\n",
              "      background-color: #3B4455;\n",
              "      fill: #D2E3FC;\n",
              "    }\n",
              "\n",
              "    [theme=dark] .colab-df-convert:hover {\n",
              "      background-color: #434B5C;\n",
              "      box-shadow: 0px 1px 3px 1px rgba(0, 0, 0, 0.15);\n",
              "      filter: drop-shadow(0px 1px 2px rgba(0, 0, 0, 0.3));\n",
              "      fill: #FFFFFF;\n",
              "    }\n",
              "  </style>\n",
              "\n",
              "      <script>\n",
              "        const buttonEl =\n",
              "          document.querySelector('#df-7a7d6e42-2d99-4db5-9900-71a6c2a17d26 button.colab-df-convert');\n",
              "        buttonEl.style.display =\n",
              "          google.colab.kernel.accessAllowed ? 'block' : 'none';\n",
              "\n",
              "        async function convertToInteractive(key) {\n",
              "          const element = document.querySelector('#df-7a7d6e42-2d99-4db5-9900-71a6c2a17d26');\n",
              "          const dataTable =\n",
              "            await google.colab.kernel.invokeFunction('convertToInteractive',\n",
              "                                                     [key], {});\n",
              "          if (!dataTable) return;\n",
              "\n",
              "          const docLinkHtml = 'Like what you see? Visit the ' +\n",
              "            '<a target=\"_blank\" href=https://colab.research.google.com/notebooks/data_table.ipynb>data table notebook</a>'\n",
              "            + ' to learn more about interactive tables.';\n",
              "          element.innerHTML = '';\n",
              "          dataTable['output_type'] = 'display_data';\n",
              "          await google.colab.output.renderOutput(dataTable, element);\n",
              "          const docLink = document.createElement('div');\n",
              "          docLink.innerHTML = docLinkHtml;\n",
              "          element.appendChild(docLink);\n",
              "        }\n",
              "      </script>\n",
              "    </div>\n",
              "  </div>\n",
              "  "
            ]
          },
          "metadata": {},
          "execution_count": 161
        }
      ]
    },
    {
      "cell_type": "code",
      "source": [
        "sns.displot(df['Happiness_Score'])"
      ],
      "metadata": {
        "colab": {
          "base_uri": "https://localhost:8080/",
          "height": 386
        },
        "id": "k67lxSB7bs__",
        "outputId": "b784df10-a24c-490a-8a48-72eeaec46436"
      },
      "execution_count": null,
      "outputs": [
        {
          "output_type": "execute_result",
          "data": {
            "text/plain": [
              "<seaborn.axisgrid.FacetGrid at 0x7f60ecf65a90>"
            ]
          },
          "metadata": {},
          "execution_count": 162
        },
        {
          "output_type": "display_data",
          "data": {
            "text/plain": [
              "<Figure size 360x360 with 1 Axes>"
            ],
            "image/png": "[encoded data removed]"
          },
          "metadata": {
            "needs_background": "light"
          }
        }
      ]
    },
    {
      "cell_type": "code",
      "source": [
        "sns.heatmap(df.corr())"
      ],
      "metadata": {
        "colab": {
          "base_uri": "https://localhost:8080/",
          "height": 391
        },
        "id": "g2THNXX4byTg",
        "outputId": "1020e8a0-8ee4-4719-afa1-946cd83f1742"
      },
      "execution_count": null,
      "outputs": [
        {
          "output_type": "execute_result",
          "data": {
            "text/plain": [
              "<matplotlib.axes._subplots.AxesSubplot at 0x7f60ece33090>"
            ]
          },
          "metadata": {},
          "execution_count": 163
        },
        {
          "output_type": "display_data",
          "data": {
            "text/plain": [
              "<Figure size 432x288 with 2 Axes>"
            ],
            "image/png": "[encoded data removed]"
          },
          "metadata": {
            "needs_background": "light"
          }
        }
      ]
    },
    {
      "cell_type": "code",
      "source": [
        "plt.scatter(x=df['sleeping_hours'],y= df['Happiness_Score'])"
      ],
      "metadata": {
        "colab": {
          "base_uri": "https://localhost:8080/",
          "height": 282
        },
        "id": "0By7_g1P_eVL",
        "outputId": "8f9b1231-17a5-4645-ddf5-5f8b20210b6d"
      },
      "execution_count": null,
      "outputs": [
        {
          "output_type": "execute_result",
          "data": {
            "text/plain": [
              "<matplotlib.collections.PathCollection at 0x7f60ecd56c50>"
            ]
          },
          "metadata": {},
          "execution_count": 164
        },
        {
          "output_type": "display_data",
          "data": {
            "text/plain": [
              "<Figure size 432x288 with 1 Axes>"
            ],
            "image/png": "[encoded data removed]"
          },
          "metadata": {
            "needs_background": "light"
          }
        }
      ]
    },
    {
      "cell_type": "code",
      "source": [
        "plt.scatter(x=df['anxiety_level'],y= df['Happiness_Score'])"
      ],
      "metadata": {
        "id": "KSF2hgwytuR-",
        "colab": {
          "base_uri": "https://localhost:8080/",
          "height": 282
        },
        "outputId": "e5a6922f-035f-46fc-9669-f946bb8d92f0"
      },
      "execution_count": null,
      "outputs": [
        {
          "output_type": "execute_result",
          "data": {
            "text/plain": [
              "<matplotlib.collections.PathCollection at 0x7f60eccc81d0>"
            ]
          },
          "metadata": {},
          "execution_count": 165
        },
        {
          "output_type": "display_data",
          "data": {
            "text/plain": [
              "<Figure size 432x288 with 1 Axes>"
            ],
            "image/png": "[encoded data removed]"
          },
          "metadata": {
            "needs_background": "light"
          }
        }
      ]
    },
    {
      "cell_type": "code",
      "source": [
        "plt.scatter(x=df['performing_meditation'],y= df['Happiness_Score'])"
      ],
      "metadata": {
        "colab": {
          "base_uri": "https://localhost:8080/",
          "height": 282
        },
        "id": "FPwJvNj1ATBe",
        "outputId": "e1b6a1c7-71e9-44ef-ae9e-eaaeb494e998"
      },
      "execution_count": null,
      "outputs": [
        {
          "output_type": "execute_result",
          "data": {
            "text/plain": [
              "<matplotlib.collections.PathCollection at 0x7f60ecc22f50>"
            ]
          },
          "metadata": {},
          "execution_count": 166
        },
        {
          "output_type": "display_data",
          "data": {
            "text/plain": [
              "<Figure size 432x288 with 1 Axes>"
            ],
            "image/png": "[encoded data removed]"
          },
          "metadata": {
            "needs_background": "light"
          }
        }
      ]
    },
    {
      "cell_type": "code",
      "source": [
        "plt.scatter(x=df['Quizzes/assignments'],y= df['Happiness_Score'])"
      ],
      "metadata": {
        "colab": {
          "base_uri": "https://localhost:8080/",
          "height": 282
        },
        "id": "MrUpd8EkAj6G",
        "outputId": "c2ed5f97-123f-4ce4-e436-49db5348bbfc"
      },
      "execution_count": null,
      "outputs": [
        {
          "output_type": "execute_result",
          "data": {
            "text/plain": [
              "<matplotlib.collections.PathCollection at 0x7f60ed0d20d0>"
            ]
          },
          "metadata": {},
          "execution_count": 167
        },
        {
          "output_type": "display_data",
          "data": {
            "text/plain": [
              "<Figure size 432x288 with 1 Axes>"
            ],
            "image/png": "[encoded data removed]"
          },
          "metadata": {
            "needs_background": "light"
          }
        }
      ]
    },
    {
      "cell_type": "code",
      "source": [
        "cor_matrix = df.corr()\n",
        "print(cor_matrix)"
      ],
      "metadata": {
        "colab": {
          "base_uri": "https://localhost:8080/"
        },
        "id": "rwlDsUyMcpiJ",
        "outputId": "f859ed4b-07c9-43df-f5db-6c37401dbe3b"
      },
      "execution_count": null,
      "outputs": [
        {
          "output_type": "stream",
          "name": "stdout",
          "text": [
            "                       anxiety_level  sleeping_hours    health    sports  \\\n",
            "anxiety_level               1.000000        0.085486 -0.079558 -0.181468   \n",
            "sleeping_hours              0.085486        1.000000  0.616079  0.313440   \n",
            "health                     -0.079558        0.616079  1.000000  0.543369   \n",
            "sports                     -0.181468        0.313440  0.543369  1.000000   \n",
            "extra-curricular           -0.069435        0.265312  0.392510  0.652141   \n",
            "Exercises_Yoga             -0.201556        0.252484  0.561506  0.672011   \n",
            "Quizzes/assignments         0.234794        0.282807  0.229865  0.189664   \n",
            "screen_hours                0.284865        0.405285  0.392404  0.127045   \n",
            "effect_familyissues         0.363367        0.197447  0.120990  0.176087   \n",
            "friends_time                0.002099        0.373779  0.459580  0.479375   \n",
            "study_satisfaction         -0.154306        0.390183  0.559863  0.369871   \n",
            "performing_meditation      -0.149243        0.185240  0.374748  0.390859   \n",
            "following_hobby            -0.186683        0.318985  0.475393  0.521461   \n",
            "caring/sharing             -0.086299        0.489082  0.576547  0.309576   \n",
            "food_satisfaction          -0.113669        0.371978  0.448013  0.335076   \n",
            "short_temperedness          0.508978        0.217638  0.085792  0.005227   \n",
            "Happiness_Score            -0.601784        0.092843  0.380048  0.277763   \n",
            "Course_name                -0.022443       -0.001088  0.061609  0.071397   \n",
            "Year                        0.193931       -0.003472 -0.051077 -0.149489   \n",
            "Department                 -0.160109        0.081959  0.096326  0.187288   \n",
            "Gender                     -0.110867       -0.028938  0.031866  0.205338   \n",
            "Relationship_status        -0.073846        0.116262 -0.015486  0.000705   \n",
            "Getting_Stipend             0.076092       -0.025427  0.027588 -0.028642   \n",
            "\n",
            "                       extra-curricular  Exercises_Yoga  Quizzes/assignments  \\\n",
            "anxiety_level                 -0.069435       -0.201556             0.234794   \n",
            "sleeping_hours                 0.265312        0.252484             0.282807   \n",
            "health                         0.392510        0.561506             0.229865   \n",
            "sports                         0.652141        0.672011             0.189664   \n",
            "extra-curricular               1.000000        0.507707             0.275265   \n",
            "Exercises_Yoga                 0.507707        1.000000             0.138913   \n",
            "Quizzes/assignments            0.275265        0.138913             1.000000   \n",
            "screen_hours                   0.168853        0.144747             0.202502   \n",
            "effect_familyissues            0.177652        0.036764             0.279831   \n",
            "friends_time                   0.457161        0.331218             0.106441   \n",
            "study_satisfaction             0.394834        0.439187             0.189612   \n",
            "performing_meditation          0.324652        0.440187             0.137848   \n",
            "following_hobby                0.484071        0.627604             0.206397   \n",
            "caring/sharing                 0.375986        0.410943             0.163793   \n",
            "food_satisfaction              0.390313        0.311481             0.238969   \n",
            "short_temperedness             0.134150       -0.054785             0.298114   \n",
            "Happiness_Score                0.227547        0.340850            -0.126115   \n",
            "Course_name                   -0.081348        0.116027            -0.224582   \n",
            "Year                          -0.093287       -0.114124             0.026843   \n",
            "Department                    -0.024402        0.252924             0.046551   \n",
            "Gender                         0.034244        0.092640            -0.045220   \n",
            "Relationship_status            0.003753        0.015911            -0.040781   \n",
            "Getting_Stipend               -0.149370        0.067464            -0.253870   \n",
            "\n",
            "                       screen_hours  effect_familyissues  friends_time  ...  \\\n",
            "anxiety_level              0.284865             0.363367      0.002099  ...   \n",
            "sleeping_hours             0.405285             0.197447      0.373779  ...   \n",
            "health                     0.392404             0.120990      0.459580  ...   \n",
            "sports                     0.127045             0.176087      0.479375  ...   \n",
            "extra-curricular           0.168853             0.177652      0.457161  ...   \n",
            "Exercises_Yoga             0.144747             0.036764      0.331218  ...   \n",
            "Quizzes/assignments        0.202502             0.279831      0.106441  ...   \n",
            "screen_hours               1.000000             0.188925      0.264800  ...   \n",
            "effect_familyissues        0.188925             1.000000      0.207084  ...   \n",
            "friends_time               0.264800             0.207084      1.000000  ...   \n",
            "study_satisfaction         0.237323             0.141268      0.308652  ...   \n",
            "performing_meditation      0.106203             0.175883      0.282842  ...   \n",
            "following_hobby            0.202402             0.104844      0.325912  ...   \n",
            "caring/sharing             0.240694             0.055008      0.409652  ...   \n",
            "food_satisfaction          0.169013             0.066072      0.187650  ...   \n",
            "short_temperedness         0.267254             0.365660      0.139017  ...   \n",
            "Happiness_Score           -0.118554            -0.287418      0.176854  ...   \n",
            "Course_name                0.044297             0.091062     -0.010534  ...   \n",
            "Year                       0.159148             0.183189     -0.022114  ...   \n",
            "Department                -0.042274            -0.038129      0.013572  ...   \n",
            "Gender                    -0.142174            -0.001454      0.032824  ...   \n",
            "Relationship_status        0.030014            -0.014937     -0.012816  ...   \n",
            "Getting_Stipend           -0.011918             0.050382     -0.089290  ...   \n",
            "\n",
            "                       caring/sharing  food_satisfaction  short_temperedness  \\\n",
            "anxiety_level               -0.086299          -0.113669            0.508978   \n",
            "sleeping_hours               0.489082           0.371978            0.217638   \n",
            "health                       0.576547           0.448013            0.085792   \n",
            "sports                       0.309576           0.335076            0.005227   \n",
            "extra-curricular             0.375986           0.390313            0.134150   \n",
            "Exercises_Yoga               0.410943           0.311481           -0.054785   \n",
            "Quizzes/assignments          0.163793           0.238969            0.298114   \n",
            "screen_hours                 0.240694           0.169013            0.267254   \n",
            "effect_familyissues          0.055008           0.066072            0.365660   \n",
            "friends_time                 0.409652           0.187650            0.139017   \n",
            "study_satisfaction           0.524149           0.421661            0.062864   \n",
            "performing_meditation        0.252253           0.273721           -0.064820   \n",
            "following_hobby              0.518246           0.440592            0.054205   \n",
            "caring/sharing               1.000000           0.430269           -0.039338   \n",
            "food_satisfaction            0.430269           1.000000            0.109260   \n",
            "short_temperedness          -0.039338           0.109260            1.000000   \n",
            "Happiness_Score              0.344456           0.262807           -0.304571   \n",
            "Course_name                 -0.039326          -0.079415           -0.047023   \n",
            "Year                        -0.040851           0.000229            0.175406   \n",
            "Department                   0.022526           0.097827           -0.068962   \n",
            "Gender                      -0.051969           0.002949           -0.105630   \n",
            "Relationship_status         -0.017505           0.083019            0.090131   \n",
            "Getting_Stipend             -0.090564          -0.104226           -0.038672   \n",
            "\n",
            "                       Happiness_Score  Course_name      Year  Department  \\\n",
            "anxiety_level                -0.601784    -0.022443  0.193931   -0.160109   \n",
            "sleeping_hours                0.092843    -0.001088 -0.003472    0.081959   \n",
            "health                        0.380048     0.061609 -0.051077    0.096326   \n",
            "sports                        0.277763     0.071397 -0.149489    0.187288   \n",
            "extra-curricular              0.227547    -0.081348 -0.093287   -0.024402   \n",
            "Exercises_Yoga                0.340850     0.116027 -0.114124    0.252924   \n",
            "Quizzes/assignments          -0.126115    -0.224582  0.026843    0.046551   \n",
            "screen_hours                 -0.118554     0.044297  0.159148   -0.042274   \n",
            "effect_familyissues          -0.287418     0.091062  0.183189   -0.038129   \n",
            "friends_time                  0.176854    -0.010534 -0.022114    0.013572   \n",
            "study_satisfaction            0.455165     0.218535  0.009367    0.112201   \n",
            "performing_meditation         0.220356     0.192158 -0.049740    0.142490   \n",
            "following_hobby               0.414598    -0.023951 -0.037345    0.143832   \n",
            "caring/sharing                0.344456    -0.039326 -0.040851    0.022526   \n",
            "food_satisfaction             0.262807    -0.079415  0.000229    0.097827   \n",
            "short_temperedness           -0.304571    -0.047023  0.175406   -0.068962   \n",
            "Happiness_Score               1.000000     0.001004 -0.082974    0.084668   \n",
            "Course_name                   0.001004     1.000000 -0.185970    0.180473   \n",
            "Year                         -0.082974    -0.185970  1.000000    0.043038   \n",
            "Department                    0.084668     0.180473  0.043038    1.000000   \n",
            "Gender                       -0.002867    -0.165016 -0.113190   -0.013148   \n",
            "Relationship_status           0.032345     0.054960 -0.011067    0.047624   \n",
            "Getting_Stipend               0.053348     0.736324 -0.098929    0.026218   \n",
            "\n",
            "                         Gender  Relationship_status  Getting_Stipend  \n",
            "anxiety_level         -0.110867            -0.073846         0.076092  \n",
            "sleeping_hours        -0.028938             0.116262        -0.025427  \n",
            "health                 0.031866            -0.015486         0.027588  \n",
            "sports                 0.205338             0.000705        -0.028642  \n",
            "extra-curricular       0.034244             0.003753        -0.149370  \n",
            "Exercises_Yoga         0.092640             0.015911         0.067464  \n",
            "Quizzes/assignments   -0.045220            -0.040781        -0.253870  \n",
            "screen_hours          -0.142174             0.030014        -0.011918  \n",
            "effect_familyissues   -0.001454            -0.014937         0.050382  \n",
            "friends_time           0.032824            -0.012816        -0.089290  \n",
            "study_satisfaction    -0.020350            -0.006419         0.157268  \n",
            "performing_meditation  0.112195            -0.049857         0.105063  \n",
            "following_hobby        0.155866             0.035666        -0.068194  \n",
            "caring/sharing        -0.051969            -0.017505        -0.090564  \n",
            "food_satisfaction      0.002949             0.083019        -0.104226  \n",
            "short_temperedness    -0.105630             0.090131        -0.038672  \n",
            "Happiness_Score       -0.002867             0.032345         0.053348  \n",
            "Course_name           -0.165016             0.054960         0.736324  \n",
            "Year                  -0.113190            -0.011067        -0.098929  \n",
            "Department            -0.013148             0.047624         0.026218  \n",
            "Gender                 1.000000            -0.106364        -0.109572  \n",
            "Relationship_status   -0.106364             1.000000        -0.001024  \n",
            "Getting_Stipend       -0.109572            -0.001024         1.000000  \n",
            "\n",
            "[23 rows x 23 columns]\n"
          ]
        }
      ]
    },
    {
      "cell_type": "code",
      "source": [
        "upper_tri = cor_matrix.where(np.triu(np.ones(cor_matrix.shape),k=1).astype(np.bool))\n",
        "print(upper_tri)"
      ],
      "metadata": {
        "colab": {
          "base_uri": "https://localhost:8080/"
        },
        "id": "LkvhuBe-dWQ8",
        "outputId": "9d60514b-e424-4b11-b889-7957d7a64a60"
      },
      "execution_count": null,
      "outputs": [
        {
          "output_type": "stream",
          "name": "stdout",
          "text": [
            "                       anxiety_level  sleeping_hours    health    sports  \\\n",
            "anxiety_level                    NaN        0.085486 -0.079558 -0.181468   \n",
            "sleeping_hours                   NaN             NaN  0.616079  0.313440   \n",
            "health                           NaN             NaN       NaN  0.543369   \n",
            "sports                           NaN             NaN       NaN       NaN   \n",
            "extra-curricular                 NaN             NaN       NaN       NaN   \n",
            "Exercises_Yoga                   NaN             NaN       NaN       NaN   \n",
            "Quizzes/assignments              NaN             NaN       NaN       NaN   \n",
            "screen_hours                     NaN             NaN       NaN       NaN   \n",
            "effect_familyissues              NaN             NaN       NaN       NaN   \n",
            "friends_time                     NaN             NaN       NaN       NaN   \n",
            "study_satisfaction               NaN             NaN       NaN       NaN   \n",
            "performing_meditation            NaN             NaN       NaN       NaN   \n",
            "following_hobby                  NaN             NaN       NaN       NaN   \n",
            "caring/sharing                   NaN             NaN       NaN       NaN   \n",
            "food_satisfaction                NaN             NaN       NaN       NaN   \n",
            "short_temperedness               NaN             NaN       NaN       NaN   \n",
            "Happiness_Score                  NaN             NaN       NaN       NaN   \n",
            "Course_name                      NaN             NaN       NaN       NaN   \n",
            "Year                             NaN             NaN       NaN       NaN   \n",
            "Department                       NaN             NaN       NaN       NaN   \n",
            "Gender                           NaN             NaN       NaN       NaN   \n",
            "Relationship_status              NaN             NaN       NaN       NaN   \n",
            "Getting_Stipend                  NaN             NaN       NaN       NaN   \n",
            "\n",
            "                       extra-curricular  Exercises_Yoga  Quizzes/assignments  \\\n",
            "anxiety_level                 -0.069435       -0.201556             0.234794   \n",
            "sleeping_hours                 0.265312        0.252484             0.282807   \n",
            "health                         0.392510        0.561506             0.229865   \n",
            "sports                         0.652141        0.672011             0.189664   \n",
            "extra-curricular                    NaN        0.507707             0.275265   \n",
            "Exercises_Yoga                      NaN             NaN             0.138913   \n",
            "Quizzes/assignments                 NaN             NaN                  NaN   \n",
            "screen_hours                        NaN             NaN                  NaN   \n",
            "effect_familyissues                 NaN             NaN                  NaN   \n",
            "friends_time                        NaN             NaN                  NaN   \n",
            "study_satisfaction                  NaN             NaN                  NaN   \n",
            "performing_meditation               NaN             NaN                  NaN   \n",
            "following_hobby                     NaN             NaN                  NaN   \n",
            "caring/sharing                      NaN             NaN                  NaN   \n",
            "food_satisfaction                   NaN             NaN                  NaN   \n",
            "short_temperedness                  NaN             NaN                  NaN   \n",
            "Happiness_Score                     NaN             NaN                  NaN   \n",
            "Course_name                         NaN             NaN                  NaN   \n",
            "Year                                NaN             NaN                  NaN   \n",
            "Department                          NaN             NaN                  NaN   \n",
            "Gender                              NaN             NaN                  NaN   \n",
            "Relationship_status                 NaN             NaN                  NaN   \n",
            "Getting_Stipend                     NaN             NaN                  NaN   \n",
            "\n",
            "                       screen_hours  effect_familyissues  friends_time  ...  \\\n",
            "anxiety_level              0.284865             0.363367      0.002099  ...   \n",
            "sleeping_hours             0.405285             0.197447      0.373779  ...   \n",
            "health                     0.392404             0.120990      0.459580  ...   \n",
            "sports                     0.127045             0.176087      0.479375  ...   \n",
            "extra-curricular           0.168853             0.177652      0.457161  ...   \n",
            "Exercises_Yoga             0.144747             0.036764      0.331218  ...   \n",
            "Quizzes/assignments        0.202502             0.279831      0.106441  ...   \n",
            "screen_hours                    NaN             0.188925      0.264800  ...   \n",
            "effect_familyissues             NaN                  NaN      0.207084  ...   \n",
            "friends_time                    NaN                  NaN           NaN  ...   \n",
            "study_satisfaction              NaN                  NaN           NaN  ...   \n",
            "performing_meditation           NaN                  NaN           NaN  ...   \n",
            "following_hobby                 NaN                  NaN           NaN  ...   \n",
            "caring/sharing                  NaN                  NaN           NaN  ...   \n",
            "food_satisfaction               NaN                  NaN           NaN  ...   \n",
            "short_temperedness              NaN                  NaN           NaN  ...   \n",
            "Happiness_Score                 NaN                  NaN           NaN  ...   \n",
            "Course_name                     NaN                  NaN           NaN  ...   \n",
            "Year                            NaN                  NaN           NaN  ...   \n",
            "Department                      NaN                  NaN           NaN  ...   \n",
            "Gender                          NaN                  NaN           NaN  ...   \n",
            "Relationship_status             NaN                  NaN           NaN  ...   \n",
            "Getting_Stipend                 NaN                  NaN           NaN  ...   \n",
            "\n",
            "                       caring/sharing  food_satisfaction  short_temperedness  \\\n",
            "anxiety_level               -0.086299          -0.113669            0.508978   \n",
            "sleeping_hours               0.489082           0.371978            0.217638   \n",
            "health                       0.576547           0.448013            0.085792   \n",
            "sports                       0.309576           0.335076            0.005227   \n",
            "extra-curricular             0.375986           0.390313            0.134150   \n",
            "Exercises_Yoga               0.410943           0.311481           -0.054785   \n",
            "Quizzes/assignments          0.163793           0.238969            0.298114   \n",
            "screen_hours                 0.240694           0.169013            0.267254   \n",
            "effect_familyissues          0.055008           0.066072            0.365660   \n",
            "friends_time                 0.409652           0.187650            0.139017   \n",
            "study_satisfaction           0.524149           0.421661            0.062864   \n",
            "performing_meditation        0.252253           0.273721           -0.064820   \n",
            "following_hobby              0.518246           0.440592            0.054205   \n",
            "caring/sharing                    NaN           0.430269           -0.039338   \n",
            "food_satisfaction                 NaN                NaN            0.109260   \n",
            "short_temperedness                NaN                NaN                 NaN   \n",
            "Happiness_Score                   NaN                NaN                 NaN   \n",
            "Course_name                       NaN                NaN                 NaN   \n",
            "Year                              NaN                NaN                 NaN   \n",
            "Department                        NaN                NaN                 NaN   \n",
            "Gender                            NaN                NaN                 NaN   \n",
            "Relationship_status               NaN                NaN                 NaN   \n",
            "Getting_Stipend                   NaN                NaN                 NaN   \n",
            "\n",
            "                       Happiness_Score  Course_name      Year  Department  \\\n",
            "anxiety_level                -0.601784    -0.022443  0.193931   -0.160109   \n",
            "sleeping_hours                0.092843    -0.001088 -0.003472    0.081959   \n",
            "health                        0.380048     0.061609 -0.051077    0.096326   \n",
            "sports                        0.277763     0.071397 -0.149489    0.187288   \n",
            "extra-curricular              0.227547    -0.081348 -0.093287   -0.024402   \n",
            "Exercises_Yoga                0.340850     0.116027 -0.114124    0.252924   \n",
            "Quizzes/assignments          -0.126115    -0.224582  0.026843    0.046551   \n",
            "screen_hours                 -0.118554     0.044297  0.159148   -0.042274   \n",
            "effect_familyissues          -0.287418     0.091062  0.183189   -0.038129   \n",
            "friends_time                  0.176854    -0.010534 -0.022114    0.013572   \n",
            "study_satisfaction            0.455165     0.218535  0.009367    0.112201   \n",
            "performing_meditation         0.220356     0.192158 -0.049740    0.142490   \n",
            "following_hobby               0.414598    -0.023951 -0.037345    0.143832   \n",
            "caring/sharing                0.344456    -0.039326 -0.040851    0.022526   \n",
            "food_satisfaction             0.262807    -0.079415  0.000229    0.097827   \n",
            "short_temperedness           -0.304571    -0.047023  0.175406   -0.068962   \n",
            "Happiness_Score                    NaN     0.001004 -0.082974    0.084668   \n",
            "Course_name                        NaN          NaN -0.185970    0.180473   \n",
            "Year                               NaN          NaN       NaN    0.043038   \n",
            "Department                         NaN          NaN       NaN         NaN   \n",
            "Gender                             NaN          NaN       NaN         NaN   \n",
            "Relationship_status                NaN          NaN       NaN         NaN   \n",
            "Getting_Stipend                    NaN          NaN       NaN         NaN   \n",
            "\n",
            "                         Gender  Relationship_status  Getting_Stipend  \n",
            "anxiety_level         -0.110867            -0.073846         0.076092  \n",
            "sleeping_hours        -0.028938             0.116262        -0.025427  \n",
            "health                 0.031866            -0.015486         0.027588  \n",
            "sports                 0.205338             0.000705        -0.028642  \n",
            "extra-curricular       0.034244             0.003753        -0.149370  \n",
            "Exercises_Yoga         0.092640             0.015911         0.067464  \n",
            "Quizzes/assignments   -0.045220            -0.040781        -0.253870  \n",
            "screen_hours          -0.142174             0.030014        -0.011918  \n",
            "effect_familyissues   -0.001454            -0.014937         0.050382  \n",
            "friends_time           0.032824            -0.012816        -0.089290  \n",
            "study_satisfaction    -0.020350            -0.006419         0.157268  \n",
            "performing_meditation  0.112195            -0.049857         0.105063  \n",
            "following_hobby        0.155866             0.035666        -0.068194  \n",
            "caring/sharing        -0.051969            -0.017505        -0.090564  \n",
            "food_satisfaction      0.002949             0.083019        -0.104226  \n",
            "short_temperedness    -0.105630             0.090131        -0.038672  \n",
            "Happiness_Score       -0.002867             0.032345         0.053348  \n",
            "Course_name           -0.165016             0.054960         0.736324  \n",
            "Year                  -0.113190            -0.011067        -0.098929  \n",
            "Department            -0.013148             0.047624         0.026218  \n",
            "Gender                      NaN            -0.106364        -0.109572  \n",
            "Relationship_status         NaN                  NaN        -0.001024  \n",
            "Getting_Stipend             NaN                  NaN              NaN  \n",
            "\n",
            "[23 rows x 23 columns]\n"
          ]
        },
        {
          "output_type": "stream",
          "name": "stderr",
          "text": [
            "/usr/local/lib/python3.7/dist-packages/ipykernel_launcher.py:1: DeprecationWarning: `np.bool` is a deprecated alias for the builtin `bool`. To silence this warning, use `bool` by itself. Doing this will not modify any behavior and is safe. If you specifically wanted the numpy scalar type, use `np.bool_` here.\n",
            "Deprecated in NumPy 1.20; for more details and guidance: https://numpy.org/devdocs/release/1.20.0-notes.html#deprecations\n",
            "  \"\"\"Entry point for launching an IPython kernel.\n"
          ]
        }
      ]
    },
    {
      "cell_type": "code",
      "source": [
        "to_drop = [column for column in upper_tri.columns if any(upper_tri[column] > 0.50)]\n",
        "print(); print(to_drop)"
      ],
      "metadata": {
        "colab": {
          "base_uri": "https://localhost:8080/"
        },
        "id": "0NSgXwUbf7Pe",
        "outputId": "d73a51ae-ae03-4b75-da56-2343898f4d68"
      },
      "execution_count": null,
      "outputs": [
        {
          "output_type": "stream",
          "name": "stdout",
          "text": [
            "\n",
            "['health', 'sports', 'extra-curricular', 'Exercises_Yoga', 'study_satisfaction', 'following_hobby', 'caring/sharing', 'short_temperedness', 'Getting_Stipend']\n"
          ]
        }
      ]
    },
    {
      "cell_type": "code",
      "source": [
        "new_df = df.drop(df[to_drop], axis=1)\n",
        "print(new_df.head())"
      ],
      "metadata": {
        "colab": {
          "base_uri": "https://localhost:8080/"
        },
        "id": "9Bl6he09gNKm",
        "outputId": "24b26e57-551c-4a42-8838-f39578670d34"
      },
      "execution_count": null,
      "outputs": [
        {
          "output_type": "stream",
          "name": "stdout",
          "text": [
            "   anxiety_level  sleeping_hours  Quizzes/assignments  screen_hours  \\\n",
            "0              0              10                    0            10   \n",
            "1              1               6                    2             4   \n",
            "2              3               6                    9             5   \n",
            "3              4               7                    4             3   \n",
            "4              4               6                    2             5   \n",
            "\n",
            "   effect_familyissues  friends_time  performing_meditation  \\\n",
            "0                    4             6                      7   \n",
            "1                    6             5                      2   \n",
            "2                    5             5                      5   \n",
            "3                    0             3                      4   \n",
            "4                    0             5                      3   \n",
            "\n",
            "   food_satisfaction  Happiness_Score  Course_name  Year  Department  Gender  \\\n",
            "0                  1              9.0            6     1           7       1   \n",
            "1                  1              9.0            6     0           7       1   \n",
            "2                  5              4.0            0     2           9       0   \n",
            "3                  3              5.0            6     0           7       1   \n",
            "4                  0              6.0            3     1           0       0   \n",
            "\n",
            "   Relationship_status  \n",
            "0                    3  \n",
            "1                    0  \n",
            "2                    0  \n",
            "3                    0  \n",
            "4                    3  \n"
          ]
        }
      ]
    },
    {
      "cell_type": "code",
      "source": [
        "new_df.columns"
      ],
      "metadata": {
        "id": "aAgk15G4gVsG",
        "colab": {
          "base_uri": "https://localhost:8080/"
        },
        "outputId": "29506c3e-1b9c-4e9c-dc7e-a55649080a0f"
      },
      "execution_count": null,
      "outputs": [
        {
          "output_type": "execute_result",
          "data": {
            "text/plain": [
              "Index(['anxiety_level', 'sleeping_hours', 'Quizzes/assignments',\n",
              "       'screen_hours', 'effect_familyissues', 'friends_time',\n",
              "       'performing_meditation', 'food_satisfaction', 'Happiness_Score',\n",
              "       'Course_name', 'Year', 'Department', 'Gender', 'Relationship_status'],\n",
              "      dtype='object')"
            ]
          },
          "metadata": {},
          "execution_count": 172
        }
      ]
    },
    {
      "cell_type": "code",
      "source": [
        "X= new_df[['anxiety_level','sleeping_hours','Quizzes/assignments','screen_hours', 'effect_familyissues', 'friends_time','performing_meditation', 'food_satisfaction','Course_name', 'Year', 'Department', 'Gender', 'Relationship_status']]\n",
        "Y= new_df['Happiness_Score']"
      ],
      "metadata": {
        "id": "ulnvZv3Lq09W"
      },
      "execution_count": null,
      "outputs": []
    },
    {
      "cell_type": "code",
      "source": [
        "data_point= [[3,8,7,10,9,10,0,0,5,1,1,1,1],[9,1,7,8,0,5,0,0,1,1,4,1,1],[8,5,7,6,7,2,0,2,1,1,1,0,3],[4,7,2,5,0,6,9,6,6,1,1,1,1]]\n",
        "x_trial= pd.DataFrame(data_point,columns=['anxiety_level','sleeping_hours','Quizzes/assignments','screen_hours', 'effect_familyissues', 'friends_time','performing_meditation', 'food_satisfaction','Course_name', 'Year', 'Department', 'Gender', 'Relationship_status'])\n",
        "x_trial"
      ],
      "metadata": {
        "colab": {
          "base_uri": "https://localhost:8080/",
          "height": 239
        },
        "id": "K-2INmF5syaE",
        "outputId": "50319cbe-55ec-4e4d-cb67-b16cf6d68885"
      },
      "execution_count": null,
      "outputs": [
        {
          "output_type": "execute_result",
          "data": {
            "text/plain": [
              "   anxiety_level  sleeping_hours  Quizzes/assignments  screen_hours  \\\n",
              "0              3               8                    7            10   \n",
              "1              9               1                    7             8   \n",
              "2              8               5                    7             6   \n",
              "3              4               7                    2             5   \n",
              "\n",
              "   effect_familyissues  friends_time  performing_meditation  \\\n",
              "0                    9            10                      0   \n",
              "1                    0             5                      0   \n",
              "2                    7             2                      0   \n",
              "3                    0             6                      9   \n",
              "\n",
              "   food_satisfaction  Course_name  Year  Department  Gender  \\\n",
              "0                  0            5     1           1       1   \n",
              "1                  0            1     1           4       1   \n",
              "2                  2            1     1           1       0   \n",
              "3                  6            6     1           1       1   \n",
              "\n",
              "   Relationship_status  \n",
              "0                    1  \n",
              "1                    1  \n",
              "2                    3  \n",
              "3                    1  "
            ],
            "text/html": [
              "\n",
              "  <div id=\"df-5db289a4-f9c1-4a4e-8e8c-48bb2df55e67\">\n",
              "    <div class=\"colab-df-container\">\n",
              "      <div>\n",
              "<style scoped>\n",
              "    .dataframe tbody tr th:only-of-type {\n",
              "        vertical-align: middle;\n",
              "    }\n",
              "\n",
              "    .dataframe tbody tr th {\n",
              "        vertical-align: top;\n",
              "    }\n",
              "\n",
              "    .dataframe thead th {\n",
              "        text-align: right;\n",
              "    }\n",
              "</style>\n",
              "<table border=\"1\" class=\"dataframe\">\n",
              "  <thead>\n",
              "    <tr style=\"text-align: right;\">\n",
              "      <th></th>\n",
              "      <th>anxiety_level</th>\n",
              "      <th>sleeping_hours</th>\n",
              "      <th>Quizzes/assignments</th>\n",
              "      <th>screen_hours</th>\n",
              "      <th>effect_familyissues</th>\n",
              "      <th>friends_time</th>\n",
              "      <th>performing_meditation</th>\n",
              "      <th>food_satisfaction</th>\n",
              "      <th>Course_name</th>\n",
              "      <th>Year</th>\n",
              "      <th>Department</th>\n",
              "      <th>Gender</th>\n",
              "      <th>Relationship_status</th>\n",
              "    </tr>\n",
              "  </thead>\n",
              "  <tbody>\n",
              "    <tr>\n",
              "      <th>0</th>\n",
              "      <td>3</td>\n",
              "      <td>8</td>\n",
              "      <td>7</td>\n",
              "      <td>10</td>\n",
              "      <td>9</td>\n",
              "      <td>10</td>\n",
              "      <td>0</td>\n",
              "      <td>0</td>\n",
              "      <td>5</td>\n",
              "      <td>1</td>\n",
              "      <td>1</td>\n",
              "      <td>1</td>\n",
              "      <td>1</td>\n",
              "    </tr>\n",
              "    <tr>\n",
              "      <th>1</th>\n",
              "      <td>9</td>\n",
              "      <td>1</td>\n",
              "      <td>7</td>\n",
              "      <td>8</td>\n",
              "      <td>0</td>\n",
              "      <td>5</td>\n",
              "      <td>0</td>\n",
              "      <td>0</td>\n",
              "      <td>1</td>\n",
              "      <td>1</td>\n",
              "      <td>4</td>\n",
              "      <td>1</td>\n",
              "      <td>1</td>\n",
              "    </tr>\n",
              "    <tr>\n",
              "      <th>2</th>\n",
              "      <td>8</td>\n",
              "      <td>5</td>\n",
              "      <td>7</td>\n",
              "      <td>6</td>\n",
              "      <td>7</td>\n",
              "      <td>2</td>\n",
              "      <td>0</td>\n",
              "      <td>2</td>\n",
              "      <td>1</td>\n",
              "      <td>1</td>\n",
              "      <td>1</td>\n",
              "      <td>0</td>\n",
              "      <td>3</td>\n",
              "    </tr>\n",
              "    <tr>\n",
              "      <th>3</th>\n",
              "      <td>4</td>\n",
              "      <td>7</td>\n",
              "      <td>2</td>\n",
              "      <td>5</td>\n",
              "      <td>0</td>\n",
              "      <td>6</td>\n",
              "      <td>9</td>\n",
              "      <td>6</td>\n",
              "      <td>6</td>\n",
              "      <td>1</td>\n",
              "      <td>1</td>\n",
              "      <td>1</td>\n",
              "      <td>1</td>\n",
              "    </tr>\n",
              "  </tbody>\n",
              "</table>\n",
              "</div>\n",
              "      <button class=\"colab-df-convert\" onclick=\"convertToInteractive('df-5db289a4-f9c1-4a4e-8e8c-48bb2df55e67')\"\n",
              "              title=\"Convert this dataframe to an interactive table.\"\n",
              "              style=\"display:none;\">\n",
              "        \n",
              "  <svg xmlns=\"http://www.w3.org/2000/svg\" height=\"24px\"viewBox=\"0 0 24 24\"\n",
              "       width=\"24px\">\n",
              "    <path d=\"M0 0h24v24H0V0z\" fill=\"none\"/>\n",
              "    <path d=\"M18.56 5.44l.94 2.06.94-2.06 2.06-.94-2.06-.94-.94-2.06-.94 2.06-2.06.94zm-11 1L8.5 8.5l.94-2.06 2.06-.94-2.06-.94L8.5 2.5l-.94 2.06-2.06.94zm10 10l.94 2.06.94-2.06 2.06-.94-2.06-.94-.94-2.06-.94 2.06-2.06.94z\"/><path d=\"M17.41 7.96l-1.37-1.37c-.4-.4-.92-.59-1.43-.59-.52 0-1.04.2-1.43.59L10.3 9.45l-7.72 7.72c-.78.78-.78 2.05 0 2.83L4 21.41c.39.39.9.59 1.41.59.51 0 1.02-.2 1.41-.59l7.78-7.78 2.81-2.81c.8-.78.8-2.07 0-2.86zM5.41 20L4 18.59l7.72-7.72 1.47 1.35L5.41 20z\"/>\n",
              "  </svg>\n",
              "      </button>\n",
              "      \n",
              "  <style>\n",
              "    .colab-df-container {\n",
              "      display:flex;\n",
              "      flex-wrap:wrap;\n",
              "      gap: 12px;\n",
              "    }\n",
              "\n",
              "    .colab-df-convert {\n",
              "      background-color: #E8F0FE;\n",
              "      border: none;\n",
              "      border-radius: 50%;\n",
              "      cursor: pointer;\n",
              "      display: none;\n",
              "      fill: #1967D2;\n",
              "      height: 32px;\n",
              "      padding: 0 0 0 0;\n",
              "      width: 32px;\n",
              "    }\n",
              "\n",
              "    .colab-df-convert:hover {\n",
              "      background-color: #E2EBFA;\n",
              "      box-shadow: 0px 1px 2px rgba(60, 64, 67, 0.3), 0px 1px 3px 1px rgba(60, 64, 67, 0.15);\n",
              "      fill: #174EA6;\n",
              "    }\n",
              "\n",
              "    [theme=dark] .colab-df-convert {\n",
              "      background-color: #3B4455;\n",
              "      fill: #D2E3FC;\n",
              "    }\n",
              "\n",
              "    [theme=dark] .colab-df-convert:hover {\n",
              "      background-color: #434B5C;\n",
              "      box-shadow: 0px 1px 3px 1px rgba(0, 0, 0, 0.15);\n",
              "      filter: drop-shadow(0px 1px 2px rgba(0, 0, 0, 0.3));\n",
              "      fill: #FFFFFF;\n",
              "    }\n",
              "  </style>\n",
              "\n",
              "      <script>\n",
              "        const buttonEl =\n",
              "          document.querySelector('#df-5db289a4-f9c1-4a4e-8e8c-48bb2df55e67 button.colab-df-convert');\n",
              "        buttonEl.style.display =\n",
              "          google.colab.kernel.accessAllowed ? 'block' : 'none';\n",
              "\n",
              "        async function convertToInteractive(key) {\n",
              "          const element = document.querySelector('#df-5db289a4-f9c1-4a4e-8e8c-48bb2df55e67');\n",
              "          const dataTable =\n",
              "            await google.colab.kernel.invokeFunction('convertToInteractive',\n",
              "                                                     [key], {});\n",
              "          if (!dataTable) return;\n",
              "\n",
              "          const docLinkHtml = 'Like what you see? Visit the ' +\n",
              "            '<a target=\"_blank\" href=https://colab.research.google.com/notebooks/data_table.ipynb>data table notebook</a>'\n",
              "            + ' to learn more about interactive tables.';\n",
              "          element.innerHTML = '';\n",
              "          dataTable['output_type'] = 'display_data';\n",
              "          await google.colab.output.renderOutput(dataTable, element);\n",
              "          const docLink = document.createElement('div');\n",
              "          docLink.innerHTML = docLinkHtml;\n",
              "          element.appendChild(docLink);\n",
              "        }\n",
              "      </script>\n",
              "    </div>\n",
              "  </div>\n",
              "  "
            ]
          },
          "metadata": {},
          "execution_count": 174
        }
      ]
    },
    {
      "cell_type": "markdown",
      "source": [
        "**Multiple Linear Regression**"
      ],
      "metadata": {
        "id": "O-TnY4AHRCc6"
      }
    },
    {
      "cell_type": "code",
      "source": [
        "from sklearn.model_selection import train_test_split"
      ],
      "metadata": {
        "id": "W4LfARn3uVTy"
      },
      "execution_count": null,
      "outputs": []
    },
    {
      "cell_type": "code",
      "source": [
        "X_train, X_test, Y_train, Y_test = train_test_split(X,Y,test_size=0.4, random_state=104)"
      ],
      "metadata": {
        "id": "stT2St7jurvW"
      },
      "execution_count": null,
      "outputs": []
    },
    {
      "cell_type": "code",
      "source": [
        "from sklearn.linear_model import LinearRegression"
      ],
      "metadata": {
        "id": "IGdRJltZvCr7"
      },
      "execution_count": null,
      "outputs": []
    },
    {
      "cell_type": "code",
      "source": [
        "lm= LinearRegression()"
      ],
      "metadata": {
        "id": "1H5pcMVvvSRV"
      },
      "execution_count": null,
      "outputs": []
    },
    {
      "cell_type": "code",
      "source": [
        "lm.fit(X_train,Y_train)"
      ],
      "metadata": {
        "colab": {
          "base_uri": "https://localhost:8080/"
        },
        "id": "iizr3rMOvWKn",
        "outputId": "ed29fd2c-8aaf-41f1-860d-b92ea51a2be0"
      },
      "execution_count": null,
      "outputs": [
        {
          "output_type": "execute_result",
          "data": {
            "text/plain": [
              "LinearRegression()"
            ]
          },
          "metadata": {},
          "execution_count": 179
        }
      ]
    },
    {
      "cell_type": "code",
      "source": [
        "predictions= lm.predict(X_test)\n",
        "print(predictions)"
      ],
      "metadata": {
        "id": "7k5KYFu6va2h",
        "colab": {
          "base_uri": "https://localhost:8080/"
        },
        "outputId": "33239a1e-cf60-4fe3-86b5-08336d95bdf8"
      },
      "execution_count": null,
      "outputs": [
        {
          "output_type": "stream",
          "name": "stdout",
          "text": [
            "[3.55289806 6.81932667 6.3900265  4.368621   6.06844383 6.5774785\n",
            " 5.12756492 4.25332565 6.94388557 6.24280793 5.02750916 7.82803071\n",
            " 2.41253432 7.32750896 7.10624431 4.76856144 0.3936772  5.82810467\n",
            " 8.26965776 6.82355672 6.75138851 8.06014339 6.2847918  4.95058709\n",
            " 7.44946811 2.9519816  4.31635522 5.22433492 7.38942883 3.45165291\n",
            " 3.09036312 4.22855636 3.87528543 6.70711955 3.95716585 5.8375996\n",
            " 6.87551494 3.99076441 5.78434807 2.8850181  6.75462343 4.81968982\n",
            " 6.69929665 6.83995163 2.91278783 6.02891293 5.51621216 6.84580907\n",
            " 5.8855136  6.19581925 8.10501129 6.13724555 3.76212974 7.18507683\n",
            " 6.91786513 4.79742483 7.67893888 8.52298568 5.86519744 6.22354126\n",
            " 5.96042048 5.5671235  7.40818082]\n"
          ]
        }
      ]
    },
    {
      "cell_type": "code",
      "source": [
        "predictions_trial= lm.predict(x_trial)\n",
        "print(predictions_trial)"
      ],
      "metadata": {
        "colab": {
          "base_uri": "https://localhost:8080/"
        },
        "id": "4DVi5KTbvcLk",
        "outputId": "e82a2e9d-8945-4b4c-f835-57fa75e0f498"
      },
      "execution_count": null,
      "outputs": [
        {
          "output_type": "stream",
          "name": "stdout",
          "text": [
            "[4.66984635 3.1922936  2.17685331 7.305178  ]\n"
          ]
        }
      ]
    },
    {
      "cell_type": "code",
      "source": [
        "import matplotlib.pyplot as plt\n",
        "plt.scatter(Y_test,predictions)"
      ],
      "metadata": {
        "colab": {
          "base_uri": "https://localhost:8080/",
          "height": 282
        },
        "id": "C5ATpQszvyid",
        "outputId": "e4948411-2fe3-4e43-ae71-85b39debf4e5"
      },
      "execution_count": null,
      "outputs": [
        {
          "output_type": "execute_result",
          "data": {
            "text/plain": [
              "<matplotlib.collections.PathCollection at 0x7f60ecd29950>"
            ]
          },
          "metadata": {},
          "execution_count": 182
        },
        {
          "output_type": "display_data",
          "data": {
            "text/plain": [
              "<Figure size 432x288 with 1 Axes>"
            ],
            "image/png": "[encoded data removed]"
          },
          "metadata": {
            "needs_background": "light"
          }
        }
      ]
    },
    {
      "cell_type": "code",
      "source": [
        "lm.intercept_"
      ],
      "metadata": {
        "colab": {
          "base_uri": "https://localhost:8080/"
        },
        "id": "4JcQ13XFwVv7",
        "outputId": "88d65307-d502-44f5-e19d-bc2ed584e439"
      },
      "execution_count": null,
      "outputs": [
        {
          "output_type": "execute_result",
          "data": {
            "text/plain": [
              "6.838562268529167"
            ]
          },
          "metadata": {},
          "execution_count": 183
        }
      ]
    },
    {
      "cell_type": "code",
      "source": [
        "lm.coef_"
      ],
      "metadata": {
        "colab": {
          "base_uri": "https://localhost:8080/"
        },
        "id": "OO3wtCrTxNK5",
        "outputId": "fc270946-e8e4-4293-97bb-8da7e592506e"
      },
      "execution_count": null,
      "outputs": [
        {
          "output_type": "execute_result",
          "data": {
            "text/plain": [
              "array([-0.4007952 ,  0.0941459 , -0.00982164, -0.05311649, -0.21879572,\n",
              "        0.12263917,  0.10784141,  0.06214973, -0.00649384,  0.12208933,\n",
              "        0.03268856, -0.3241472 , -0.17497273])"
            ]
          },
          "metadata": {},
          "execution_count": 184
        }
      ]
    },
    {
      "cell_type": "code",
      "source": [
        "#y_pred= lm.intercept_+ np.sum(lm.coef_*X, axis=1)"
      ],
      "metadata": {
        "id": "v3Qdm4_SxSzl"
      },
      "execution_count": null,
      "outputs": []
    },
    {
      "cell_type": "code",
      "source": [
        "sns.regplot( x= Y_test, y= predictions)"
      ],
      "metadata": {
        "colab": {
          "base_uri": "https://localhost:8080/",
          "height": 297
        },
        "id": "yrPGVPUAySnb",
        "outputId": "5a615a6a-686e-4872-aa4e-964e95469eaf"
      },
      "execution_count": null,
      "outputs": [
        {
          "output_type": "execute_result",
          "data": {
            "text/plain": [
              "<matplotlib.axes._subplots.AxesSubplot at 0x7f60ecd39850>"
            ]
          },
          "metadata": {},
          "execution_count": 186
        },
        {
          "output_type": "display_data",
          "data": {
            "text/plain": [
              "<Figure size 432x288 with 1 Axes>"
            ],
            "image/png": "[encoded data removed]"
          },
          "metadata": {
            "needs_background": "light"
          }
        }
      ]
    },
    {
      "cell_type": "code",
      "source": [
        "from sklearn.metrics import mean_squared_error\n",
        "mean_squared_error(Y_test, predictions)"
      ],
      "metadata": {
        "colab": {
          "base_uri": "https://localhost:8080/"
        },
        "id": "YFKahi1P0mix",
        "outputId": "4fdb1a13-41ec-4cc2-ea6a-cce150da6e87"
      },
      "execution_count": null,
      "outputs": [
        {
          "output_type": "execute_result",
          "data": {
            "text/plain": [
              "2.885622262877103"
            ]
          },
          "metadata": {},
          "execution_count": 187
        }
      ]
    },
    {
      "cell_type": "code",
      "source": [
        "from sklearn.metrics import r2_score\n",
        "r2_score(Y_test, predictions)"
      ],
      "metadata": {
        "colab": {
          "base_uri": "https://localhost:8080/"
        },
        "id": "cV9mRvxxa5FO",
        "outputId": "b303d9f8-3c74-490b-ee42-5827beaa0707"
      },
      "execution_count": null,
      "outputs": [
        {
          "output_type": "execute_result",
          "data": {
            "text/plain": [
              "0.3293761535854979"
            ]
          },
          "metadata": {},
          "execution_count": 188
        }
      ]
    },
    {
      "cell_type": "markdown",
      "source": [
        "Linear regression for particular features"
      ],
      "metadata": {
        "id": "L1URspmd9yiq"
      }
    },
    {
      "cell_type": "code",
      "source": [
        "# Anxiety vs Happiness Score"
      ],
      "metadata": {
        "id": "ZCTw6KG_MQII"
      },
      "execution_count": null,
      "outputs": []
    },
    {
      "cell_type": "code",
      "source": [
        "X1= new_df['anxiety_level'].values\n",
        "Y1= new_df['Happiness_Score']\n",
        "Y1.astype(int)\n",
        "X1=X1.reshape(-1,1)"
      ],
      "metadata": {
        "id": "9fhCh-Y594SU"
      },
      "execution_count": null,
      "outputs": []
    },
    {
      "cell_type": "code",
      "source": [
        "X1_train, X1_test, Y1_train, Y1_test = train_test_split(X1,Y1,test_size=0.4, random_state=104)\n",
        "#X1_train"
      ],
      "metadata": {
        "id": "Y9NLqlNd94e1"
      },
      "execution_count": null,
      "outputs": []
    },
    {
      "cell_type": "code",
      "source": [
        "X1_train=X1_train.reshape(-1,1)\n",
        "lm.fit(X1_train,Y1_train)"
      ],
      "metadata": {
        "colab": {
          "base_uri": "https://localhost:8080/"
        },
        "id": "Rf2ArKaU94l-",
        "outputId": "b75d7631-6a52-47e3-e56a-d11fe5c4ed9e"
      },
      "execution_count": null,
      "outputs": [
        {
          "output_type": "execute_result",
          "data": {
            "text/plain": [
              "LinearRegression()"
            ]
          },
          "metadata": {},
          "execution_count": 192
        }
      ]
    },
    {
      "cell_type": "code",
      "source": [
        "prediction1= lm.predict(X1_test)"
      ],
      "metadata": {
        "id": "FP85fT3E94qA"
      },
      "execution_count": null,
      "outputs": []
    },
    {
      "cell_type": "code",
      "source": [
        "plt.scatter(X1_test,Y1_test)\n",
        "plt.plot(X1_test,prediction1)"
      ],
      "metadata": {
        "id": "Pnbr8XSv94tb",
        "colab": {
          "base_uri": "https://localhost:8080/",
          "height": 282
        },
        "outputId": "f72de526-52ed-44de-b207-f675b7c1a641"
      },
      "execution_count": null,
      "outputs": [
        {
          "output_type": "execute_result",
          "data": {
            "text/plain": [
              "[<matplotlib.lines.Line2D at 0x7f60ecadc390>]"
            ]
          },
          "metadata": {},
          "execution_count": 194
        },
        {
          "output_type": "display_data",
          "data": {
            "text/plain": [
              "<Figure size 432x288 with 1 Axes>"
            ],
            "image/png": "[encoded data removed]"
          },
          "metadata": {
            "needs_background": "light"
          }
        }
      ]
    },
    {
      "cell_type": "code",
      "source": [
        "lm.intercept_"
      ],
      "metadata": {
        "id": "4MsmwnZ8-xvE",
        "colab": {
          "base_uri": "https://localhost:8080/"
        },
        "outputId": "bbb55d09-64f9-4c0f-9f52-66f3e226ffe9"
      },
      "execution_count": null,
      "outputs": [
        {
          "output_type": "execute_result",
          "data": {
            "text/plain": [
              "7.607081485587583"
            ]
          },
          "metadata": {},
          "execution_count": 195
        }
      ]
    },
    {
      "cell_type": "code",
      "source": [
        "lm.coef_"
      ],
      "metadata": {
        "id": "rPzhrfLj-xyd",
        "colab": {
          "base_uri": "https://localhost:8080/"
        },
        "outputId": "2ec89743-8375-4acb-ddaa-50ffb69ccd07"
      },
      "execution_count": null,
      "outputs": [
        {
          "output_type": "execute_result",
          "data": {
            "text/plain": [
              "array([-0.50903825])"
            ]
          },
          "metadata": {},
          "execution_count": 196
        }
      ]
    },
    {
      "cell_type": "code",
      "source": [
        "sns.lmplot( x='anxiety_level',y= 'Happiness_Score' , data= new_df)"
      ],
      "metadata": {
        "id": "UGf5x8Rn-x3k",
        "colab": {
          "base_uri": "https://localhost:8080/",
          "height": 386
        },
        "outputId": "f672d874-df86-439c-fb6a-2fb9829cb7c4"
      },
      "execution_count": null,
      "outputs": [
        {
          "output_type": "execute_result",
          "data": {
            "text/plain": [
              "<seaborn.axisgrid.FacetGrid at 0x7f60eca8c590>"
            ]
          },
          "metadata": {},
          "execution_count": 197
        },
        {
          "output_type": "display_data",
          "data": {
            "text/plain": [
              "<Figure size 360x360 with 1 Axes>"
            ],
            "image/png": "[encoded data removed]"
          },
          "metadata": {
            "needs_background": "light"
          }
        }
      ]
    },
    {
      "cell_type": "code",
      "source": [
        "from sklearn.metrics import mean_squared_error\n",
        "mean_squared_error(Y1_test, prediction1)"
      ],
      "metadata": {
        "colab": {
          "base_uri": "https://localhost:8080/"
        },
        "id": "digLWd6iPdfc",
        "outputId": "649ee838-7d99-42a1-9ddf-b0887ac0cdea"
      },
      "execution_count": null,
      "outputs": [
        {
          "output_type": "execute_result",
          "data": {
            "text/plain": [
              "3.0254707943167505"
            ]
          },
          "metadata": {},
          "execution_count": 198
        }
      ]
    },
    {
      "cell_type": "code",
      "source": [
        " # Meditation vs Happiness score"
      ],
      "metadata": {
        "id": "T56ndslHKZpa"
      },
      "execution_count": null,
      "outputs": []
    },
    {
      "cell_type": "code",
      "source": [
        "X2= new_df['performing_meditation'].values\n",
        "Y2= new_df['Happiness_Score']\n",
        "#Y2.astype(int)\n",
        "X2=X2.reshape(-1,1)"
      ],
      "metadata": {
        "id": "fxZLpK5pKZwb"
      },
      "execution_count": null,
      "outputs": []
    },
    {
      "cell_type": "code",
      "source": [
        "X2_train, X2_test, Y2_train, Y2_test = train_test_split(X2,Y2,test_size=0.4, random_state=104)"
      ],
      "metadata": {
        "id": "eiOrQlzIKZ6i"
      },
      "execution_count": null,
      "outputs": []
    },
    {
      "cell_type": "code",
      "source": [
        "X2_train=X2_train.reshape(-1,1)\n",
        "lm.fit(X2_train,Y2_train)"
      ],
      "metadata": {
        "colab": {
          "base_uri": "https://localhost:8080/"
        },
        "id": "AX15IHg0LWXw",
        "outputId": "5c1d632f-ca78-4d0e-85fb-75f31dda87b5"
      },
      "execution_count": null,
      "outputs": [
        {
          "output_type": "execute_result",
          "data": {
            "text/plain": [
              "LinearRegression()"
            ]
          },
          "metadata": {},
          "execution_count": 202
        }
      ]
    },
    {
      "cell_type": "code",
      "source": [
        "prediction2= lm.predict(X2_test)"
      ],
      "metadata": {
        "id": "bv-STbMoLWfp"
      },
      "execution_count": null,
      "outputs": []
    },
    {
      "cell_type": "code",
      "source": [
        "plt.scatter(X2_test,Y2_test)\n",
        "plt.plot(X2_test,prediction2)"
      ],
      "metadata": {
        "colab": {
          "base_uri": "https://localhost:8080/",
          "height": 282
        },
        "id": "ZgUFSXUNLWmo",
        "outputId": "171d18c6-887d-4873-e029-ba4d0427fbfd"
      },
      "execution_count": null,
      "outputs": [
        {
          "output_type": "execute_result",
          "data": {
            "text/plain": [
              "[<matplotlib.lines.Line2D at 0x7f60ec9cb390>]"
            ]
          },
          "metadata": {},
          "execution_count": 204
        },
        {
          "output_type": "display_data",
          "data": {
            "text/plain": [
              "<Figure size 432x288 with 1 Axes>"
            ],
            "image/png": "[encoded data removed]"
          },
          "metadata": {
            "needs_background": "light"
          }
        }
      ]
    },
    {
      "cell_type": "code",
      "source": [
        "lm.intercept_"
      ],
      "metadata": {
        "colab": {
          "base_uri": "https://localhost:8080/"
        },
        "id": "Tf859jvZLWsS",
        "outputId": "6bfdd0bd-0cba-4505-b4b9-3b710894a513"
      },
      "execution_count": null,
      "outputs": [
        {
          "output_type": "execute_result",
          "data": {
            "text/plain": [
              "5.389061574896388"
            ]
          },
          "metadata": {},
          "execution_count": 205
        }
      ]
    },
    {
      "cell_type": "code",
      "source": [
        "lm.coef_"
      ],
      "metadata": {
        "colab": {
          "base_uri": "https://localhost:8080/"
        },
        "id": "H2MIFmnXLW06",
        "outputId": "d16c06a4-1320-4efd-ad81-6866cb86a129"
      },
      "execution_count": null,
      "outputs": [
        {
          "output_type": "execute_result",
          "data": {
            "text/plain": [
              "array([0.15782268])"
            ]
          },
          "metadata": {},
          "execution_count": 206
        }
      ]
    },
    {
      "cell_type": "code",
      "source": [
        "from sklearn.metrics import mean_squared_error\n",
        "mean_squared_error(Y2_test, prediction2)"
      ],
      "metadata": {
        "colab": {
          "base_uri": "https://localhost:8080/"
        },
        "id": "bmtzb6nHPogM",
        "outputId": "3b135299-3d1b-42ab-cc10-b34aca374ecd"
      },
      "execution_count": null,
      "outputs": [
        {
          "output_type": "execute_result",
          "data": {
            "text/plain": [
              "3.968017012115607"
            ]
          },
          "metadata": {},
          "execution_count": 207
        }
      ]
    },
    {
      "cell_type": "code",
      "source": [
        "sns.regplot( x= X2, y= Y2, color='b')"
      ],
      "metadata": {
        "colab": {
          "base_uri": "https://localhost:8080/",
          "height": 282
        },
        "id": "1Q1QxIfIMBsu",
        "outputId": "9e762ff1-72ea-402d-87dc-4b2fdb577aea"
      },
      "execution_count": null,
      "outputs": [
        {
          "output_type": "execute_result",
          "data": {
            "text/plain": [
              "<matplotlib.axes._subplots.AxesSubplot at 0x7f60ec98b4d0>"
            ]
          },
          "metadata": {},
          "execution_count": 208
        },
        {
          "output_type": "display_data",
          "data": {
            "text/plain": [
              "<Figure size 432x288 with 1 Axes>"
            ],
            "image/png": "[encoded data removed]"
          },
          "metadata": {
            "needs_background": "light"
          }
        }
      ]
    },
    {
      "cell_type": "code",
      "source": [
        "X3= new_df['sleeping_hours'].values\n",
        "Y3= new_df['Happiness_Score']\n",
        "#Y2.astype(int)\n",
        "X3=X3.reshape(-1,1)"
      ],
      "metadata": {
        "id": "qwUO_It27lRb"
      },
      "execution_count": null,
      "outputs": []
    },
    {
      "cell_type": "code",
      "source": [
        "X3_train, X3_test, Y3_train, Y3_test = train_test_split(X3,Y3,test_size=0.4, random_state=104)"
      ],
      "metadata": {
        "id": "ooK2kVMS7rra"
      },
      "execution_count": null,
      "outputs": []
    },
    {
      "cell_type": "code",
      "source": [
        "X3_train=X3_train.reshape(-1,1)\n",
        "lm.fit(X3_train,Y3_train)"
      ],
      "metadata": {
        "colab": {
          "base_uri": "https://localhost:8080/"
        },
        "id": "uvevg6KO7uyr",
        "outputId": "d124e7a4-ce5e-48d2-a307-b8eefd7e121f"
      },
      "execution_count": null,
      "outputs": [
        {
          "output_type": "execute_result",
          "data": {
            "text/plain": [
              "LinearRegression()"
            ]
          },
          "metadata": {},
          "execution_count": 211
        }
      ]
    },
    {
      "cell_type": "code",
      "source": [
        "prediction3= lm.predict(X3_test)"
      ],
      "metadata": {
        "id": "yYqPOxnP7yo0"
      },
      "execution_count": null,
      "outputs": []
    },
    {
      "cell_type": "code",
      "source": [
        "plt.scatter(X3_test,Y3_test)\n",
        "plt.plot(X3_test,prediction3)"
      ],
      "metadata": {
        "colab": {
          "base_uri": "https://localhost:8080/",
          "height": 282
        },
        "id": "pOAspM8GMRa4",
        "outputId": "60c1718c-4db1-48e6-e6a8-d99dd1ee819c"
      },
      "execution_count": null,
      "outputs": [
        {
          "output_type": "execute_result",
          "data": {
            "text/plain": [
              "[<matplotlib.lines.Line2D at 0x7f60ec8b74d0>]"
            ]
          },
          "metadata": {},
          "execution_count": 213
        },
        {
          "output_type": "display_data",
          "data": {
            "text/plain": [
              "<Figure size 432x288 with 1 Axes>"
            ],
            "image/png": "[encoded data removed]"
          },
          "metadata": {
            "needs_background": "light"
          }
        }
      ]
    },
    {
      "cell_type": "code",
      "source": [
        "lm.intercept_"
      ],
      "metadata": {
        "colab": {
          "base_uri": "https://localhost:8080/"
        },
        "id": "qM_BkiyI72m9",
        "outputId": "7dc43835-2b9f-449c-95b1-afbd882354c3"
      },
      "execution_count": null,
      "outputs": [
        {
          "output_type": "execute_result",
          "data": {
            "text/plain": [
              "5.268515575333757"
            ]
          },
          "metadata": {},
          "execution_count": 214
        }
      ]
    },
    {
      "cell_type": "code",
      "source": [
        "lm.coef_"
      ],
      "metadata": {
        "colab": {
          "base_uri": "https://localhost:8080/"
        },
        "id": "9uBqNn0S759F",
        "outputId": "3e61ebcb-8880-4e8b-cb8f-72325c0f7e7d"
      },
      "execution_count": null,
      "outputs": [
        {
          "output_type": "execute_result",
          "data": {
            "text/plain": [
              "array([0.06089081])"
            ]
          },
          "metadata": {},
          "execution_count": 215
        }
      ]
    },
    {
      "cell_type": "code",
      "source": [
        "from sklearn.metrics import mean_squared_error\n",
        "mean_squared_error(Y3_test, prediction3)"
      ],
      "metadata": {
        "id": "Sun15ra5PtWe",
        "outputId": "7cba14d0-5376-45d5-eb09-5e6ce9ab2191",
        "colab": {
          "base_uri": "https://localhost:8080/"
        }
      },
      "execution_count": null,
      "outputs": [
        {
          "output_type": "execute_result",
          "data": {
            "text/plain": [
              "4.337214394034948"
            ]
          },
          "metadata": {},
          "execution_count": 216
        }
      ]
    },
    {
      "cell_type": "code",
      "source": [
        "sns.regplot( x= X3, y= Y3, color='b')"
      ],
      "metadata": {
        "colab": {
          "base_uri": "https://localhost:8080/",
          "height": 282
        },
        "id": "p9Zf6KSV8Bzj",
        "outputId": "32d7b614-ea3d-474b-a89f-cb7e446df078"
      },
      "execution_count": null,
      "outputs": [
        {
          "output_type": "execute_result",
          "data": {
            "text/plain": [
              "<matplotlib.axes._subplots.AxesSubplot at 0x7f60ecadccd0>"
            ]
          },
          "metadata": {},
          "execution_count": 217
        },
        {
          "output_type": "display_data",
          "data": {
            "text/plain": [
              "<Figure size 432x288 with 1 Axes>"
            ],
            "image/png": "[encoded data removed]"
          },
          "metadata": {
            "needs_background": "light"
          }
        }
      ]
    },
    {
      "cell_type": "code",
      "source": [
        "X4= new_df['Quizzes/assignments'].values\n",
        "Y4= new_df['Happiness_Score']\n",
        "#Y2.astype(int)\n",
        "X4=X4.reshape(-1,1)"
      ],
      "metadata": {
        "id": "1flC1IQEWmB-"
      },
      "execution_count": null,
      "outputs": []
    },
    {
      "cell_type": "code",
      "source": [
        "X4_train, X4_test, Y4_train, Y4_test = train_test_split(X4,Y4,test_size=0.4, random_state=104)"
      ],
      "metadata": {
        "id": "aIGwsglwWmJb"
      },
      "execution_count": null,
      "outputs": []
    },
    {
      "cell_type": "code",
      "source": [
        "X4_train=X4_train.reshape(-1,1)\n",
        "lm.fit(X4_train,Y4_train)"
      ],
      "metadata": {
        "colab": {
          "base_uri": "https://localhost:8080/"
        },
        "id": "uZkQK3pCWmN6",
        "outputId": "f86df6be-2783-4091-e21b-b9939eec1a3e"
      },
      "execution_count": null,
      "outputs": [
        {
          "output_type": "execute_result",
          "data": {
            "text/plain": [
              "LinearRegression()"
            ]
          },
          "metadata": {},
          "execution_count": 220
        }
      ]
    },
    {
      "cell_type": "code",
      "source": [
        "prediction4= lm.predict(X4_test)"
      ],
      "metadata": {
        "id": "z5moorgJWmSY"
      },
      "execution_count": null,
      "outputs": []
    },
    {
      "cell_type": "code",
      "source": [
        "sns.regplot(x= X4, y= Y4,color='g')"
      ],
      "metadata": {
        "id": "uYeh0DvK9MkU",
        "colab": {
          "base_uri": "https://localhost:8080/",
          "height": 282
        },
        "outputId": "4c1b7fa9-52e5-4b83-d3ec-fc9c5ed673f9"
      },
      "execution_count": null,
      "outputs": [
        {
          "output_type": "execute_result",
          "data": {
            "text/plain": [
              "<matplotlib.axes._subplots.AxesSubplot at 0x7f60ec7e9890>"
            ]
          },
          "metadata": {},
          "execution_count": 222
        },
        {
          "output_type": "display_data",
          "data": {
            "text/plain": [
              "<Figure size 432x288 with 1 Axes>"
            ],
            "image/png": "[encoded data removed]"
          },
          "metadata": {
            "needs_background": "light"
          }
        }
      ]
    },
    {
      "cell_type": "code",
      "source": [
        "from sklearn.metrics import mean_squared_error\n",
        "mean_squared_error(Y4_test, prediction4)            # anxiety level and meditation has less MSE"
      ],
      "metadata": {
        "colab": {
          "base_uri": "https://localhost:8080/"
        },
        "id": "C4J2DXmnn_SP",
        "outputId": "7b8694da-abfb-419f-9a30-f713450f8eae"
      },
      "execution_count": null,
      "outputs": [
        {
          "output_type": "execute_result",
          "data": {
            "text/plain": [
              "4.549070423989373"
            ]
          },
          "metadata": {},
          "execution_count": 223
        }
      ]
    },
    {
      "cell_type": "markdown",
      "source": [
        "\n",
        "\n",
        "**Principal Component ANalysis for feature reduction**"
      ],
      "metadata": {
        "id": "S8_7fq7dWTD9"
      }
    },
    {
      "cell_type": "code",
      "source": [
        "X_trials=  pd.concat([X, x_trial])\n",
        "X_trials.head()"
      ],
      "metadata": {
        "colab": {
          "base_uri": "https://localhost:8080/",
          "height": 270
        },
        "id": "ao_0Ovlw53Yd",
        "outputId": "347583e9-c176-44e0-8e75-4b6273b80503"
      },
      "execution_count": null,
      "outputs": [
        {
          "output_type": "execute_result",
          "data": {
            "text/plain": [
              "   anxiety_level  sleeping_hours  Quizzes/assignments  screen_hours  \\\n",
              "0              0              10                    0            10   \n",
              "1              1               6                    2             4   \n",
              "2              3               6                    9             5   \n",
              "3              4               7                    4             3   \n",
              "4              4               6                    2             5   \n",
              "\n",
              "   effect_familyissues  friends_time  performing_meditation  \\\n",
              "0                    4             6                      7   \n",
              "1                    6             5                      2   \n",
              "2                    5             5                      5   \n",
              "3                    0             3                      4   \n",
              "4                    0             5                      3   \n",
              "\n",
              "   food_satisfaction  Course_name  Year  Department  Gender  \\\n",
              "0                  1            6     1           7       1   \n",
              "1                  1            6     0           7       1   \n",
              "2                  5            0     2           9       0   \n",
              "3                  3            6     0           7       1   \n",
              "4                  0            3     1           0       0   \n",
              "\n",
              "   Relationship_status  \n",
              "0                    3  \n",
              "1                    0  \n",
              "2                    0  \n",
              "3                    0  \n",
              "4                    3  "
            ],
            "text/html": [
              "\n",
              "  <div id=\"df-39fa0627-d2dc-42d8-b456-07db56595cab\">\n",
              "    <div class=\"colab-df-container\">\n",
              "      <div>\n",
              "<style scoped>\n",
              "    .dataframe tbody tr th:only-of-type {\n",
              "        vertical-align: middle;\n",
              "    }\n",
              "\n",
              "    .dataframe tbody tr th {\n",
              "        vertical-align: top;\n",
              "    }\n",
              "\n",
              "    .dataframe thead th {\n",
              "        text-align: right;\n",
              "    }\n",
              "</style>\n",
              "<table border=\"1\" class=\"dataframe\">\n",
              "  <thead>\n",
              "    <tr style=\"text-align: right;\">\n",
              "      <th></th>\n",
              "      <th>anxiety_level</th>\n",
              "      <th>sleeping_hours</th>\n",
              "      <th>Quizzes/assignments</th>\n",
              "      <th>screen_hours</th>\n",
              "      <th>effect_familyissues</th>\n",
              "      <th>friends_time</th>\n",
              "      <th>performing_meditation</th>\n",
              "      <th>food_satisfaction</th>\n",
              "      <th>Course_name</th>\n",
              "      <th>Year</th>\n",
              "      <th>Department</th>\n",
              "      <th>Gender</th>\n",
              "      <th>Relationship_status</th>\n",
              "    </tr>\n",
              "  </thead>\n",
              "  <tbody>\n",
              "    <tr>\n",
              "      <th>0</th>\n",
              "      <td>0</td>\n",
              "      <td>10</td>\n",
              "      <td>0</td>\n",
              "      <td>10</td>\n",
              "      <td>4</td>\n",
              "      <td>6</td>\n",
              "      <td>7</td>\n",
              "      <td>1</td>\n",
              "      <td>6</td>\n",
              "      <td>1</td>\n",
              "      <td>7</td>\n",
              "      <td>1</td>\n",
              "      <td>3</td>\n",
              "    </tr>\n",
              "    <tr>\n",
              "      <th>1</th>\n",
              "      <td>1</td>\n",
              "      <td>6</td>\n",
              "      <td>2</td>\n",
              "      <td>4</td>\n",
              "      <td>6</td>\n",
              "      <td>5</td>\n",
              "      <td>2</td>\n",
              "      <td>1</td>\n",
              "      <td>6</td>\n",
              "      <td>0</td>\n",
              "      <td>7</td>\n",
              "      <td>1</td>\n",
              "      <td>0</td>\n",
              "    </tr>\n",
              "    <tr>\n",
              "      <th>2</th>\n",
              "      <td>3</td>\n",
              "      <td>6</td>\n",
              "      <td>9</td>\n",
              "      <td>5</td>\n",
              "      <td>5</td>\n",
              "      <td>5</td>\n",
              "      <td>5</td>\n",
              "      <td>5</td>\n",
              "      <td>0</td>\n",
              "      <td>2</td>\n",
              "      <td>9</td>\n",
              "      <td>0</td>\n",
              "      <td>0</td>\n",
              "    </tr>\n",
              "    <tr>\n",
              "      <th>3</th>\n",
              "      <td>4</td>\n",
              "      <td>7</td>\n",
              "      <td>4</td>\n",
              "      <td>3</td>\n",
              "      <td>0</td>\n",
              "      <td>3</td>\n",
              "      <td>4</td>\n",
              "      <td>3</td>\n",
              "      <td>6</td>\n",
              "      <td>0</td>\n",
              "      <td>7</td>\n",
              "      <td>1</td>\n",
              "      <td>0</td>\n",
              "    </tr>\n",
              "    <tr>\n",
              "      <th>4</th>\n",
              "      <td>4</td>\n",
              "      <td>6</td>\n",
              "      <td>2</td>\n",
              "      <td>5</td>\n",
              "      <td>0</td>\n",
              "      <td>5</td>\n",
              "      <td>3</td>\n",
              "      <td>0</td>\n",
              "      <td>3</td>\n",
              "      <td>1</td>\n",
              "      <td>0</td>\n",
              "      <td>0</td>\n",
              "      <td>3</td>\n",
              "    </tr>\n",
              "  </tbody>\n",
              "</table>\n",
              "</div>\n",
              "      <button class=\"colab-df-convert\" onclick=\"convertToInteractive('df-39fa0627-d2dc-42d8-b456-07db56595cab')\"\n",
              "              title=\"Convert this dataframe to an interactive table.\"\n",
              "              style=\"display:none;\">\n",
              "        \n",
              "  <svg xmlns=\"http://www.w3.org/2000/svg\" height=\"24px\"viewBox=\"0 0 24 24\"\n",
              "       width=\"24px\">\n",
              "    <path d=\"M0 0h24v24H0V0z\" fill=\"none\"/>\n",
              "    <path d=\"M18.56 5.44l.94 2.06.94-2.06 2.06-.94-2.06-.94-.94-2.06-.94 2.06-2.06.94zm-11 1L8.5 8.5l.94-2.06 2.06-.94-2.06-.94L8.5 2.5l-.94 2.06-2.06.94zm10 10l.94 2.06.94-2.06 2.06-.94-2.06-.94-.94-2.06-.94 2.06-2.06.94z\"/><path d=\"M17.41 7.96l-1.37-1.37c-.4-.4-.92-.59-1.43-.59-.52 0-1.04.2-1.43.59L10.3 9.45l-7.72 7.72c-.78.78-.78 2.05 0 2.83L4 21.41c.39.39.9.59 1.41.59.51 0 1.02-.2 1.41-.59l7.78-7.78 2.81-2.81c.8-.78.8-2.07 0-2.86zM5.41 20L4 18.59l7.72-7.72 1.47 1.35L5.41 20z\"/>\n",
              "  </svg>\n",
              "      </button>\n",
              "      \n",
              "  <style>\n",
              "    .colab-df-container {\n",
              "      display:flex;\n",
              "      flex-wrap:wrap;\n",
              "      gap: 12px;\n",
              "    }\n",
              "\n",
              "    .colab-df-convert {\n",
              "      background-color: #E8F0FE;\n",
              "      border: none;\n",
              "      border-radius: 50%;\n",
              "      cursor: pointer;\n",
              "      display: none;\n",
              "      fill: #1967D2;\n",
              "      height: 32px;\n",
              "      padding: 0 0 0 0;\n",
              "      width: 32px;\n",
              "    }\n",
              "\n",
              "    .colab-df-convert:hover {\n",
              "      background-color: #E2EBFA;\n",
              "      box-shadow: 0px 1px 2px rgba(60, 64, 67, 0.3), 0px 1px 3px 1px rgba(60, 64, 67, 0.15);\n",
              "      fill: #174EA6;\n",
              "    }\n",
              "\n",
              "    [theme=dark] .colab-df-convert {\n",
              "      background-color: #3B4455;\n",
              "      fill: #D2E3FC;\n",
              "    }\n",
              "\n",
              "    [theme=dark] .colab-df-convert:hover {\n",
              "      background-color: #434B5C;\n",
              "      box-shadow: 0px 1px 3px 1px rgba(0, 0, 0, 0.15);\n",
              "      filter: drop-shadow(0px 1px 2px rgba(0, 0, 0, 0.3));\n",
              "      fill: #FFFFFF;\n",
              "    }\n",
              "  </style>\n",
              "\n",
              "      <script>\n",
              "        const buttonEl =\n",
              "          document.querySelector('#df-39fa0627-d2dc-42d8-b456-07db56595cab button.colab-df-convert');\n",
              "        buttonEl.style.display =\n",
              "          google.colab.kernel.accessAllowed ? 'block' : 'none';\n",
              "\n",
              "        async function convertToInteractive(key) {\n",
              "          const element = document.querySelector('#df-39fa0627-d2dc-42d8-b456-07db56595cab');\n",
              "          const dataTable =\n",
              "            await google.colab.kernel.invokeFunction('convertToInteractive',\n",
              "                                                     [key], {});\n",
              "          if (!dataTable) return;\n",
              "\n",
              "          const docLinkHtml = 'Like what you see? Visit the ' +\n",
              "            '<a target=\"_blank\" href=https://colab.research.google.com/notebooks/data_table.ipynb>data table notebook</a>'\n",
              "            + ' to learn more about interactive tables.';\n",
              "          element.innerHTML = '';\n",
              "          dataTable['output_type'] = 'display_data';\n",
              "          await google.colab.output.renderOutput(dataTable, element);\n",
              "          const docLink = document.createElement('div');\n",
              "          docLink.innerHTML = docLinkHtml;\n",
              "          element.appendChild(docLink);\n",
              "        }\n",
              "      </script>\n",
              "    </div>\n",
              "  </div>\n",
              "  "
            ]
          },
          "metadata": {},
          "execution_count": 224
        }
      ]
    },
    {
      "cell_type": "code",
      "source": [
        "# PCA for dimensionality reduction\n",
        "\n",
        "import sklearn.decomposition as skd\n",
        "\n",
        "pca_finder = skd.PCA(n_components=0.9)\n",
        "\n",
        "pca_finder.fit(X)\n",
        "X_pca1 = pca_finder.transform(X)\n",
        "print(\"Number of reduced dimensions: \"+str(X_pca1.shape[1]))"
      ],
      "metadata": {
        "id": "FQVwRieNkXs0",
        "colab": {
          "base_uri": "https://localhost:8080/"
        },
        "outputId": "d1c68d8e-4bad-497d-f564-bed5605fb9f0"
      },
      "execution_count": null,
      "outputs": [
        {
          "output_type": "stream",
          "name": "stdout",
          "text": [
            "Number of reduced dimensions: 9\n"
          ]
        }
      ]
    },
    {
      "cell_type": "code",
      "source": [
        "#import sklearn.decomposition as skd\n",
        "\n",
        "pca_finder = skd.PCA(n_components=4)\n",
        "\n",
        "pca_finder.fit(X_trials)\n",
        "x_trial_pca1 = pca_finder.transform(X_trials)\n",
        "print(\"Number of reduced dimensions: \"+str(x_trial_pca1.shape[1]))\n",
        "print(x_trial_pca1)\n",
        "x_trial_pca1.shape\n"
      ],
      "metadata": {
        "colab": {
          "base_uri": "https://localhost:8080/"
        },
        "id": "38B72WqizHlL",
        "outputId": "fe9d96e4-c006-4169-f842-5a87ca7ae672"
      },
      "execution_count": null,
      "outputs": [
        {
          "output_type": "stream",
          "name": "stdout",
          "text": [
            "Number of reduced dimensions: 4\n",
            "[[ 2.12374396e-02 -5.33654672e+00  8.36904805e+00 -1.02316204e+00]\n",
            " [-2.48390385e+00 -1.07319333e+00  5.03461938e+00  3.55848094e+00]\n",
            " [ 3.37340803e+00 -2.83280079e+00 -2.61527337e+00  4.01583435e+00]\n",
            " [-2.91877755e+00 -1.97122570e+00  1.30199765e+00  1.84073610e+00]\n",
            " [-3.68657015e+00  1.65264663e+00  2.66181431e+00 -2.98464431e+00]\n",
            " [ 2.71183233e+00  4.56119072e+00 -4.39422021e+00 -5.06143209e+00]\n",
            " [-1.39804135e+00 -8.08799836e+00  1.30184211e+00  2.14953213e+00]\n",
            " [ 6.09114760e-01 -3.45657124e+00  4.57526810e+00 -1.35986937e+00]\n",
            " [ 4.59892506e+00  1.54623572e+00 -5.01858318e+00 -2.06795869e+00]\n",
            " [-3.36609581e-01 -3.64884274e+00  4.48369923e-01 -3.87408128e+00]\n",
            " [ 3.82394274e-01 -5.05951057e-01 -4.95106304e+00 -1.40283987e+00]\n",
            " [-1.43304287e+00 -2.29996283e+00 -2.56526701e+00  4.35939755e+00]\n",
            " [-1.58690814e+00 -4.37400375e+00  1.23046416e+00 -3.95544644e-01]\n",
            " [-1.64919373e+00  2.81007773e+00 -1.00204469e+00 -1.79585971e+00]\n",
            " [ 2.60971475e+00 -5.69762268e+00  2.29754656e+00  3.75309737e+00]\n",
            " [ 3.24329788e+00 -4.45445389e+00  4.90556952e-01  5.77559537e-02]\n",
            " [-8.92965370e+00  2.17243981e+00  2.10959199e+00  2.04789009e+00]\n",
            " [ 2.35215789e+00  1.05945516e+00  2.74211750e+00  8.14787704e-01]\n",
            " [ 3.43035666e+00 -4.02528157e+00 -3.79682001e+00  1.68568980e+00]\n",
            " [-8.71183187e+00  3.34980689e+00  7.43910551e-02  8.22266847e-01]\n",
            " [-8.79394404e+00 -4.96290041e-01  9.28501233e-01  3.97918085e+00]\n",
            " [ 1.15391044e-02  4.74983073e+00  7.41109816e+00  1.99114776e+00]\n",
            " [ 2.84486284e-01 -2.80425028e+00  1.01946837e+00  1.30473640e+00]\n",
            " [ 4.34779666e+00 -7.71715231e-01  2.08354568e+00  3.67735322e+00]\n",
            " [-2.62581724e-01 -8.44574584e+00  2.75671459e-02  3.53253026e+00]\n",
            " [ 5.82904837e+00 -1.92924790e+00  2.65093412e+00  2.76585783e-01]\n",
            " [-2.14819733e+00 -8.03468120e-03 -2.74840174e-01 -2.96983658e+00]\n",
            " [-4.11417112e+00 -8.41631022e-01  2.22355295e+00 -9.53838013e-01]\n",
            " [-8.95585235e+00 -5.92629606e-01  3.55235230e-01  1.49562446e+00]\n",
            " [ 4.64536939e-01  3.61378782e+00 -2.61453545e-01 -2.50155586e+00]\n",
            " [-2.17864843e+00  1.25421022e+00  3.47837216e+00  1.89307184e+00]\n",
            " [ 4.69796533e+00  3.29531879e+00 -1.35189525e+00  3.43429443e-01]\n",
            " [ 1.93883947e+00  3.13500357e+00  5.04176360e+00 -2.63399125e+00]\n",
            " [ 3.88379337e+00  9.12530508e+00  3.00243172e+00  2.14692751e+00]\n",
            " [ 3.05948357e+00 -2.51016086e+00  2.63679530e+00  4.16933812e+00]\n",
            " [-1.80788996e+00 -7.50255506e-01  5.10504392e-01 -1.64973342e-01]\n",
            " [ 5.81806226e+00 -2.04812357e-02  1.21402474e+00 -7.32128516e-01]\n",
            " [ 1.51875653e+01 -3.22464690e+00  4.16091480e+00  1.47447766e+00]\n",
            " [ 5.83032875e+00  1.77190965e+00  2.42741263e+00  1.47591760e+00]\n",
            " [-7.59383635e-01 -4.74248021e+00  8.60359604e+00  4.63204802e+00]\n",
            " [-3.64107037e+00  3.68470908e+00  4.21870298e+00  2.72683600e+00]\n",
            " [-2.10095327e+00  6.61306603e+00  5.04441929e+00  1.77483175e+00]\n",
            " [-1.13671086e+00  4.78873359e+00  5.22211728e+00  1.86891597e+00]\n",
            " [ 1.05909898e+00  8.70293034e+00 -7.19811877e-01  1.23227268e+01]\n",
            " [ 5.43788273e+00  2.58396157e+00 -3.20291975e+00 -8.82890508e-02]\n",
            " [ 3.26564530e+00 -3.21995265e+00 -8.01867411e-01  4.00960551e-01]\n",
            " [-1.88879968e+00  4.56468411e+00  4.94514247e+00 -2.32916995e+00]\n",
            " [-2.47805473e+00 -4.04227083e+00  3.09632043e+00 -1.12855088e+00]\n",
            " [ 8.89450165e+00  4.95280083e+00 -1.36978340e-01 -7.01166590e-01]\n",
            " [-3.41108184e+00  1.60548243e+00  3.18162485e+00 -5.04112992e+00]\n",
            " [ 6.63243799e-01 -2.20240035e+00 -3.73084298e+00 -1.49055048e+00]\n",
            " [ 2.39044274e-02  1.05942801e+00  4.91880171e+00 -2.74805860e+00]\n",
            " [-1.21973181e-01 -5.62974811e+00 -4.08946640e+00 -4.32203760e+00]\n",
            " [ 3.03468541e+00  3.95584672e+00  9.13216260e-01 -1.79366564e+00]\n",
            " [-7.16729450e+00  3.17105470e+00 -2.34543141e+00  6.62392492e-01]\n",
            " [ 3.39864096e+00 -6.56554452e-01 -2.67310543e+00 -1.91668055e-02]\n",
            " [-9.50747577e+00  8.02300030e-01 -1.52178025e+00  6.59436729e-01]\n",
            " [ 5.41808317e+00 -4.26820832e+00 -6.46958344e-01  2.77819472e+00]\n",
            " [ 4.04562616e+00 -6.40453206e-01 -2.80587060e+00 -1.33803927e+00]\n",
            " [ 1.69847209e+00  7.83112581e+00 -4.74563390e+00 -2.44064779e+00]\n",
            " [-2.61417494e+00  2.93231104e+00  1.81840583e+00 -6.07944796e+00]\n",
            " [-3.40944634e+00 -4.26746571e+00  2.66780661e+00 -3.54339566e+00]\n",
            " [-2.33560186e+00  1.08066847e+00 -2.80192570e+00 -1.01804009e+00]\n",
            " [ 4.90181462e-02 -4.68535768e+00 -2.25525505e+00 -2.31620665e+00]\n",
            " [ 1.54538501e+00  2.99588051e+00  3.89533407e+00 -7.25141923e+00]\n",
            " [-1.09992896e+00  4.92004111e+00 -1.79940807e+00 -2.98526569e+00]\n",
            " [ 1.05620196e+00  2.10504661e+00 -2.49225453e+00 -2.44689146e+00]\n",
            " [ 5.47072053e+00  4.72291123e+00 -1.46651744e+00  2.37726807e+00]\n",
            " [-8.55537333e+00  9.09687560e-01  1.48349095e+00  6.69465160e-01]\n",
            " [-2.73502870e-01 -3.92249748e-01 -3.01161605e+00  4.24720879e+00]\n",
            " [ 3.26962568e-01  3.21373874e+00 -1.96209835e+00 -3.31950299e-01]\n",
            " [ 1.60770877e+00  5.45543057e-01 -6.75151896e+00 -2.15127853e+00]\n",
            " [-1.52986920e+00 -6.90238418e-01  8.57352866e-01 -3.70109366e+00]\n",
            " [ 4.73419254e+00  3.99402488e+00 -8.45013791e-01 -8.61905449e-01]\n",
            " [ 2.65309725e+00  1.36778345e+00  2.50959386e-01 -3.99144602e+00]\n",
            " [-8.87549787e-01 -2.65532116e+00  1.57850747e+00  5.09121209e+00]\n",
            " [ 4.21049499e-01  7.87527349e-01 -2.74035994e+00  1.01602280e-01]\n",
            " [ 1.46274919e-01  4.31881703e+00 -1.79244748e+00 -6.35937873e-01]\n",
            " [ 6.30644487e+00  9.21035745e+00 -1.96709518e+00  1.29277440e+00]\n",
            " [ 9.12606109e-01  3.70322975e+00 -7.65663831e+00 -1.19915213e+00]\n",
            " [-1.01514582e+01  2.54715891e+00 -3.00618252e-01  1.63874491e-01]\n",
            " [ 1.21357712e-01 -8.96178070e-01 -2.44488318e+00 -4.25418160e+00]\n",
            " [ 2.22481697e+00 -8.04321913e-01  9.19810376e-01 -4.02601931e+00]\n",
            " [-8.18265153e+00  1.83511456e-01  2.94711339e+00  2.72403261e+00]\n",
            " [ 8.78201402e-01  4.89072372e-01 -4.67895643e+00 -2.85105810e+00]\n",
            " [ 3.82302789e+00  2.22531650e+00 -9.71915113e-01 -8.22277181e-01]\n",
            " [-1.05417871e+00 -1.69461557e+00  3.00183328e+00 -1.65948657e+00]\n",
            " [-8.02988797e+00  2.99362802e+00 -1.13590527e+00  1.25372820e+00]\n",
            " [-8.71509923e+00  1.65984123e+00 -8.79523051e-01  1.43845028e+00]\n",
            " [-8.19119803e+00  3.77070307e+00 -9.98247591e-01  1.99755382e+00]\n",
            " [ 1.21179929e+00 -3.84825162e+00  4.40683354e+00  3.54741699e+00]\n",
            " [ 4.65739805e+00 -5.06895344e+00  3.80305710e+00  3.65924769e-01]\n",
            " [-9.89894175e+00  4.85956924e-01 -2.63674951e-01  4.78932971e-01]\n",
            " [-3.84934114e+00 -4.07827488e+00 -1.45538055e+00 -3.23178643e+00]\n",
            " [ 1.08475144e+01  5.84326084e+00  4.69922404e+00 -3.18068093e-01]\n",
            " [-8.02855278e+00  1.94291615e+00 -1.70935127e+00  1.16596224e+00]\n",
            " [-9.29364480e+00  9.79302834e-01 -1.64684102e+00  1.36313971e+00]\n",
            " [-1.07444272e+00 -2.66379270e+00 -7.06246316e-01 -4.89470347e+00]\n",
            " [-1.00636325e+00  5.14477762e+00  1.67235710e+00 -1.51326318e+00]\n",
            " [ 2.30719279e+00  4.27153154e+00 -1.14333235e+00 -8.15335887e-01]\n",
            " [ 2.62970962e+00  1.09692773e+00  1.71811835e+00 -2.15631101e+00]\n",
            " [-1.09806431e-01  1.96656599e+00 -2.94266163e+00 -2.44067166e+00]\n",
            " [ 2.64414897e+00  4.45066873e+00  2.84721437e+00 -2.76757270e-01]\n",
            " [ 2.72990021e+00 -2.33465149e+00 -1.43645989e+00  9.40960187e-01]\n",
            " [-1.90387552e+00  4.41291265e+00  4.52065850e+00 -2.79280605e+00]\n",
            " [-2.60539159e+00 -2.98231337e+00  6.78205299e-02 -3.80179601e+00]\n",
            " [ 3.02081745e+00 -3.00184614e+00  8.37162371e-01 -1.98793796e+00]\n",
            " [ 1.90310056e-01  3.02518263e+00  5.87334370e+00 -5.59337268e-01]\n",
            " [ 3.79993397e+00  1.62611870e+00 -4.34506497e-01 -1.60058907e+00]\n",
            " [ 2.28710188e+00  2.43280872e-01 -6.88589921e+00  3.84543004e-01]\n",
            " [ 1.70474247e+00  6.43544469e-01 -2.98950463e+00 -9.54651252e-01]\n",
            " [ 3.54546242e-01 -6.20890209e+00 -2.20035569e+00 -1.18735456e+00]\n",
            " [-4.41261131e-02 -2.33884774e+00 -1.47515649e+00  1.73053807e+00]\n",
            " [-8.51436839e+00  3.52715580e+00 -1.72027696e+00  1.68594338e+00]\n",
            " [ 6.36922800e-01  1.01313434e+00 -4.05650290e+00 -3.66531034e+00]\n",
            " [ 2.26019613e+00 -1.60802942e-01 -3.58974365e+00  2.33670204e+00]\n",
            " [-9.67996312e+00 -7.59878065e-01 -1.22322274e+00  1.82603114e+00]\n",
            " [ 1.24138983e-01 -9.27649414e-01 -1.22218136e+00 -4.42967555e+00]\n",
            " [-9.61726219e+00  8.41065795e-01  5.12105070e-01  2.85119475e+00]\n",
            " [-2.55943922e+00 -2.04761995e+00  3.84983221e-01 -8.44589971e-01]\n",
            " [ 3.98005343e+00 -4.89865175e+00 -2.16590154e+00  4.08978568e+00]\n",
            " [-1.75770395e+00 -2.63537843e+00 -1.32914529e+00 -4.86061068e-01]\n",
            " [ 4.06857449e+00  4.84120821e+00 -1.46792847e+00  3.85086542e+00]\n",
            " [ 2.16980008e+00 -4.34952369e+00 -1.24677875e+00  6.26704380e-01]\n",
            " [-1.55779717e-01 -4.44065297e+00 -4.26030782e+00 -1.55077845e+00]\n",
            " [ 3.55874614e+00 -5.73097912e+00 -2.32358779e-02  8.92275993e-01]\n",
            " [-7.61844114e+00 -1.20100023e+00 -3.43689804e-01  2.92951200e+00]\n",
            " [-7.73082666e+00 -8.32360698e-01 -5.88518738e-01  2.29982666e+00]\n",
            " [ 2.61890918e+00 -4.63005240e+00 -1.71394639e+00  2.48053360e+00]\n",
            " [ 2.80887238e+00 -7.14752975e+00 -3.01487307e+00  2.82307969e+00]\n",
            " [ 6.74678989e+00  9.89609032e-01  4.09367165e-02  5.04116264e+00]\n",
            " [-2.88634075e-01 -1.65036282e+00 -2.92158663e+00  6.28754063e+00]\n",
            " [-4.72655487e+00 -3.25628419e+00  3.58109268e+00 -3.15022522e+00]\n",
            " [-5.01477874e-01 -2.19192381e+00  1.44416704e+00 -3.38375052e+00]\n",
            " [ 4.57411259e+00  5.48768573e+00 -2.35437061e-01  3.78066979e+00]\n",
            " [-2.54048337e+00 -2.62822990e+00 -2.23562929e+00 -1.05177109e+00]\n",
            " [ 2.51369646e-01 -3.56454327e+00 -3.84054723e+00  3.98924714e+00]\n",
            " [ 5.06183246e+00 -4.41388654e-01  4.55267616e+00 -5.79653392e-02]\n",
            " [-1.12920357e+00  3.25332201e+00 -1.96781511e+00  2.08289017e-01]\n",
            " [-1.16737477e+00 -2.87563700e+00 -4.48471551e+00 -8.66929713e-01]\n",
            " [-6.97266374e-01 -2.08404223e+00 -3.31295664e+00  7.97089943e-01]\n",
            " [-6.64271429e-01 -2.97969361e+00 -6.11562790e+00  6.97166237e-01]\n",
            " [-4.19558503e+00 -3.66423357e+00  3.21893880e+00 -3.50977401e+00]\n",
            " [-2.90108283e-01 -6.46389737e+00 -1.24713417e+00 -1.93613700e-01]\n",
            " [-1.21335813e+00 -6.70521614e+00  3.19502095e+00 -5.99391214e+00]\n",
            " [ 4.49825512e+00 -4.02816850e+00  3.86496719e-02  3.19271542e+00]\n",
            " [ 1.08356185e+00  2.85631079e+00 -5.94749047e+00  9.49730505e-01]\n",
            " [ 5.96130401e+00  1.22242681e+00 -1.98720764e+00  3.70423438e+00]\n",
            " [ 2.09742521e+00 -2.22017695e+00 -1.44336719e+00  1.00099701e+00]\n",
            " [ 3.65860649e+00 -5.19410482e+00 -9.99410307e-01 -3.95695379e+00]\n",
            " [ 8.36341241e+00 -6.01735988e+00  2.94807668e+00  1.19308701e+00]\n",
            " [ 3.12059266e+00  5.25526905e+00  1.07376264e+00  3.62018746e+00]\n",
            " [ 3.40211109e+00 -1.12046579e+00 -9.33426914e-01 -8.13053242e-01]\n",
            " [-5.29640734e+00 -7.86060552e-01 -1.44792639e+00  6.87392980e-02]\n",
            " [ 2.46096417e+00  1.84760671e+00  2.27719228e-01  6.60726497e-01]\n",
            " [ 3.64681385e+00  4.32452055e+00  4.62257822e+00 -3.64625565e+00]\n",
            " [ 5.85755139e+00  2.35128695e+00  5.15031053e+00 -1.37112260e+00]\n",
            " [-5.45197534e-01  6.52842049e+00 -1.49207497e+00 -2.25961108e+00]\n",
            " [ 2.62895896e+00  6.88920332e+00 -7.81250022e-01  8.24399986e-01]\n",
            " [-5.84996373e-01 -4.64425275e+00  4.44243949e+00 -1.48379435e+00]]\n"
          ]
        },
        {
          "output_type": "execute_result",
          "data": {
            "text/plain": [
              "(160, 4)"
            ]
          },
          "metadata": {},
          "execution_count": 226
        }
      ]
    },
    {
      "cell_type": "code",
      "source": [
        "t= x_trial_pca1[156:160, : ]\n",
        "t"
      ],
      "metadata": {
        "colab": {
          "base_uri": "https://localhost:8080/"
        },
        "id": "hpn7NMZF7wv8",
        "outputId": "55de8523-887b-4b06-b993-459143a74e1f"
      },
      "execution_count": null,
      "outputs": [
        {
          "output_type": "execute_result",
          "data": {
            "text/plain": [
              "array([[ 5.85755139,  2.35128695,  5.15031053, -1.3711226 ],\n",
              "       [-0.54519753,  6.52842049, -1.49207497, -2.25961108],\n",
              "       [ 2.62895896,  6.88920332, -0.78125002,  0.82439999],\n",
              "       [-0.58499637, -4.64425275,  4.44243949, -1.48379435]])"
            ]
          },
          "metadata": {},
          "execution_count": 227
        }
      ]
    },
    {
      "cell_type": "markdown",
      "source": [
        "**Multiple Linear Regression**"
      ],
      "metadata": {
        "id": "Ns1cIlWISKpB"
      }
    },
    {
      "cell_type": "code",
      "source": [
        "from sklearn.model_selection import train_test_split"
      ],
      "metadata": {
        "id": "GHEhOzL_U5rb"
      },
      "execution_count": null,
      "outputs": []
    },
    {
      "cell_type": "code",
      "source": [
        "X_pc= X_pca1\n",
        "Y_pc= df['Happiness_Score']"
      ],
      "metadata": {
        "id": "cH4I6_GGVHAN"
      },
      "execution_count": null,
      "outputs": []
    },
    {
      "cell_type": "code",
      "source": [
        "X_pc_train, X_pc_test, Y_pc_train, Y_pc_test = train_test_split(X_pc,Y_pc,test_size=0.4, random_state=104)"
      ],
      "metadata": {
        "id": "2zC4w7mKVUW3"
      },
      "execution_count": null,
      "outputs": []
    },
    {
      "cell_type": "code",
      "source": [
        "from sklearn.linear_model import LinearRegression"
      ],
      "metadata": {
        "id": "TTj_Vno4Vm9r"
      },
      "execution_count": null,
      "outputs": []
    },
    {
      "cell_type": "code",
      "source": [
        "lr= LinearRegression()"
      ],
      "metadata": {
        "id": "g1RbX2K-WCVj"
      },
      "execution_count": null,
      "outputs": []
    },
    {
      "cell_type": "code",
      "source": [
        "lr.fit(X_pc_train,Y_pc_train)"
      ],
      "metadata": {
        "colab": {
          "base_uri": "https://localhost:8080/"
        },
        "id": "g51nkSjRWFXo",
        "outputId": "78395965-1168-4e21-e78a-f530e64ae977"
      },
      "execution_count": null,
      "outputs": [
        {
          "output_type": "execute_result",
          "data": {
            "text/plain": [
              "LinearRegression()"
            ]
          },
          "metadata": {},
          "execution_count": 233
        }
      ]
    },
    {
      "cell_type": "code",
      "source": [
        "predictions_pc= lr.predict(X_pc_test)\n",
        "print(predictions_pc)"
      ],
      "metadata": {
        "id": "rO9BxlPKWOVa",
        "colab": {
          "base_uri": "https://localhost:8080/"
        },
        "outputId": "812e7402-b58f-4725-868d-37017cae51bf"
      },
      "execution_count": null,
      "outputs": [
        {
          "output_type": "stream",
          "name": "stdout",
          "text": [
            "[3.79225826 7.1899534  6.47362465 4.48452512 6.3043225  6.59507308\n",
            " 5.15625273 3.61305207 6.92541945 6.40882713 4.61180692 7.33274541\n",
            " 2.62533394 7.51967357 7.10529375 4.52131327 1.05023932 5.64243014\n",
            " 7.67159151 6.82729985 6.61061247 8.02765936 6.45560565 4.88447132\n",
            " 7.71410991 3.33567692 4.04015898 5.02354968 7.70591425 3.31420912\n",
            " 2.60892883 4.1963678  4.15787595 6.73876511 3.93653301 5.95214624\n",
            " 6.64742715 4.130818   5.55583414 2.76977948 6.11797216 4.66168307\n",
            " 6.67257702 7.21908101 2.98802207 5.94156984 5.59145158 6.9114571\n",
            " 5.97192765 6.47570235 7.76043486 6.1919745  4.13067368 6.6315321\n",
            " 7.42508698 4.59923857 7.22068369 8.41059128 5.69255254 5.93465453\n",
            " 5.8636727  5.59159864 7.30541288]\n"
          ]
        }
      ]
    },
    {
      "cell_type": "code",
      "source": [
        "import matplotlib.pyplot as plt\n",
        "plt.scatter(Y_test,predictions)"
      ],
      "metadata": {
        "id": "8taU0igCWcUh",
        "colab": {
          "base_uri": "https://localhost:8080/",
          "height": 282
        },
        "outputId": "48bd61e1-411f-4c2f-fb14-fe36154c85ae"
      },
      "execution_count": null,
      "outputs": [
        {
          "output_type": "execute_result",
          "data": {
            "text/plain": [
              "<matplotlib.collections.PathCollection at 0x7f60ec79dd10>"
            ]
          },
          "metadata": {},
          "execution_count": 235
        },
        {
          "output_type": "display_data",
          "data": {
            "text/plain": [
              "<Figure size 432x288 with 1 Axes>"
            ],
            "image/png": "[encoded data removed]"
          },
          "metadata": {
            "needs_background": "light"
          }
        }
      ]
    },
    {
      "cell_type": "code",
      "source": [
        "lr.intercept_"
      ],
      "metadata": {
        "colab": {
          "base_uri": "https://localhost:8080/"
        },
        "id": "qb__zBa7aNN5",
        "outputId": "0eea8ca6-58a3-4cdc-c39e-04f18423c196"
      },
      "execution_count": null,
      "outputs": [
        {
          "output_type": "execute_result",
          "data": {
            "text/plain": [
              "5.664852758105717"
            ]
          },
          "metadata": {},
          "execution_count": 236
        }
      ]
    },
    {
      "cell_type": "code",
      "source": [
        "lr.coef_"
      ],
      "metadata": {
        "colab": {
          "base_uri": "https://localhost:8080/"
        },
        "id": "NRVSQMLcaQqz",
        "outputId": "6d0d5166-b2d4-4d2c-b29d-5ade0f7dc00a"
      },
      "execution_count": null,
      "outputs": [
        {
          "output_type": "execute_result",
          "data": {
            "text/plain": [
              "array([-0.14835507, -0.41622066, -0.06336933, -0.06541886,  0.05956336,\n",
              "       -0.14427766,  0.01729968, -0.06512063,  0.04057742])"
            ]
          },
          "metadata": {},
          "execution_count": 237
        }
      ]
    },
    {
      "cell_type": "code",
      "source": [
        "from sklearn.metrics import mean_squared_error\n",
        "mean_squared_error(Y_pc_test, predictions_pc)"
      ],
      "metadata": {
        "colab": {
          "base_uri": "https://localhost:8080/"
        },
        "id": "z5xI2QcMaSIT",
        "outputId": "2e12be60-00f2-407f-b93a-e85636e016df"
      },
      "execution_count": null,
      "outputs": [
        {
          "output_type": "execute_result",
          "data": {
            "text/plain": [
              "2.950566875914733"
            ]
          },
          "metadata": {},
          "execution_count": 238
        }
      ]
    },
    {
      "cell_type": "code",
      "source": [],
      "metadata": {
        "id": "DYaKywM7aZHm"
      },
      "execution_count": null,
      "outputs": []
    },
    {
      "cell_type": "markdown",
      "source": [
        "**Random FOrest Regression**"
      ],
      "metadata": {
        "id": "SwEjSAWOYXpO"
      }
    },
    {
      "cell_type": "code",
      "source": [
        "\n",
        "from sklearn.ensemble import RandomForestRegressor\n",
        "regressor = RandomForestRegressor(n_estimators = 100, random_state = 0)\n",
        "regressor.fit(X_pc_train,Y_pc_train)\n",
        "\n"
      ],
      "metadata": {
        "colab": {
          "base_uri": "https://localhost:8080/"
        },
        "id": "tQnpZOg7dw0F",
        "outputId": "b83d6d47-2a0f-4f10-c1e3-404a6f38b266"
      },
      "execution_count": null,
      "outputs": [
        {
          "output_type": "execute_result",
          "data": {
            "text/plain": [
              "RandomForestRegressor(random_state=0)"
            ]
          },
          "metadata": {},
          "execution_count": 239
        }
      ]
    },
    {
      "cell_type": "code",
      "source": [
        "Y_pred = regressor.predict(X_pc_test)"
      ],
      "metadata": {
        "id": "vvawavRyeR2e"
      },
      "execution_count": null,
      "outputs": []
    },
    {
      "cell_type": "code",
      "source": [
        "X_pc_test.shape"
      ],
      "metadata": {
        "colab": {
          "base_uri": "https://localhost:8080/"
        },
        "id": "89BT1yBIsbt4",
        "outputId": "25b875ed-79fd-4d19-d3c2-adc8237c0217"
      },
      "execution_count": null,
      "outputs": [
        {
          "output_type": "execute_result",
          "data": {
            "text/plain": [
              "(63, 9)"
            ]
          },
          "metadata": {},
          "execution_count": 241
        }
      ]
    },
    {
      "cell_type": "code",
      "source": [
        "Y_pc_test.shape"
      ],
      "metadata": {
        "colab": {
          "base_uri": "https://localhost:8080/"
        },
        "id": "bfUyR0bosiZI",
        "outputId": "086d4eab-8d3d-4cd9-87a3-ae086589366b"
      },
      "execution_count": null,
      "outputs": [
        {
          "output_type": "execute_result",
          "data": {
            "text/plain": [
              "(63,)"
            ]
          },
          "metadata": {},
          "execution_count": 242
        }
      ]
    },
    {
      "cell_type": "code",
      "source": [
        "from sklearn.metrics import mean_squared_error\n",
        "mean_squared_error(Y_pc_test, Y_pred)"
      ],
      "metadata": {
        "colab": {
          "base_uri": "https://localhost:8080/"
        },
        "outputId": "f42b5ec8-2421-43a9-e079-1c235002e6dd",
        "id": "Zluig879hIyS"
      },
      "execution_count": null,
      "outputs": [
        {
          "output_type": "execute_result",
          "data": {
            "text/plain": [
              "3.5742039682539697"
            ]
          },
          "metadata": {},
          "execution_count": 243
        }
      ]
    },
    {
      "cell_type": "code",
      "source": [
        "from sklearn.metrics import r2_score\n",
        "r2_score(Y_pc_test, Y_pred)"
      ],
      "metadata": {
        "id": "Bd13Brrwnxv9",
        "colab": {
          "base_uri": "https://localhost:8080/"
        },
        "outputId": "cbb283dd-48fe-45c5-f7f6-9d29e78619ae"
      },
      "execution_count": null,
      "outputs": [
        {
          "output_type": "execute_result",
          "data": {
            "text/plain": [
              "0.1693485166452161"
            ]
          },
          "metadata": {},
          "execution_count": 244
        }
      ]
    },
    {
      "cell_type": "code",
      "source": [
        "#Y_pred_trial = regressor.predict(x_trial)"
      ],
      "metadata": {
        "id": "Z7MkOOUVpNkC"
      },
      "execution_count": null,
      "outputs": []
    },
    {
      "cell_type": "markdown",
      "source": [
        "**Time to see our problem as Classification Problem**"
      ],
      "metadata": {
        "id": "mfWe45lMS9Bm"
      }
    },
    {
      "cell_type": "markdown",
      "source": [
        "Conversion of values of 'Happiness Score' to integer values to use classification"
      ],
      "metadata": {
        "id": "uCthmwnz7mF8"
      }
    },
    {
      "cell_type": "code",
      "source": [
        "df['Happiness_Score'] = df['Happiness_Score'].fillna(0).astype(int)\n",
        "df['Happiness_Score'].values"
      ],
      "metadata": {
        "id": "NgrHgxIV7lCv",
        "colab": {
          "base_uri": "https://localhost:8080/"
        },
        "outputId": "eab4c8de-ed6f-4a01-f38a-6617f0c6e2f4"
      },
      "execution_count": null,
      "outputs": [
        {
          "output_type": "execute_result",
          "data": {
            "text/plain": [
              "array([ 9,  9,  4,  5,  6,  6,  7,  9,  1,  9,  8,  9,  8,  5,  8,  7,  7,\n",
              "        5,  8,  0,  6,  4,  6,  5,  9,  8,  7,  5,  9,  6,  4,  6,  3,  3,\n",
              "        7,  5,  7,  0,  0,  8,  2,  2,  3,  0,  7,  7,  9,  7,  6,  5,  4,\n",
              "        4,  7,  5,  0,  9,  8,  8,  8,  0,  5,  8,  7,  7,  6,  3,  6,  6,\n",
              "        9,  6,  4,  7,  6,  3,  5,  7,  5,  4,  2,  2,  6,  5,  0,  5,  6,\n",
              "        5,  6,  5,  6,  0,  8,  7,  9,  8,  0,  4,  7,  6,  3,  5,  8,  4,\n",
              "        3,  9,  4, 10,  5,  5,  4,  7,  4,  7,  6,  4,  6,  8, 10,  6,  6,\n",
              "        7,  8,  7,  3,  7,  9,  7,  7,  7,  6,  7,  6,  8,  6,  7,  2,  7,\n",
              "        7,  8,  5,  6,  5,  8,  9,  7, 10,  5,  5,  4,  7,  9,  1,  2,  7,\n",
              "       10,  6,  3])"
            ]
          },
          "metadata": {},
          "execution_count": 246
        }
      ]
    },
    {
      "cell_type": "markdown",
      "source": [
        "\n",
        "**Neural Networks for Classification**"
      ],
      "metadata": {
        "id": "PVWfKt-gnzQd"
      }
    },
    {
      "cell_type": "code",
      "source": [
        "X_pc1= X_pca1\n",
        "Y_pc1= df['Happiness_Score']"
      ],
      "metadata": {
        "id": "WYMLiFIq_RBR"
      },
      "execution_count": null,
      "outputs": []
    },
    {
      "cell_type": "code",
      "source": [
        "X_pc_train1, X_pc_test1, Y_pc_train1, Y_pc_test1 = train_test_split(X_pc1,Y_pc1,test_size=0.4, random_state=104)"
      ],
      "metadata": {
        "id": "kSl9WNCh_ubm"
      },
      "execution_count": null,
      "outputs": []
    },
    {
      "cell_type": "code",
      "source": [
        "from sklearn.neural_network import MLPClassifier\n",
        "MLP= MLPClassifier(solver='sgd',hidden_layer_sizes=(20,20,20,30),max_iter=5000,alpha=1e-05,activation='tanh')\n",
        "MLP.fit(X_pc_train1,Y_pc_train1.values.ravel())"
      ],
      "metadata": {
        "id": "2879SiI_px1S",
        "colab": {
          "base_uri": "https://localhost:8080/"
        },
        "outputId": "f3541317-bdad-4f51-a7e5-2f42490f89ef"
      },
      "execution_count": null,
      "outputs": [
        {
          "output_type": "execute_result",
          "data": {
            "text/plain": [
              "MLPClassifier(activation='tanh', alpha=1e-05,\n",
              "              hidden_layer_sizes=(20, 20, 20, 30), max_iter=5000, solver='sgd')"
            ]
          },
          "metadata": {},
          "execution_count": 249
        }
      ]
    },
    {
      "cell_type": "code",
      "source": [
        "predictions= MLP.predict(X_pc_test1)\n",
        "predictions"
      ],
      "metadata": {
        "id": "8sTVSL1N5xAA",
        "colab": {
          "base_uri": "https://localhost:8080/"
        },
        "outputId": "1c403ab3-25c9-4c8c-bff0-bf5533ab480c"
      },
      "execution_count": null,
      "outputs": [
        {
          "output_type": "execute_result",
          "data": {
            "text/plain": [
              "array([ 3,  7,  7,  5,  0,  9,  7,  6,  7,  7,  8,  9,  3,  7,  7,  3,  0,\n",
              "        6, 10,  9,  5,  7,  5,  0,  7,  6,  5,  0,  9,  3,  3,  0,  4,  7,\n",
              "        5,  8,  9,  6,  0,  6,  7,  4,  8,  9,  5,  0,  0, 10,  6,  5,  7,\n",
              "        6,  6,  7,  7,  5,  8,  7,  7,  7,  6,  8,  9])"
            ]
          },
          "metadata": {},
          "execution_count": 250
        }
      ]
    },
    {
      "cell_type": "code",
      "source": [
        "from sklearn.metrics import classification_report, confusion_matrix\n",
        "print(confusion_matrix(Y_pc_test1,predictions))\n",
        "print(classification_report(Y_pc_test1,predictions))"
      ],
      "metadata": {
        "id": "LOxDEFfupyAI",
        "colab": {
          "base_uri": "https://localhost:8080/"
        },
        "outputId": "75b9437a-8ec4-498f-adf6-677d7d4bacf1"
      },
      "execution_count": null,
      "outputs": [
        {
          "output_type": "stream",
          "name": "stdout",
          "text": [
            "[[1 0 0 0 0 0 0 0 0 0]\n",
            " [1 0 1 0 0 1 0 0 0 0]\n",
            " [0 0 1 0 0 2 0 0 0 0]\n",
            " [3 0 1 1 2 1 1 0 0 0]\n",
            " [1 0 0 0 3 2 2 0 0 0]\n",
            " [1 0 1 0 2 3 1 0 2 0]\n",
            " [1 0 0 1 1 0 8 2 1 0]\n",
            " [0 0 0 0 0 0 3 2 3 1]\n",
            " [0 0 1 0 0 0 2 1 1 0]\n",
            " [0 0 0 0 0 0 0 0 0 1]]\n",
            "              precision    recall  f1-score   support\n",
            "\n",
            "           0       0.12      1.00      0.22         1\n",
            "           2       0.00      0.00      0.00         3\n",
            "           3       0.20      0.33      0.25         3\n",
            "           4       0.50      0.11      0.18         9\n",
            "           5       0.38      0.38      0.38         8\n",
            "           6       0.33      0.30      0.32        10\n",
            "           7       0.47      0.57      0.52        14\n",
            "           8       0.40      0.22      0.29         9\n",
            "           9       0.14      0.20      0.17         5\n",
            "          10       0.50      1.00      0.67         1\n",
            "\n",
            "    accuracy                           0.33        63\n",
            "   macro avg       0.30      0.41      0.30        63\n",
            "weighted avg       0.36      0.33      0.32        63\n",
            "\n"
          ]
        },
        {
          "output_type": "stream",
          "name": "stderr",
          "text": [
            "/usr/local/lib/python3.7/dist-packages/sklearn/metrics/_classification.py:1318: UndefinedMetricWarning: Precision and F-score are ill-defined and being set to 0.0 in labels with no predicted samples. Use `zero_division` parameter to control this behavior.\n",
            "  _warn_prf(average, modifier, msg_start, len(result))\n",
            "/usr/local/lib/python3.7/dist-packages/sklearn/metrics/_classification.py:1318: UndefinedMetricWarning: Precision and F-score are ill-defined and being set to 0.0 in labels with no predicted samples. Use `zero_division` parameter to control this behavior.\n",
            "  _warn_prf(average, modifier, msg_start, len(result))\n",
            "/usr/local/lib/python3.7/dist-packages/sklearn/metrics/_classification.py:1318: UndefinedMetricWarning: Precision and F-score are ill-defined and being set to 0.0 in labels with no predicted samples. Use `zero_division` parameter to control this behavior.\n",
            "  _warn_prf(average, modifier, msg_start, len(result))\n"
          ]
        }
      ]
    },
    {
      "cell_type": "code",
      "source": [
        "from sklearn.metrics import r2_score\n",
        "r2_score(Y_pc_test1, predictions)"
      ],
      "metadata": {
        "id": "3LpdB4c3c5hq",
        "colab": {
          "base_uri": "https://localhost:8080/"
        },
        "outputId": "c42eb338-6e56-46bb-91e3-a7545a3d7320"
      },
      "execution_count": null,
      "outputs": [
        {
          "output_type": "execute_result",
          "data": {
            "text/plain": [
              "-0.22961680792646533"
            ]
          },
          "metadata": {},
          "execution_count": 252
        }
      ]
    },
    {
      "cell_type": "code",
      "source": [
        "from sklearn.metrics import accuracy_score\n",
        "accuracy_score(Y_pc_test1, predictions)"
      ],
      "metadata": {
        "id": "b2IN_L36cjAX",
        "colab": {
          "base_uri": "https://localhost:8080/"
        },
        "outputId": "5f1364a3-81bf-47ce-9079-25c7ae3f12ea"
      },
      "execution_count": null,
      "outputs": [
        {
          "output_type": "execute_result",
          "data": {
            "text/plain": [
              "0.3333333333333333"
            ]
          },
          "metadata": {},
          "execution_count": 253
        }
      ]
    },
    {
      "cell_type": "markdown",
      "source": [
        "**Support Vector Machine **"
      ],
      "metadata": {
        "id": "Nob45WbFViEL"
      }
    },
    {
      "cell_type": "code",
      "source": [
        "#Import svm model\n",
        "from sklearn import svm\n",
        "\n",
        "clf = svm.SVC(kernel='rbf')\n",
        "\n",
        "clf.fit(X_pc_train1, Y_pc_train1)\n",
        "\n",
        "y_pred = clf.predict(X_pc_test1)"
      ],
      "metadata": {
        "id": "Kgkq3eQ9ZuWB"
      },
      "execution_count": null,
      "outputs": []
    },
    {
      "cell_type": "code",
      "source": [
        "\n",
        "from sklearn import metrics\n",
        "\n",
        "print(\"Accuracy:\",metrics.accuracy_score(Y_pc_test1, y_pred))"
      ],
      "metadata": {
        "id": "Uo9duo42Z_iC",
        "colab": {
          "base_uri": "https://localhost:8080/"
        },
        "outputId": "fd93e35b-1094-4d84-d8f4-e08512a08b59"
      },
      "execution_count": null,
      "outputs": [
        {
          "output_type": "stream",
          "name": "stdout",
          "text": [
            "Accuracy: 0.25396825396825395\n"
          ]
        }
      ]
    },
    {
      "cell_type": "code",
      "source": [
        "from sklearn.metrics import r2_score\n",
        "r2_score(Y_pc_test1, y_pred)"
      ],
      "metadata": {
        "colab": {
          "base_uri": "https://localhost:8080/"
        },
        "id": "lcxKPfT2dHlg",
        "outputId": "5ff676d7-5098-408d-b39b-92c90df927d0"
      },
      "execution_count": null,
      "outputs": [
        {
          "output_type": "execute_result",
          "data": {
            "text/plain": [
              "0.23289960606422355"
            ]
          },
          "metadata": {},
          "execution_count": 256
        }
      ]
    },
    {
      "cell_type": "code",
      "source": [
        "from sklearn.metrics import classification_report, confusion_matrix\n",
        "print(confusion_matrix(Y_pc_test1,y_pred))\n",
        "print(classification_report(Y_pc_test1,y_pred))"
      ],
      "metadata": {
        "colab": {
          "base_uri": "https://localhost:8080/"
        },
        "id": "Pk12KCraeHAP",
        "outputId": "d0e022e1-dc8d-48fb-cbf5-f1bd41ced9fb"
      },
      "execution_count": null,
      "outputs": [
        {
          "output_type": "stream",
          "name": "stdout",
          "text": [
            "[[0 0 0 0 0 1 0 0 0 0]\n",
            " [0 0 1 0 0 2 0 0 0 0]\n",
            " [0 0 1 0 2 0 0 0 0 0]\n",
            " [0 0 1 0 3 3 2 0 0 0]\n",
            " [0 0 1 0 1 3 2 1 0 0]\n",
            " [0 0 0 0 2 5 2 0 1 0]\n",
            " [0 0 0 0 0 4 8 1 1 0]\n",
            " [0 0 0 0 0 1 6 0 2 0]\n",
            " [0 0 0 0 0 2 2 0 1 0]\n",
            " [0 0 0 0 0 0 1 0 0 0]]\n",
            "              precision    recall  f1-score   support\n",
            "\n",
            "           0       0.00      0.00      0.00         1\n",
            "           2       0.00      0.00      0.00         3\n",
            "           3       0.25      0.33      0.29         3\n",
            "           4       0.00      0.00      0.00         9\n",
            "           5       0.12      0.12      0.12         8\n",
            "           6       0.24      0.50      0.32        10\n",
            "           7       0.35      0.57      0.43        14\n",
            "           8       0.00      0.00      0.00         9\n",
            "           9       0.20      0.20      0.20         5\n",
            "          10       0.00      0.00      0.00         1\n",
            "\n",
            "    accuracy                           0.25        63\n",
            "   macro avg       0.12      0.17      0.14        63\n",
            "weighted avg       0.16      0.25      0.19        63\n",
            "\n"
          ]
        },
        {
          "output_type": "stream",
          "name": "stderr",
          "text": [
            "/usr/local/lib/python3.7/dist-packages/sklearn/metrics/_classification.py:1318: UndefinedMetricWarning: Precision and F-score are ill-defined and being set to 0.0 in labels with no predicted samples. Use `zero_division` parameter to control this behavior.\n",
            "  _warn_prf(average, modifier, msg_start, len(result))\n",
            "/usr/local/lib/python3.7/dist-packages/sklearn/metrics/_classification.py:1318: UndefinedMetricWarning: Precision and F-score are ill-defined and being set to 0.0 in labels with no predicted samples. Use `zero_division` parameter to control this behavior.\n",
            "  _warn_prf(average, modifier, msg_start, len(result))\n",
            "/usr/local/lib/python3.7/dist-packages/sklearn/metrics/_classification.py:1318: UndefinedMetricWarning: Precision and F-score are ill-defined and being set to 0.0 in labels with no predicted samples. Use `zero_division` parameter to control this behavior.\n",
            "  _warn_prf(average, modifier, msg_start, len(result))\n"
          ]
        }
      ]
    },
    {
      "cell_type": "markdown",
      "source": [
        "**Logistic Regression**"
      ],
      "metadata": {
        "id": "ORAfxkXWmAkW"
      }
    },
    {
      "cell_type": "code",
      "source": [
        "from sklearn.linear_model import LogisticRegression"
      ],
      "metadata": {
        "id": "IqgQh9EamCrl"
      },
      "execution_count": null,
      "outputs": []
    },
    {
      "cell_type": "code",
      "source": [
        "logisticRegr = LogisticRegression()"
      ],
      "metadata": {
        "id": "M_OZbLikmF6k"
      },
      "execution_count": null,
      "outputs": []
    },
    {
      "cell_type": "code",
      "source": [
        "logisticRegr.fit(X_pc_train1, Y_pc_train1)"
      ],
      "metadata": {
        "id": "wF802srqmIIX",
        "colab": {
          "base_uri": "https://localhost:8080/"
        },
        "outputId": "590ab9df-e303-4a5b-85c6-b07d6f6d0ee6"
      },
      "execution_count": null,
      "outputs": [
        {
          "output_type": "stream",
          "name": "stderr",
          "text": [
            "/usr/local/lib/python3.7/dist-packages/sklearn/linear_model/_logistic.py:818: ConvergenceWarning: lbfgs failed to converge (status=1):\n",
            "STOP: TOTAL NO. of ITERATIONS REACHED LIMIT.\n",
            "\n",
            "Increase the number of iterations (max_iter) or scale the data as shown in:\n",
            "    https://scikit-learn.org/stable/modules/preprocessing.html\n",
            "Please also refer to the documentation for alternative solver options:\n",
            "    https://scikit-learn.org/stable/modules/linear_model.html#logistic-regression\n",
            "  extra_warning_msg=_LOGISTIC_SOLVER_CONVERGENCE_MSG,\n"
          ]
        },
        {
          "output_type": "execute_result",
          "data": {
            "text/plain": [
              "LogisticRegression()"
            ]
          },
          "metadata": {},
          "execution_count": 260
        }
      ]
    },
    {
      "cell_type": "code",
      "source": [
        "predictions_logistic_ = logisticRegr.predict(X_pc_test1)"
      ],
      "metadata": {
        "id": "dlHvVt2bmRmw"
      },
      "execution_count": null,
      "outputs": []
    },
    {
      "cell_type": "code",
      "source": [
        "score = logisticRegr.score(X_pc_test1, Y_pc_test1)\n",
        "print(score)"
      ],
      "metadata": {
        "id": "1Ftg0RS8mXKa",
        "colab": {
          "base_uri": "https://localhost:8080/"
        },
        "outputId": "a6cf9966-6c24-478f-9901-2caab6f0c274"
      },
      "execution_count": null,
      "outputs": [
        {
          "output_type": "stream",
          "name": "stdout",
          "text": [
            "0.19047619047619047\n"
          ]
        }
      ]
    },
    {
      "cell_type": "code",
      "source": [
        "from sklearn import metrics\n",
        "\n",
        "print(\"Accuracy:\",metrics.accuracy_score(Y_pc_test1, predictions_logistic_))"
      ],
      "metadata": {
        "colab": {
          "base_uri": "https://localhost:8080/"
        },
        "id": "-HsDuCkGWIGe",
        "outputId": "cc9f6fe4-d73c-4451-ac55-378e9a4b0629"
      },
      "execution_count": null,
      "outputs": [
        {
          "output_type": "stream",
          "name": "stdout",
          "text": [
            "Accuracy: 0.19047619047619047\n"
          ]
        }
      ]
    },
    {
      "cell_type": "code",
      "source": [
        "from sklearn.metrics import classification_report, confusion_matrix\n",
        "print(confusion_matrix(Y_pc_test1,predictions_logistic_))\n",
        "print(classification_report(Y_pc_test1,predictions_logistic_))"
      ],
      "metadata": {
        "colab": {
          "base_uri": "https://localhost:8080/"
        },
        "id": "CEIcvVJc-g3E",
        "outputId": "834ea84b-4183-4361-a2c2-a5cd2dd01f05"
      },
      "execution_count": null,
      "outputs": [
        {
          "output_type": "stream",
          "name": "stdout",
          "text": [
            "[[0 0 0 0 0 1 0 0 0 0]\n",
            " [1 0 2 0 0 0 0 0 0 0]\n",
            " [0 0 1 0 1 1 0 0 0 0]\n",
            " [0 0 2 2 3 1 1 0 0 0]\n",
            " [1 0 1 0 2 2 1 0 1 0]\n",
            " [1 0 0 1 3 1 1 1 2 0]\n",
            " [1 0 0 1 0 3 4 3 2 0]\n",
            " [0 0 0 0 0 1 4 1 3 0]\n",
            " [0 0 0 1 0 1 1 1 1 0]\n",
            " [0 0 0 0 0 0 1 0 0 0]]\n",
            "              precision    recall  f1-score   support\n",
            "\n",
            "           0       0.00      0.00      0.00         1\n",
            "           2       0.00      0.00      0.00         3\n",
            "           3       0.17      0.33      0.22         3\n",
            "           4       0.40      0.22      0.29         9\n",
            "           5       0.22      0.25      0.24         8\n",
            "           6       0.09      0.10      0.10        10\n",
            "           7       0.31      0.29      0.30        14\n",
            "           8       0.17      0.11      0.13         9\n",
            "           9       0.11      0.20      0.14         5\n",
            "          10       0.00      0.00      0.00         1\n",
            "\n",
            "    accuracy                           0.19        63\n",
            "   macro avg       0.15      0.15      0.14        63\n",
            "weighted avg       0.21      0.19      0.19        63\n",
            "\n"
          ]
        },
        {
          "output_type": "stream",
          "name": "stderr",
          "text": [
            "/usr/local/lib/python3.7/dist-packages/sklearn/metrics/_classification.py:1318: UndefinedMetricWarning: Precision and F-score are ill-defined and being set to 0.0 in labels with no predicted samples. Use `zero_division` parameter to control this behavior.\n",
            "  _warn_prf(average, modifier, msg_start, len(result))\n",
            "/usr/local/lib/python3.7/dist-packages/sklearn/metrics/_classification.py:1318: UndefinedMetricWarning: Precision and F-score are ill-defined and being set to 0.0 in labels with no predicted samples. Use `zero_division` parameter to control this behavior.\n",
            "  _warn_prf(average, modifier, msg_start, len(result))\n",
            "/usr/local/lib/python3.7/dist-packages/sklearn/metrics/_classification.py:1318: UndefinedMetricWarning: Precision and F-score are ill-defined and being set to 0.0 in labels with no predicted samples. Use `zero_division` parameter to control this behavior.\n",
            "  _warn_prf(average, modifier, msg_start, len(result))\n"
          ]
        }
      ]
    },
    {
      "cell_type": "markdown",
      "source": [
        "**Conversion of 11 classes into 4 classes**"
      ],
      "metadata": {
        "id": "AHk58GRFWaxP"
      }
    },
    {
      "cell_type": "code",
      "source": [
        "df['Happiness_Score'].values"
      ],
      "metadata": {
        "id": "735562tVilDR",
        "colab": {
          "base_uri": "https://localhost:8080/"
        },
        "outputId": "7e805f44-6586-4b44-9657-aa1622e84483"
      },
      "execution_count": null,
      "outputs": [
        {
          "output_type": "execute_result",
          "data": {
            "text/plain": [
              "array([ 9,  9,  4,  5,  6,  6,  7,  9,  1,  9,  8,  9,  8,  5,  8,  7,  7,\n",
              "        5,  8,  0,  6,  4,  6,  5,  9,  8,  7,  5,  9,  6,  4,  6,  3,  3,\n",
              "        7,  5,  7,  0,  0,  8,  2,  2,  3,  0,  7,  7,  9,  7,  6,  5,  4,\n",
              "        4,  7,  5,  0,  9,  8,  8,  8,  0,  5,  8,  7,  7,  6,  3,  6,  6,\n",
              "        9,  6,  4,  7,  6,  3,  5,  7,  5,  4,  2,  2,  6,  5,  0,  5,  6,\n",
              "        5,  6,  5,  6,  0,  8,  7,  9,  8,  0,  4,  7,  6,  3,  5,  8,  4,\n",
              "        3,  9,  4, 10,  5,  5,  4,  7,  4,  7,  6,  4,  6,  8, 10,  6,  6,\n",
              "        7,  8,  7,  3,  7,  9,  7,  7,  7,  6,  7,  6,  8,  6,  7,  2,  7,\n",
              "        7,  8,  5,  6,  5,  8,  9,  7, 10,  5,  5,  4,  7,  9,  1,  2,  7,\n",
              "       10,  6,  3])"
            ]
          },
          "metadata": {},
          "execution_count": 265
        }
      ]
    },
    {
      "cell_type": "code",
      "source": [
        "df['Happiness_Score'] = df['Happiness_Score'].replace(to_replace=[0,1,2],value=1)\n",
        "df['Happiness_Score'].values"
      ],
      "metadata": {
        "id": "DNZZeCrzilGt",
        "colab": {
          "base_uri": "https://localhost:8080/"
        },
        "outputId": "c65a2f96-2a9a-465d-8752-4e1262737c8a"
      },
      "execution_count": null,
      "outputs": [
        {
          "output_type": "execute_result",
          "data": {
            "text/plain": [
              "array([ 9,  9,  4,  5,  6,  6,  7,  9,  1,  9,  8,  9,  8,  5,  8,  7,  7,\n",
              "        5,  8,  1,  6,  4,  6,  5,  9,  8,  7,  5,  9,  6,  4,  6,  3,  3,\n",
              "        7,  5,  7,  1,  1,  8,  1,  1,  3,  1,  7,  7,  9,  7,  6,  5,  4,\n",
              "        4,  7,  5,  1,  9,  8,  8,  8,  1,  5,  8,  7,  7,  6,  3,  6,  6,\n",
              "        9,  6,  4,  7,  6,  3,  5,  7,  5,  4,  1,  1,  6,  5,  1,  5,  6,\n",
              "        5,  6,  5,  6,  1,  8,  7,  9,  8,  1,  4,  7,  6,  3,  5,  8,  4,\n",
              "        3,  9,  4, 10,  5,  5,  4,  7,  4,  7,  6,  4,  6,  8, 10,  6,  6,\n",
              "        7,  8,  7,  3,  7,  9,  7,  7,  7,  6,  7,  6,  8,  6,  7,  1,  7,\n",
              "        7,  8,  5,  6,  5,  8,  9,  7, 10,  5,  5,  4,  7,  9,  1,  1,  7,\n",
              "       10,  6,  3])"
            ]
          },
          "metadata": {},
          "execution_count": 266
        }
      ]
    },
    {
      "cell_type": "code",
      "source": [
        "df['Happiness_Score'] = df['Happiness_Score'].replace(to_replace=[3,4,5],value=2)\n",
        "df['Happiness_Score'].values"
      ],
      "metadata": {
        "colab": {
          "base_uri": "https://localhost:8080/"
        },
        "id": "JF-eMJuv8V8w",
        "outputId": "64ca5f95-c429-44df-8d53-e9aa2109fff0"
      },
      "execution_count": null,
      "outputs": [
        {
          "output_type": "execute_result",
          "data": {
            "text/plain": [
              "array([ 9,  9,  2,  2,  6,  6,  7,  9,  1,  9,  8,  9,  8,  2,  8,  7,  7,\n",
              "        2,  8,  1,  6,  2,  6,  2,  9,  8,  7,  2,  9,  6,  2,  6,  2,  2,\n",
              "        7,  2,  7,  1,  1,  8,  1,  1,  2,  1,  7,  7,  9,  7,  6,  2,  2,\n",
              "        2,  7,  2,  1,  9,  8,  8,  8,  1,  2,  8,  7,  7,  6,  2,  6,  6,\n",
              "        9,  6,  2,  7,  6,  2,  2,  7,  2,  2,  1,  1,  6,  2,  1,  2,  6,\n",
              "        2,  6,  2,  6,  1,  8,  7,  9,  8,  1,  2,  7,  6,  2,  2,  8,  2,\n",
              "        2,  9,  2, 10,  2,  2,  2,  7,  2,  7,  6,  2,  6,  8, 10,  6,  6,\n",
              "        7,  8,  7,  2,  7,  9,  7,  7,  7,  6,  7,  6,  8,  6,  7,  1,  7,\n",
              "        7,  8,  2,  6,  2,  8,  9,  7, 10,  2,  2,  2,  7,  9,  1,  1,  7,\n",
              "       10,  6,  2])"
            ]
          },
          "metadata": {},
          "execution_count": 267
        }
      ]
    },
    {
      "cell_type": "code",
      "source": [
        "df['Happiness_Score'] = df['Happiness_Score'].replace(to_replace=[6,7,8],value=3)\n",
        "df['Happiness_Score'].values"
      ],
      "metadata": {
        "colab": {
          "base_uri": "https://localhost:8080/"
        },
        "id": "iAN07a_n8fTv",
        "outputId": "db042bbf-d7ac-4249-be2e-e4fb6f4d1992"
      },
      "execution_count": null,
      "outputs": [
        {
          "output_type": "execute_result",
          "data": {
            "text/plain": [
              "array([ 9,  9,  2,  2,  3,  3,  3,  9,  1,  9,  3,  9,  3,  2,  3,  3,  3,\n",
              "        2,  3,  1,  3,  2,  3,  2,  9,  3,  3,  2,  9,  3,  2,  3,  2,  2,\n",
              "        3,  2,  3,  1,  1,  3,  1,  1,  2,  1,  3,  3,  9,  3,  3,  2,  2,\n",
              "        2,  3,  2,  1,  9,  3,  3,  3,  1,  2,  3,  3,  3,  3,  2,  3,  3,\n",
              "        9,  3,  2,  3,  3,  2,  2,  3,  2,  2,  1,  1,  3,  2,  1,  2,  3,\n",
              "        2,  3,  2,  3,  1,  3,  3,  9,  3,  1,  2,  3,  3,  2,  2,  3,  2,\n",
              "        2,  9,  2, 10,  2,  2,  2,  3,  2,  3,  3,  2,  3,  3, 10,  3,  3,\n",
              "        3,  3,  3,  2,  3,  9,  3,  3,  3,  3,  3,  3,  3,  3,  3,  1,  3,\n",
              "        3,  3,  2,  3,  2,  3,  9,  3, 10,  2,  2,  2,  3,  9,  1,  1,  3,\n",
              "       10,  3,  2])"
            ]
          },
          "metadata": {},
          "execution_count": 268
        }
      ]
    },
    {
      "cell_type": "code",
      "source": [
        "df['Happiness_Score'] = df['Happiness_Score'].replace(to_replace=[9,10],value=4)\n",
        "df['Happiness_Score'].values"
      ],
      "metadata": {
        "colab": {
          "base_uri": "https://localhost:8080/"
        },
        "id": "0pojPgBC8k9P",
        "outputId": "ae84076f-a654-4021-939c-9c7c7f4ab120"
      },
      "execution_count": null,
      "outputs": [
        {
          "output_type": "execute_result",
          "data": {
            "text/plain": [
              "array([4, 4, 2, 2, 3, 3, 3, 4, 1, 4, 3, 4, 3, 2, 3, 3, 3, 2, 3, 1, 3, 2,\n",
              "       3, 2, 4, 3, 3, 2, 4, 3, 2, 3, 2, 2, 3, 2, 3, 1, 1, 3, 1, 1, 2, 1,\n",
              "       3, 3, 4, 3, 3, 2, 2, 2, 3, 2, 1, 4, 3, 3, 3, 1, 2, 3, 3, 3, 3, 2,\n",
              "       3, 3, 4, 3, 2, 3, 3, 2, 2, 3, 2, 2, 1, 1, 3, 2, 1, 2, 3, 2, 3, 2,\n",
              "       3, 1, 3, 3, 4, 3, 1, 2, 3, 3, 2, 2, 3, 2, 2, 4, 2, 4, 2, 2, 2, 3,\n",
              "       2, 3, 3, 2, 3, 3, 4, 3, 3, 3, 3, 3, 2, 3, 4, 3, 3, 3, 3, 3, 3, 3,\n",
              "       3, 3, 1, 3, 3, 3, 2, 3, 2, 3, 4, 3, 4, 2, 2, 2, 3, 4, 1, 1, 3, 4,\n",
              "       3, 2])"
            ]
          },
          "metadata": {},
          "execution_count": 269
        }
      ]
    },
    {
      "cell_type": "markdown",
      "source": [
        "**Reduction of features from 9 to 4**"
      ],
      "metadata": {
        "id": "95Agym1zXMKb"
      }
    },
    {
      "cell_type": "code",
      "source": [
        "import sklearn.decomposition as skd\n",
        "\n",
        "pca_finder = skd.PCA(n_components=4)\n",
        "\n",
        "pca_finder.fit(X)\n",
        "X_pca_new = pca_finder.transform(X)\n",
        "print(\"Number of reduced dimensions: \"+str(X_pca_new.shape[1]))"
      ],
      "metadata": {
        "colab": {
          "base_uri": "https://localhost:8080/"
        },
        "id": "i6ZAwiwxqZSX",
        "outputId": "a1a36f86-c6be-46a2-cb02-5bdd86c3ef07"
      },
      "execution_count": null,
      "outputs": [
        {
          "output_type": "stream",
          "name": "stdout",
          "text": [
            "Number of reduced dimensions: 4\n"
          ]
        }
      ]
    },
    {
      "cell_type": "markdown",
      "source": [
        "**Neural Network for 4 features**"
      ],
      "metadata": {
        "id": "jJvUyoqaXV9w"
      }
    },
    {
      "cell_type": "code",
      "source": [
        "from sklearn.model_selection import train_test_split"
      ],
      "metadata": {
        "id": "uNU6u7D7xzR2"
      },
      "execution_count": null,
      "outputs": []
    },
    {
      "cell_type": "code",
      "source": [
        "X_pca_new= X_pca_new\n",
        "Y_pca_new= df['Happiness_Score']"
      ],
      "metadata": {
        "id": "zdJySJtny6MK"
      },
      "execution_count": null,
      "outputs": []
    },
    {
      "cell_type": "code",
      "source": [
        "X_pca_new_train, X_pca_new_test, Y_pca_new_train, Y_pca_new_test = train_test_split(X_pca_new,Y_pca_new,test_size=0.4, random_state=104)"
      ],
      "metadata": {
        "id": "S8xV9b1ryZKH"
      },
      "execution_count": null,
      "outputs": []
    },
    {
      "cell_type": "code",
      "source": [
        "from sklearn.neural_network import MLPClassifier\n",
        "MLP= MLPClassifier(solver='sgd',hidden_layer_sizes=(20,20,20,30,4,6),max_iter=5000,alpha=1e-05,activation='relu')\n",
        "MLP.fit(X_pca_new_train,Y_pca_new_train.values.ravel())"
      ],
      "metadata": {
        "id": "TmN9oYRezIsf",
        "colab": {
          "base_uri": "https://localhost:8080/"
        },
        "outputId": "b676e238-2f46-4d0d-daeb-4f564d2cd27a"
      },
      "execution_count": null,
      "outputs": [
        {
          "output_type": "stream",
          "name": "stderr",
          "text": [
            "/usr/local/lib/python3.7/dist-packages/sklearn/neural_network/_multilayer_perceptron.py:696: ConvergenceWarning: Stochastic Optimizer: Maximum iterations (5000) reached and the optimization hasn't converged yet.\n",
            "  ConvergenceWarning,\n"
          ]
        },
        {
          "output_type": "execute_result",
          "data": {
            "text/plain": [
              "MLPClassifier(alpha=1e-05, hidden_layer_sizes=(20, 20, 20, 30, 4, 6),\n",
              "              max_iter=5000, solver='sgd')"
            ]
          },
          "metadata": {},
          "execution_count": 274
        }
      ]
    },
    {
      "cell_type": "code",
      "source": [
        "predictions_new= MLP.predict(X_pca_new_test)\n",
        "predictions_new"
      ],
      "metadata": {
        "colab": {
          "base_uri": "https://localhost:8080/"
        },
        "id": "WteST70p_Sb3",
        "outputId": "e8c6fd4f-8750-4e5a-cfd6-8759b771aa6c"
      },
      "execution_count": null,
      "outputs": [
        {
          "output_type": "execute_result",
          "data": {
            "text/plain": [
              "array([3, 3, 3, 2, 3, 3, 2, 1, 4, 4, 2, 4, 2, 3, 4, 2, 3, 2, 3, 4, 3, 4,\n",
              "       4, 1, 3, 2, 1, 2, 3, 2, 2, 2, 1, 3, 2, 3, 3, 2, 1, 1, 3, 2, 3, 3,\n",
              "       2, 1, 1, 4, 3, 3, 3, 4, 1, 3, 3, 2, 3, 3, 3, 4, 1, 2, 4])"
            ]
          },
          "metadata": {},
          "execution_count": 275
        }
      ]
    },
    {
      "cell_type": "code",
      "source": [
        "# NN for trial data points\n",
        "predictions_new_trial= MLP.predict(t)\n",
        "predictions_new_trial"
      ],
      "metadata": {
        "colab": {
          "base_uri": "https://localhost:8080/"
        },
        "id": "Jw2Wu1ZT21j_",
        "outputId": "e4da6e95-631f-4006-f8ba-b50a352548a5"
      },
      "execution_count": null,
      "outputs": [
        {
          "output_type": "execute_result",
          "data": {
            "text/plain": [
              "array([3, 2, 2, 3])"
            ]
          },
          "metadata": {},
          "execution_count": 276
        }
      ]
    },
    {
      "cell_type": "code",
      "source": [
        "from sklearn.metrics import accuracy_score\n",
        "accuracy_score(Y_pca_new_test, predictions_new)"
      ],
      "metadata": {
        "colab": {
          "base_uri": "https://localhost:8080/"
        },
        "id": "d0AHVx67_azb",
        "outputId": "0bd5a6b0-9a2e-49ba-d6bc-62ce1faa1074"
      },
      "execution_count": null,
      "outputs": [
        {
          "output_type": "execute_result",
          "data": {
            "text/plain": [
              "0.4444444444444444"
            ]
          },
          "metadata": {},
          "execution_count": 277
        }
      ]
    },
    {
      "cell_type": "code",
      "source": [
        "from sklearn.metrics import r2_score\n",
        "r2_score(Y_pca_new_test, predictions_new)"
      ],
      "metadata": {
        "colab": {
          "base_uri": "https://localhost:8080/"
        },
        "id": "NMpvOWMOerrP",
        "outputId": "182ce902-1532-40fe-8b6a-a2643b4445e4"
      },
      "execution_count": null,
      "outputs": [
        {
          "output_type": "execute_result",
          "data": {
            "text/plain": [
              "-0.8066604995374651"
            ]
          },
          "metadata": {},
          "execution_count": 278
        }
      ]
    },
    {
      "cell_type": "code",
      "source": [
        "from sklearn.metrics import classification_report, confusion_matrix\n",
        "print(confusion_matrix(Y_pca_new_test,predictions_new))\n",
        "print(classification_report(Y_pca_new_test,predictions_new))"
      ],
      "metadata": {
        "colab": {
          "base_uri": "https://localhost:8080/"
        },
        "id": "BDiRBoF5fE6W",
        "outputId": "6f2fb2c0-7321-4947-c3f6-f733b5393f0b"
      },
      "execution_count": null,
      "outputs": [
        {
          "output_type": "stream",
          "name": "stdout",
          "text": [
            "[[ 2  1  1  0]\n",
            " [ 3 11  4  2]\n",
            " [ 5  4 15  9]\n",
            " [ 0  1  5  0]]\n",
            "              precision    recall  f1-score   support\n",
            "\n",
            "           1       0.20      0.50      0.29         4\n",
            "           2       0.65      0.55      0.59        20\n",
            "           3       0.60      0.45      0.52        33\n",
            "           4       0.00      0.00      0.00         6\n",
            "\n",
            "    accuracy                           0.44        63\n",
            "   macro avg       0.36      0.38      0.35        63\n",
            "weighted avg       0.53      0.44      0.48        63\n",
            "\n"
          ]
        }
      ]
    },
    {
      "cell_type": "markdown",
      "source": [
        "**Support Vector Machine for 4 features**"
      ],
      "metadata": {
        "id": "Dvg6knb4XnkD"
      }
    },
    {
      "cell_type": "code",
      "source": [
        "#Import svm model\n",
        "from sklearn import svm\n",
        "clf = svm.SVC(kernel='rbf')\n",
        "clf.fit(X_pca_new_train, Y_pca_new_train)\n",
        "y_pred_reduced = clf.predict(X_pca_new_test)"
      ],
      "metadata": {
        "id": "1PK7sd7K_yi8"
      },
      "execution_count": null,
      "outputs": []
    },
    {
      "cell_type": "code",
      "source": [
        "# SVM for trial data points\n",
        "y_pred_reduced_trial = clf.predict(t)\n",
        "y_pred_reduced_trial"
      ],
      "metadata": {
        "colab": {
          "base_uri": "https://localhost:8080/"
        },
        "id": "lQMuXf9K4Rl7",
        "outputId": "59809440-c48e-4dab-bf0f-025f2a2a5458"
      },
      "execution_count": null,
      "outputs": [
        {
          "output_type": "execute_result",
          "data": {
            "text/plain": [
              "array([3, 2, 2, 3])"
            ]
          },
          "metadata": {},
          "execution_count": 281
        }
      ]
    },
    {
      "cell_type": "code",
      "source": [
        "from sklearn import metrics\n",
        "print(\"Accuracy:\",metrics.accuracy_score(Y_pca_new_test, y_pred_reduced))"
      ],
      "metadata": {
        "colab": {
          "base_uri": "https://localhost:8080/"
        },
        "id": "bKYvmj9DDBIE",
        "outputId": "12c6c8b8-db6f-4818-ca74-1b48734343d7"
      },
      "execution_count": null,
      "outputs": [
        {
          "output_type": "stream",
          "name": "stdout",
          "text": [
            "Accuracy: 0.5555555555555556\n"
          ]
        }
      ]
    },
    {
      "cell_type": "code",
      "source": [
        "from sklearn.metrics import classification_report, confusion_matrix\n",
        "print(confusion_matrix(Y_pca_new_test,y_pred_reduced))\n",
        "print(classification_report(Y_pc_test1,y_pred_reduced))"
      ],
      "metadata": {
        "colab": {
          "base_uri": "https://localhost:8080/"
        },
        "id": "LepfIkAMe8Ne",
        "outputId": "335864b7-f7e6-479a-f993-46ecd444395f"
      },
      "execution_count": null,
      "outputs": [
        {
          "output_type": "stream",
          "name": "stdout",
          "text": [
            "[[ 1  2  1  0]\n",
            " [ 2 10  7  1]\n",
            " [ 0  3 24  6]\n",
            " [ 0  1  5  0]]\n",
            "              precision    recall  f1-score   support\n",
            "\n",
            "           0       0.00      0.00      0.00         1\n",
            "           1       0.00      0.00      0.00         0\n",
            "           2       0.12      0.67      0.21         3\n",
            "           3       0.00      0.00      0.00         3\n",
            "           4       0.00      0.00      0.00         9\n",
            "           5       0.00      0.00      0.00         8\n",
            "           6       0.00      0.00      0.00        10\n",
            "           7       0.00      0.00      0.00        14\n",
            "           8       0.00      0.00      0.00         9\n",
            "           9       0.00      0.00      0.00         5\n",
            "          10       0.00      0.00      0.00         1\n",
            "\n",
            "    accuracy                           0.03        63\n",
            "   macro avg       0.01      0.06      0.02        63\n",
            "weighted avg       0.01      0.03      0.01        63\n",
            "\n"
          ]
        },
        {
          "output_type": "stream",
          "name": "stderr",
          "text": [
            "/usr/local/lib/python3.7/dist-packages/sklearn/metrics/_classification.py:1318: UndefinedMetricWarning: Precision and F-score are ill-defined and being set to 0.0 in labels with no predicted samples. Use `zero_division` parameter to control this behavior.\n",
            "  _warn_prf(average, modifier, msg_start, len(result))\n",
            "/usr/local/lib/python3.7/dist-packages/sklearn/metrics/_classification.py:1318: UndefinedMetricWarning: Recall and F-score are ill-defined and being set to 0.0 in labels with no true samples. Use `zero_division` parameter to control this behavior.\n",
            "  _warn_prf(average, modifier, msg_start, len(result))\n",
            "/usr/local/lib/python3.7/dist-packages/sklearn/metrics/_classification.py:1318: UndefinedMetricWarning: Precision and F-score are ill-defined and being set to 0.0 in labels with no predicted samples. Use `zero_division` parameter to control this behavior.\n",
            "  _warn_prf(average, modifier, msg_start, len(result))\n",
            "/usr/local/lib/python3.7/dist-packages/sklearn/metrics/_classification.py:1318: UndefinedMetricWarning: Recall and F-score are ill-defined and being set to 0.0 in labels with no true samples. Use `zero_division` parameter to control this behavior.\n",
            "  _warn_prf(average, modifier, msg_start, len(result))\n",
            "/usr/local/lib/python3.7/dist-packages/sklearn/metrics/_classification.py:1318: UndefinedMetricWarning: Precision and F-score are ill-defined and being set to 0.0 in labels with no predicted samples. Use `zero_division` parameter to control this behavior.\n",
            "  _warn_prf(average, modifier, msg_start, len(result))\n",
            "/usr/local/lib/python3.7/dist-packages/sklearn/metrics/_classification.py:1318: UndefinedMetricWarning: Recall and F-score are ill-defined and being set to 0.0 in labels with no true samples. Use `zero_division` parameter to control this behavior.\n",
            "  _warn_prf(average, modifier, msg_start, len(result))\n"
          ]
        }
      ]
    },
    {
      "cell_type": "markdown",
      "source": [
        "**Logistic Regression for 4 features**"
      ],
      "metadata": {
        "id": "yp2vFcioXzCF"
      }
    },
    {
      "cell_type": "code",
      "source": [
        "from sklearn.linear_model import LogisticRegression"
      ],
      "metadata": {
        "id": "kgWuExKSDIPc"
      },
      "execution_count": null,
      "outputs": []
    },
    {
      "cell_type": "code",
      "source": [
        "logisticRegr = LogisticRegression()"
      ],
      "metadata": {
        "id": "jyKulxGrGhlo"
      },
      "execution_count": null,
      "outputs": []
    },
    {
      "cell_type": "code",
      "source": [
        "logisticRegr.fit(X_pca_new_train, Y_pca_new_train)"
      ],
      "metadata": {
        "colab": {
          "base_uri": "https://localhost:8080/"
        },
        "id": "AkNeoqiaGXDc",
        "outputId": "3f379e62-137f-4553-c9ca-70ae6ee8596b"
      },
      "execution_count": null,
      "outputs": [
        {
          "output_type": "execute_result",
          "data": {
            "text/plain": [
              "LogisticRegression()"
            ]
          },
          "metadata": {},
          "execution_count": 286
        }
      ]
    },
    {
      "cell_type": "code",
      "source": [
        "predictions_logistic = logisticRegr.predict(X_pca_new_test)"
      ],
      "metadata": {
        "id": "chIEjY6YGjeU"
      },
      "execution_count": null,
      "outputs": []
    },
    {
      "cell_type": "code",
      "source": [
        "# Logistic reg for trial data points\n",
        "predictions_logistic_trial = logisticRegr.predict(t)\n",
        "predictions_logistic_trial"
      ],
      "metadata": {
        "colab": {
          "base_uri": "https://localhost:8080/"
        },
        "id": "r4hXCacf9cXE",
        "outputId": "c7e3d35a-d161-430c-de7f-21bb8bbe6e50"
      },
      "execution_count": null,
      "outputs": [
        {
          "output_type": "execute_result",
          "data": {
            "text/plain": [
              "array([2, 2, 2, 4])"
            ]
          },
          "metadata": {},
          "execution_count": 288
        }
      ]
    },
    {
      "cell_type": "code",
      "source": [
        "score = logisticRegr.score(X_pca_new_test, Y_pca_new_test)\n",
        "print(score)"
      ],
      "metadata": {
        "colab": {
          "base_uri": "https://localhost:8080/"
        },
        "id": "Kd_qO6J7GjzH",
        "outputId": "e20a00d3-518e-40f2-91cc-6129a17f846d"
      },
      "execution_count": null,
      "outputs": [
        {
          "output_type": "stream",
          "name": "stdout",
          "text": [
            "0.5714285714285714\n"
          ]
        }
      ]
    },
    {
      "cell_type": "code",
      "source": [
        "from sklearn.metrics import classification_report, confusion_matrix\n",
        "print(confusion_matrix(Y_pca_new_test,predictions_logistic))\n",
        "print(classification_report(Y_pc_test1,predictions_logistic))"
      ],
      "metadata": {
        "id": "2Nju87oaG4y1",
        "colab": {
          "base_uri": "https://localhost:8080/"
        },
        "outputId": "a7ad70f9-cd4b-460b-f5dd-af3896605c42"
      },
      "execution_count": null,
      "outputs": [
        {
          "output_type": "stream",
          "name": "stdout",
          "text": [
            "[[ 2  1  1  0]\n",
            " [ 0 12  7  1]\n",
            " [ 1  5 21  6]\n",
            " [ 0  1  4  1]]\n",
            "              precision    recall  f1-score   support\n",
            "\n",
            "           0       0.00      0.00      0.00         1\n",
            "           1       0.00      0.00      0.00         0\n",
            "           2       0.05      0.33      0.09         3\n",
            "           3       0.00      0.00      0.00         3\n",
            "           4       0.00      0.00      0.00         9\n",
            "           5       0.00      0.00      0.00         8\n",
            "           6       0.00      0.00      0.00        10\n",
            "           7       0.00      0.00      0.00        14\n",
            "           8       0.00      0.00      0.00         9\n",
            "           9       0.00      0.00      0.00         5\n",
            "          10       0.00      0.00      0.00         1\n",
            "\n",
            "    accuracy                           0.02        63\n",
            "   macro avg       0.00      0.03      0.01        63\n",
            "weighted avg       0.00      0.02      0.00        63\n",
            "\n"
          ]
        },
        {
          "output_type": "stream",
          "name": "stderr",
          "text": [
            "/usr/local/lib/python3.7/dist-packages/sklearn/metrics/_classification.py:1318: UndefinedMetricWarning: Precision and F-score are ill-defined and being set to 0.0 in labels with no predicted samples. Use `zero_division` parameter to control this behavior.\n",
            "  _warn_prf(average, modifier, msg_start, len(result))\n",
            "/usr/local/lib/python3.7/dist-packages/sklearn/metrics/_classification.py:1318: UndefinedMetricWarning: Recall and F-score are ill-defined and being set to 0.0 in labels with no true samples. Use `zero_division` parameter to control this behavior.\n",
            "  _warn_prf(average, modifier, msg_start, len(result))\n",
            "/usr/local/lib/python3.7/dist-packages/sklearn/metrics/_classification.py:1318: UndefinedMetricWarning: Precision and F-score are ill-defined and being set to 0.0 in labels with no predicted samples. Use `zero_division` parameter to control this behavior.\n",
            "  _warn_prf(average, modifier, msg_start, len(result))\n",
            "/usr/local/lib/python3.7/dist-packages/sklearn/metrics/_classification.py:1318: UndefinedMetricWarning: Recall and F-score are ill-defined and being set to 0.0 in labels with no true samples. Use `zero_division` parameter to control this behavior.\n",
            "  _warn_prf(average, modifier, msg_start, len(result))\n",
            "/usr/local/lib/python3.7/dist-packages/sklearn/metrics/_classification.py:1318: UndefinedMetricWarning: Precision and F-score are ill-defined and being set to 0.0 in labels with no predicted samples. Use `zero_division` parameter to control this behavior.\n",
            "  _warn_prf(average, modifier, msg_start, len(result))\n",
            "/usr/local/lib/python3.7/dist-packages/sklearn/metrics/_classification.py:1318: UndefinedMetricWarning: Recall and F-score are ill-defined and being set to 0.0 in labels with no true samples. Use `zero_division` parameter to control this behavior.\n",
            "  _warn_prf(average, modifier, msg_start, len(result))\n"
          ]
        }
      ]
    },
    {
      "cell_type": "code",
      "source": [
        "from sklearn import metrics\n",
        "print(\"Accuracy:\",metrics.accuracy_score(Y_pca_new_test,predictions_logistic ))"
      ],
      "metadata": {
        "colab": {
          "base_uri": "https://localhost:8080/"
        },
        "id": "uwWjCDo999RO",
        "outputId": "f71cb15a-6c50-441e-ae34-569cc73eed5b"
      },
      "execution_count": null,
      "outputs": [
        {
          "output_type": "stream",
          "name": "stdout",
          "text": [
            "Accuracy: 0.5714285714285714\n"
          ]
        }
      ]
    },
    {
      "cell_type": "code",
      "source": [],
      "metadata": {
        "id": "d1VSNlGF-UpS"
      },
      "execution_count": null,
      "outputs": []
    }
  ]
}